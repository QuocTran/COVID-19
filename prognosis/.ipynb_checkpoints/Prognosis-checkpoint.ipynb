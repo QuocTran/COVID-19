{
 "cells": [
  {
   "cell_type": "code",
   "execution_count": 1,
   "metadata": {},
   "outputs": [],
   "source": [
    "import pandas as pd\n",
    "import matplotlib.pyplot as plt\n",
    "import numpy as np\n",
    "import datetime as dt\n",
    "from sklearn import linear_model\n",
    "import pwlf"
   ]
  },
  {
   "cell_type": "markdown",
   "metadata": {},
   "source": [
    "# Assumptions"
   ]
  },
  {
   "cell_type": "code",
   "execution_count": 2,
   "metadata": {},
   "outputs": [],
   "source": [
    "DEATH_RATE = 0.01\n",
    "ICU_RATE = 0.05\n",
    "HOSPITAL_RATE = 0.15\n",
    "SYMPTOM_RATE = 0.2\n",
    "INFECT_2_HOSPITAL_TIME = 13\n",
    "HOSPITAL_2_ICU_TIME = 2\n",
    "ICU_2_DEATH_TIME = 5\n",
    "ICU_2_RECOVER_TIME = 11\n",
    "NOT_ICU_DISCHARGE_TIME = 7"
   ]
  },
  {
   "cell_type": "code",
   "execution_count": 3,
   "metadata": {},
   "outputs": [],
   "source": [
    "avg_icu_time = int(np.round((ICU_2_DEATH_TIME*DEATH_RATE + ICU_2_RECOVER_TIME*(ICU_RATE-DEATH_RATE))/ICU_RATE, 0)) \n",
    "#(included both dead (5) and alive(11)): (5+11*4)/5\n",
    "# Only ICU (critical) can develop death\n",
    "avg_hospital_time = int(np.round(((HOSPITAL_2_ICU_TIME+ICU_2_DEATH_TIME)*DEATH_RATE+\n",
    "                                  (HOSPITAL_2_ICU_TIME+ICU_2_RECOVER_TIME+NOT_ICU_DISCHARGE_TIME)*(ICU_RATE-DEATH_RATE)+\n",
    "                                  NOT_ICU_DISCHARGE_TIME*(HOSPITAL_RATE-ICU_RATE))/HOSPITAL_RATE))\n",
    "#Average hospital time is 10 (assume 7 days discharge if not in ICU or come back from ICU): ((2+5)+(2+11+7)*4)+7*10)/15"
   ]
  },
  {
   "cell_type": "markdown",
   "metadata": {},
   "source": [
    "# Data"
   ]
  },
  {
   "cell_type": "code",
   "execution_count": 4,
   "metadata": {},
   "outputs": [],
   "source": [
    "def get_global_death_data(csv_file='../csse_covid_19_data/csse_covid_19_time_series/time_series_covid19_deaths_global.csv'):\n",
    "    death_data = pd.read_csv(csv_file)\n",
    "    return death_data.rename(index=str, columns={\"Country/Region\": \"Country\", \"Province/State\": \"State\"})"
   ]
  },
  {
   "cell_type": "code",
   "execution_count": 5,
   "metadata": {},
   "outputs": [],
   "source": [
    "def get_US_death_data(csv_file='../csse_covid_19_data/csse_covid_19_time_series/time_series_covid19_deaths_US.csv'):\n",
    "    death_data = pd.read_csv(csv_file)\n",
    "    return death_data.rename(index=str, columns={\"Country_Region\": \"Country\", \n",
    "                                                 \"Province_State\": \"State\", \n",
    "                                                 \"Admin2\": \"County\"})"
   ]
  },
  {
   "cell_type": "code",
   "execution_count": 6,
   "metadata": {},
   "outputs": [],
   "source": [
    "def get_death_data_by_country(country):\n",
    "    global_death_data = get_global_death_data()\n",
    "    local_death_data = global_death_data.query('Country == \"{}\"'.format(country)).iloc[:,4:].T.sum(axis=1).to_frame()\n",
    "    local_death_data.index = pd.to_datetime(local_death_data.index)\n",
    "    return local_death_data[local_death_data>0].dropna()"
   ]
  },
  {
   "cell_type": "code",
   "execution_count": 7,
   "metadata": {},
   "outputs": [],
   "source": [
    "def get_US_death_data_by_state(state):\n",
    "    US_death_data = get_US_death_data()\n",
    "    local_death_data = US_death_data.query('State == \"{}\"'.format(state)).iloc[:,12:].T.sum(axis=1).to_frame()\n",
    "    local_death_data.index = pd.to_datetime(local_death_data.index)\n",
    "    return local_death_data[local_death_data>0].dropna()"
   ]
  },
  {
   "cell_type": "code",
   "execution_count": 8,
   "metadata": {},
   "outputs": [],
   "source": [
    "def get_US_death_data_by_county_and_state(county, state):\n",
    "    US_death_data = get_US_death_data()\n",
    "    local_death_data = US_death_data.query('County == \"{}\" and State == \"{}\"'.format(county, state)).iloc[:,12:].T.sum(axis=1).to_frame()\n",
    "    local_death_data.index = pd.to_datetime(local_death_data.index)\n",
    "    return local_death_data[local_death_data>0].dropna()"
   ]
  },
  {
   "cell_type": "code",
   "execution_count": 9,
   "metadata": {},
   "outputs": [],
   "source": [
    "def get_daily_death(local_death_data):\n",
    "    return local_death_data.diff().fillna(0)"
   ]
  },
  {
   "cell_type": "markdown",
   "metadata": {},
   "source": [
    "#  Projection"
   ]
  },
  {
   "cell_type": "code",
   "execution_count": 10,
   "metadata": {},
   "outputs": [],
   "source": [
    "def get_impute_from_death(death_row, periods, end_date_offset=0):\n",
    "    date_ind = death_row.name\n",
    "    end_date = date_ind + dt.timedelta(end_date_offset)\n",
    "    date_range = pd.date_range(end=end_date, periods=periods)\n",
    "    return pd.DataFrame(death_row.tolist()*periods, index=date_range)"
   ]
  },
  {
   "cell_type": "code",
   "execution_count": 11,
   "metadata": {},
   "outputs": [],
   "source": [
    "def get_hospital_beds_from_death(death_row):\n",
    "    '''Get imputation of hospital beds needed from one day record of new death'''\n",
    "    dead_hospital_use_periods = HOSPITAL_2_ICU_TIME+ICU_2_DEATH_TIME\n",
    "    dead_hospital_use = get_impute_from_death(death_row=death_row, \n",
    "                                              periods=dead_hospital_use_periods)\n",
    "    ICU_recovered_hospital_use_periods = HOSPITAL_2_ICU_TIME+ICU_2_RECOVER_TIME+NOT_ICU_DISCHARGE_TIME\n",
    "    ICU_recovered_hospital_use_end_date_offset = ICU_2_RECOVER_TIME-ICU_2_DEATH_TIME+NOT_ICU_DISCHARGE_TIME\n",
    "    ICU_recovered_hospital_use = get_impute_from_death(death_row=death_row, \n",
    "                                                       periods=ICU_recovered_hospital_use_periods,\n",
    "                                                       end_date_offset=ICU_recovered_hospital_use_end_date_offset)\n",
    "    no_ICU_hospital_use_periods = NOT_ICU_DISCHARGE_TIME\n",
    "    no_ICU_hospital_use_end_date_offset = -HOSPITAL_2_ICU_TIME-ICU_2_DEATH_TIME+NOT_ICU_DISCHARGE_TIME\n",
    "    no_ICU_hospital_use = get_impute_from_death(death_row=death_row, \n",
    "                                                periods=no_ICU_hospital_use_periods,\n",
    "                                                end_date_offset=no_ICU_hospital_use_end_date_offset)\n",
    "    hospital_beds = dead_hospital_use.add(((ICU_RATE-DEATH_RATE)/DEATH_RATE)*ICU_recovered_hospital_use, fill_value=0)\\\n",
    "                                     .add(((HOSPITAL_RATE-ICU_RATE)/DEATH_RATE)*no_ICU_hospital_use, fill_value=0)\n",
    "    hospital_beds.columns = ['hospital_beds']\n",
    "    return hospital_beds"
   ]
  },
  {
   "cell_type": "code",
   "execution_count": 12,
   "metadata": {},
   "outputs": [],
   "source": [
    "def get_ICU_from_death(death_row):\n",
    "    '''Get imputation of ICU needed from one day record of new death'''\n",
    "    dead_ICU_use = get_impute_from_death(death_row=death_row, periods=ICU_2_DEATH_TIME)\n",
    "    recovered_ICU_use_end_date_offset = ICU_2_RECOVER_TIME-ICU_2_DEATH_TIME\n",
    "    recovered_ICU_use = get_impute_from_death(death_row=death_row, \n",
    "                                              periods=ICU_2_RECOVER_TIME,\n",
    "                                              end_date_offset=recovered_ICU_use_end_date_offset)\n",
    "    ICU_n = dead_ICU_use.add(((ICU_RATE-DEATH_RATE)/DEATH_RATE)*recovered_ICU_use, fill_value=0)\n",
    "    ICU_n.columns = ['ICU']\n",
    "    return ICU_n"
   ]
  },
  {
   "cell_type": "code",
   "execution_count": 13,
   "metadata": {},
   "outputs": [],
   "source": [
    "def get_infected_cases(local_death_data):\n",
    "    '''This number only is close to number of confirmed case in country very early in the disease and \n",
    "    can still do contact tracing or very wide testing, eg. South Korea, Germany'''\n",
    "    delay_time = INFECT_2_HOSPITAL_TIME + HOSPITAL_2_ICU_TIME + ICU_2_DEATH_TIME\n",
    "    infected_cases = (1/DEATH_RATE)*local_death_data.tshift(-delay_time)\n",
    "    infected_cases.columns = ['infected']\n",
    "    return infected_cases"
   ]
  },
  {
   "cell_type": "code",
   "execution_count": 14,
   "metadata": {},
   "outputs": [],
   "source": [
    "def get_symptomatic_cases(local_death_data):\n",
    "    '''This is number of cases that show clear symptoms (severe),\n",
    "    in country without investigative testing this is close to number of confirmed case, most country'''\n",
    "    delay_time = HOSPITAL_2_ICU_TIME + ICU_2_DEATH_TIME\n",
    "    symptomatic_cases = (SYMPTOM_RATE/DEATH_RATE)*local_death_data.tshift(-delay_time)\n",
    "    symptomatic_cases.columns = ['symptomatic']\n",
    "    return symptomatic_cases"
   ]
  },
  {
   "cell_type": "code",
   "execution_count": 15,
   "metadata": {},
   "outputs": [],
   "source": [
    "def get_hospitalized_cases(local_death_data):\n",
    "    '''In country with severe lack of testing, this is close to number of confirmed case, eg. Italy, Iran'''\n",
    "    delay_time = HOSPITAL_2_ICU_TIME + ICU_2_DEATH_TIME\n",
    "    hospitalized_cases = (HOSPITAL_RATE/DEATH_RATE)*local_death_data.tshift(-delay_time)\n",
    "    hospitalized_cases.columns = ['hospitalized']\n",
    "    return hospitalized_cases"
   ]
  },
  {
   "cell_type": "code",
   "execution_count": 16,
   "metadata": {},
   "outputs": [],
   "source": [
    "def get_number_hospital_beds_need(daily_local_death_new):\n",
    "    '''Calculate number of hospital bed needed from number of daily new death '''\n",
    "    # Start by first date\n",
    "    hospital_beds = get_hospital_beds_from_death(daily_local_death_new.iloc[0])\n",
    "    # Run through all days\n",
    "    for i in range(len(daily_local_death_new)-1):\n",
    "        hospital_beds = hospital_beds.add(get_hospital_beds_from_death(daily_local_death_new.iloc[i+1]), \n",
    "                                          fill_value=0)\n",
    "    return hospital_beds"
   ]
  },
  {
   "cell_type": "code",
   "execution_count": 17,
   "metadata": {},
   "outputs": [],
   "source": [
    "def get_number_ICU_need(daily_local_death_new):\n",
    "    '''Calculate number of ICU needed from number of daily new death '''\n",
    "    # Start by first date\n",
    "    ICU_n = get_ICU_from_death(daily_local_death_new.iloc[0])\n",
    "    # Run through all days\n",
    "    for i in range(len(daily_local_death_new)-1):\n",
    "        ICU_n = ICU_n.add(get_ICU_from_death(daily_local_death_new.iloc[i+1]), fill_value=0)\n",
    "    return ICU_n"
   ]
  },
  {
   "cell_type": "code",
   "execution_count": 18,
   "metadata": {},
   "outputs": [],
   "source": [
    "def get_log_daily_predicted_death(local_death_data, forecast_horizon=60, lockdown_date=None):\n",
    "    '''Since this is highly contagious disease. Daily new death, which is a proxy for daily new infected cases\n",
    "    is model as d(t)=a*d(t-1) or equivalent to d(t) = b*a^(t). After a log transform, it becomes linear.\n",
    "    log(d(t))=logb+t*loga, so we can use linear regression to provide forecast (use robust linear regressor to avoid\n",
    "    data anomaly in death reporting)\n",
    "    There are two seperate linear curves, one before the lockdown is effective(21 days after lockdown) and one after\n",
    "    For using this prediction to infer back the other metrics (infected cases, hospital, ICU, etc..) only the before\n",
    "    curve is used and valid. If we assume there is no new infection after lock down (perfect lockdown), the after\n",
    "    curve only depends on the distribution of time to death since ICU.\n",
    "    WARNING: if lockdown_date is not provided, we will default to no lockdown to raise awareness of worst case\n",
    "    if no action. If you have info on lockdown date please use it to make sure the model provide accurate result'''\n",
    "    daily_local_death_new = local_death_data.diff().fillna(0)\n",
    "    daily_local_death_new.columns = ['death']\n",
    "    log_daily_death = np.log(daily_local_death_new)\n",
    "    #log_daily_death.dropna(inplace=True)\n",
    "    data_start_date = min(local_death_data.index)\n",
    "    data_end_date = max(local_death_data.index)\n",
    "    forecast_end_date = data_end_date + dt.timedelta(forecast_horizon)\n",
    "    forecast_date_index = pd.date_range(start=data_start_date, end=forecast_end_date)\n",
    "    if lockdown_date is not None:\n",
    "        lockdown_date = pd.to_datetime(lockdown_date)\n",
    "    else:\n",
    "        lockdown_date = forecast_end_date\n",
    "    lockdown_effective_date = lockdown_date + dt.timedelta(INFECT_2_HOSPITAL_TIME+HOSPITAL_2_ICU_TIME+ICU_2_DEATH_TIME)\n",
    "    data_start_date_idx = (data_start_date - lockdown_effective_date).days\n",
    "    data_end_date_idx = (data_end_date - lockdown_effective_date).days\n",
    "    forecast_end_date_idx = data_end_date_idx + forecast_horizon\n",
    "    forecast_time_idx = (forecast_date_index - lockdown_effective_date).days.values\n",
    "    data_time_idx = (log_daily_death.index - lockdown_effective_date).days.values\n",
    "    log_daily_death['time_idx'] = data_time_idx\n",
    "    log_daily_death = log_daily_death.replace([np.inf, -np.inf], np.nan).dropna()\n",
    "    log_daily_death_before = log_daily_death[log_daily_death.time_idx<0]\n",
    "    regr_before = linear_model.HuberRegressor(fit_intercept=True)\n",
    "    regr_before.fit(log_daily_death_before.time_idx.values.reshape(-1, 1), log_daily_death_before.death)\n",
    "    log_predicted_death_before_values = regr_before.predict(forecast_time_idx[forecast_time_idx<0].reshape(-1, 1))\n",
    "    log_predicted_death_before_index = forecast_date_index[forecast_time_idx<0]\n",
    "    log_predicted_death_before = pd.DataFrame(log_predicted_death_before_values, \n",
    "                                              index=log_predicted_death_before_index)\n",
    "    if all(forecast_time_idx<0):\n",
    "        print(\"Lockdown is not effective in forecast range. Second model not needed\")\n",
    "        log_predicted_death_after = None\n",
    "    elif all(data_time_idx<=1):\n",
    "        print(\"Use default second model due to no data\")\n",
    "        regr_after = linear_model.HuberRegressor(fit_intercept=True)\n",
    "        regr_after.coef_ = np.array([-0.04])\n",
    "        regr_after.intercept_ = log_predicted_death_before.iloc[-1,0]           \n",
    "        log_predicted_death_after_values = regr_after.predict(forecast_time_idx[forecast_time_idx>=0].reshape(-1, 1))\n",
    "        log_predicted_death_after_index = forecast_date_index[forecast_time_idx>=0]\n",
    "        log_predicted_death_after = pd.DataFrame(log_predicted_death_after_values, \n",
    "                                                  index=log_predicted_death_after_index)\n",
    "        log_predicted_death = pd.concat([log_predicted_death_before, log_predicted_death_after], axis=0)\n",
    "    else:\n",
    "        regr_pw = pwlf.PiecewiseLinFit(x=log_daily_death.time_idx.values, y=log_daily_death.death)\n",
    "        break_points = np.array([data_start_date_idx, 0, data_end_date_idx])\n",
    "        regr_pw.fit_with_breaks(break_points)\n",
    "        log_predicted_death_values = regr_pw.predict(forecast_time_idx)\n",
    "        log_predicted_death = pd.DataFrame(log_predicted_death_values, index=forecast_date_index)\n",
    "    \n",
    "    log_predicted_death.columns = ['predicted_death']\n",
    "    return log_predicted_death"
   ]
  },
  {
   "cell_type": "code",
   "execution_count": 19,
   "metadata": {},
   "outputs": [],
   "source": [
    "def get_daily_predicted_death(local_death_data, forecast_horizon=60, lockdown_date=None):\n",
    "    return np.exp(get_log_daily_predicted_death(local_death_data, forecast_horizon, lockdown_date)).astype(int)"
   ]
  },
  {
   "cell_type": "code",
   "execution_count": 20,
   "metadata": {},
   "outputs": [],
   "source": [
    "def get_cummulative_predicted_death(local_death_data, forecast_horizon=60, lockdown_date=None):\n",
    "    daily_predicted_death = get_daily_predicted_death(local_death_data, forecast_horizon, lockdown_date)\n",
    "    return daily_predicted_death.cumsum()"
   ]
  },
  {
   "cell_type": "markdown",
   "metadata": {},
   "source": [
    "# Output"
   ]
  },
  {
   "cell_type": "code",
   "execution_count": 21,
   "metadata": {},
   "outputs": [],
   "source": [
    "def get_daily_metrics_from_death_data(local_death_data, forecast_horizon=60, lockdown_date=None):\n",
    "    daily_predicted_death = get_daily_predicted_death(local_death_data, forecast_horizon, lockdown_date)\n",
    "    daily_local_death_new = local_death_data.diff().fillna(0)\n",
    "    daily_local_death_new.columns = ['death']\n",
    "    daily_infected_cases_new = get_infected_cases(daily_predicted_death)\n",
    "    daily_symptomatic_cases_new = get_symptomatic_cases(daily_predicted_death)\n",
    "    daily_hospitalized_cases_new = get_hospitalized_cases(daily_predicted_death)\n",
    "    daily_hospital_beds_need = get_number_hospital_beds_need(daily_predicted_death)\n",
    "    daily_ICU_need = get_number_ICU_need(daily_predicted_death)\n",
    "    return pd.concat([daily_local_death_new,\n",
    "                      daily_predicted_death,\n",
    "                      daily_infected_cases_new,\n",
    "                      daily_symptomatic_cases_new,\n",
    "                      daily_hospitalized_cases_new,\n",
    "                      daily_hospital_beds_need, \n",
    "                      daily_ICU_need], axis=1, sort=True)"
   ]
  },
  {
   "cell_type": "code",
   "execution_count": 22,
   "metadata": {},
   "outputs": [],
   "source": [
    "def get_cummulative_metrics_from_death_data(local_death_data, forecast_horizon=60, lockdown_date=None):\n",
    "    daily_metrics = get_daily_metrics_from_death_data(local_death_data, forecast_horizon, lockdown_date)\n",
    "    cummulative_metrics = daily_metrics.cumsum()\n",
    "    cummulative_metrics['ICU'] = daily_metrics['ICU']\n",
    "    cummulative_metrics['hospital_beds'] = daily_metrics['hospital_beds']\n",
    "    return cummulative_metrics"
   ]
  },
  {
   "cell_type": "code",
   "execution_count": 23,
   "metadata": {},
   "outputs": [],
   "source": [
    "def get_metrics_by_country(country, forecast_horizon=60, lockdown_date=None):\n",
    "    local_death_data = get_death_data_by_country(country)\n",
    "    daily_metrics = get_daily_metrics_from_death_data(local_death_data, forecast_horizon, lockdown_date)\n",
    "    cummulative_metrics = get_cummulative_metrics_from_death_data(local_death_data, forecast_horizon, lockdown_date)\n",
    "    return daily_metrics, cummulative_metrics"
   ]
  },
  {
   "cell_type": "code",
   "execution_count": 24,
   "metadata": {},
   "outputs": [],
   "source": [
    "def get_metrics_by_state_US(state, forecast_horizon=60, lockdown_date=None):\n",
    "    local_death_data = get_US_death_data_by_state(state)\n",
    "    daily_metrics = get_daily_metrics_from_death_data(local_death_data, forecast_horizon, lockdown_date)\n",
    "    cummulative_metrics = get_cummulative_metrics_from_death_data(local_death_data, forecast_horizon, lockdown_date)\n",
    "    return daily_metrics, cummulative_metrics"
   ]
  },
  {
   "cell_type": "code",
   "execution_count": 25,
   "metadata": {},
   "outputs": [],
   "source": [
    "def get_metrics_by_county_and_state_US(county, state, forecast_horizon=60, lockdown_date=None):\n",
    "    local_death_data = get_US_death_data_by_county_and_state(county, state)\n",
    "    daily_metrics = get_daily_metrics_from_death_data(local_death_data, forecast_horizon, lockdown_date)\n",
    "    cummulative_metrics = get_cummulative_metrics_from_death_data(local_death_data, forecast_horizon, lockdown_date)\n",
    "    return daily_metrics, cummulative_metrics"
   ]
  },
  {
   "cell_type": "code",
   "execution_count": 26,
   "metadata": {},
   "outputs": [
    {
     "ename": "NameError",
     "evalue": "name 'plot_metrics_by_state_US' is not defined",
     "output_type": "error",
     "traceback": [
      "\u001b[0;31m---------------------------------------------------------------------------\u001b[0m",
      "\u001b[0;31mNameError\u001b[0m                                 Traceback (most recent call last)",
      "\u001b[0;32m<ipython-input-26-d3b98a41522a>\u001b[0m in \u001b[0;36m<module>\u001b[0;34m\u001b[0m\n\u001b[0;32m----> 1\u001b[0;31m \u001b[0mplot_metrics_by_state_US\u001b[0m\u001b[0;34m(\u001b[0m\u001b[0;34m'California'\u001b[0m\u001b[0;34m,\u001b[0m \u001b[0mlockdown_date\u001b[0m\u001b[0;34m=\u001b[0m\u001b[0;34m'20200319'\u001b[0m\u001b[0;34m)\u001b[0m\u001b[0;34m\u001b[0m\u001b[0;34m\u001b[0m\u001b[0m\n\u001b[0m",
      "\u001b[0;31mNameError\u001b[0m: name 'plot_metrics_by_state_US' is not defined"
     ]
    }
   ],
   "source": [
    "plot_metrics_by_state_US('California', lockdown_date='20200319')"
   ]
  },
  {
   "cell_type": "code",
   "execution_count": null,
   "metadata": {},
   "outputs": [],
   "source": [
    "plot_metrics_by_state_US('California', lockdown_date='20200319', metrics = ['death', 'predicted_death'])"
   ]
  },
  {
   "cell_type": "code",
   "execution_count": null,
   "metadata": {},
   "outputs": [],
   "source": [
    "ny_daily, ny_cum = get_metrics_by_state_US('New York', lockdown_date='20200319')"
   ]
  },
  {
   "cell_type": "code",
   "execution_count": null,
   "metadata": {},
   "outputs": [],
   "source": [
    "ny_cum.iloc[10:50]"
   ]
  },
  {
   "cell_type": "code",
   "execution_count": null,
   "metadata": {},
   "outputs": [],
   "source": [
    "ny_daily.iloc[30:50]"
   ]
  },
  {
   "cell_type": "code",
   "execution_count": null,
   "metadata": {},
   "outputs": [],
   "source": [
    "plot_metrics_by_state_US('New York', lockdown_date='20200319', metrics = ['death', 'predicted_death'])"
   ]
  },
  {
   "cell_type": "code",
   "execution_count": null,
   "metadata": {},
   "outputs": [],
   "source": [
    "plot_metrics_by_country('China', lockdown_date='20200123')"
   ]
  },
  {
   "cell_type": "code",
   "execution_count": null,
   "metadata": {},
   "outputs": [],
   "source": [
    "plot_metrics_by_country('China', lockdown_date='20200123',\n",
    "                             metrics = ['death', 'predicted_death', 'symptomatic', 'hospitalized', 'ICU', 'hospital_beds'])"
   ]
  },
  {
   "cell_type": "code",
   "execution_count": null,
   "metadata": {},
   "outputs": [],
   "source": [
    "plot_metrics_by_country('China', lockdown_date='20200123',\n",
    "                             metrics = ['death', 'predicted_death'])"
   ]
  },
  {
   "cell_type": "code",
   "execution_count": null,
   "metadata": {},
   "outputs": [],
   "source": [
    "plot_metrics_by_country('US', lockdown_date='20200318',\n",
    "                             metrics = ['death', 'predicted_death', 'symptomatic', 'hospitalized', 'ICU', 'hospital_beds'])"
   ]
  },
  {
   "cell_type": "code",
   "execution_count": null,
   "metadata": {},
   "outputs": [],
   "source": [
    "plot_metrics_by_country('US', lockdown_date='20200318',\n",
    "                             metrics = ['predicted_death', 'ICU'])"
   ]
  },
  {
   "cell_type": "code",
   "execution_count": null,
   "metadata": {},
   "outputs": [],
   "source": [
    "plot_metrics_by_country('US', lockdown_date='20200318',\n",
    "                             metrics = ['death', 'predicted_death'])"
   ]
  },
  {
   "cell_type": "code",
   "execution_count": null,
   "metadata": {},
   "outputs": [],
   "source": [
    "plot_metrics_by_country('Italy', lockdown_date='20200301', forecast_horizon=90) #Official date 09 March"
   ]
  },
  {
   "cell_type": "code",
   "execution_count": null,
   "metadata": {},
   "outputs": [],
   "source": [
    "plot_metrics_by_country('Spain', lockdown_date='20200305') #official date 14 March"
   ]
  },
  {
   "cell_type": "code",
   "execution_count": null,
   "metadata": {},
   "outputs": [],
   "source": [
    "plot_metrics_by_country('France', lockdown_date='20200331')"
   ]
  },
  {
   "cell_type": "code",
   "execution_count": null,
   "metadata": {
    "scrolled": true
   },
   "outputs": [],
   "source": [
    "plot_metrics_by_country('Germany', lockdown_date='20200322', metrics=['death', 'predicted_death'])"
   ]
  },
  {
   "cell_type": "code",
   "execution_count": null,
   "metadata": {},
   "outputs": [],
   "source": [
    "plot_metrics_by_country('United Kingdom', lockdown_date='20200323', metrics=['death', 'predicted_death'])"
   ]
  },
  {
   "cell_type": "markdown",
   "metadata": {},
   "source": [
    "# The tails of two curves 21 days after lockdown"
   ]
  },
  {
   "cell_type": "code",
   "execution_count": null,
   "metadata": {},
   "outputs": [],
   "source": [
    "plot_log_death_new_by_country('Iran', lockdown_date='20200227') #Official date unclear"
   ]
  },
  {
   "cell_type": "code",
   "execution_count": null,
   "metadata": {},
   "outputs": [],
   "source": [
    "plot_log_death_new_by_country('China',  lockdown_date='20200124')"
   ]
  },
  {
   "cell_type": "markdown",
   "metadata": {},
   "source": [
    "TODO: add function get county and provided all number\n",
    "        improve the curve for after period"
   ]
  },
  {
   "cell_type": "code",
   "execution_count": null,
   "metadata": {},
   "outputs": [],
   "source": [
    "death_data = get_global_death_data()"
   ]
  },
  {
   "cell_type": "code",
   "execution_count": null,
   "metadata": {},
   "outputs": [],
   "source": [
    "death_data.query('Country==\"US\"')"
   ]
  },
  {
   "cell_type": "code",
   "execution_count": null,
   "metadata": {},
   "outputs": [],
   "source": [
    "len(death_data.Country.unique())"
   ]
  },
  {
   "cell_type": "code",
   "execution_count": null,
   "metadata": {},
   "outputs": [],
   "source": [
    "death_data."
   ]
  },
  {
   "cell_type": "code",
   "execution_count": null,
   "metadata": {},
   "outputs": [],
   "source": [
    "death_data.Country.unique()[156\n",
    "                           ]"
   ]
  },
  {
   "cell_type": "code",
   "execution_count": null,
   "metadata": {},
   "outputs": [],
   "source": [
    "death_data = get_US_death_data()"
   ]
  },
  {
   "cell_type": "code",
   "execution_count": null,
   "metadata": {},
   "outputs": [],
   "source": [
    "death_data.State.unique()"
   ]
  },
  {
   "cell_type": "code",
   "execution_count": null,
   "metadata": {},
   "outputs": [],
   "source": [
    "def get_lockdown_date_state_US(csv_file='data/lockdown_date_state_US.csv'):\n",
    "    return pd.read_csv(csv_file)[['state', 'lockdown_date']].set_index('state')"
   ]
  },
  {
   "cell_type": "code",
   "execution_count": null,
   "metadata": {},
   "outputs": [],
   "source": [
    "lockdown_date_state_US = get_lockdown_date_state_US()"
   ]
  },
  {
   "cell_type": "code",
   "execution_count": null,
   "metadata": {},
   "outputs": [],
   "source": [
    "lockdown_date_state_US.loc['California'][0]"
   ]
  },
  {
   "cell_type": "code",
   "execution_count": null,
   "metadata": {},
   "outputs": [],
   "source": [
    "pd.to_datetime(lockdown_date_state_US.loc['California'][0])"
   ]
  },
  {
   "cell_type": "code",
   "execution_count": null,
   "metadata": {},
   "outputs": [],
   "source": [
    "getattr(lockdown_date_state_US, 'Alaska')"
   ]
  },
  {
   "cell_type": "code",
   "execution_count": null,
   "metadata": {},
   "outputs": [],
   "source": [
    "import model_utils"
   ]
  },
  {
   "cell_type": "code",
   "execution_count": null,
   "metadata": {},
   "outputs": [],
   "source": [
    "import pandas as pd\n",
    "import datetime as dt\n",
    "def put_model_params_logs(model_params, file='model_params_logs.csv'):\n",
    "    pd.DataFrame(model_params, index=[dt.datetime.today()]).to_csv(file, mode='a', header=False)\n",
    "from csv import writer\n",
    "def append_model_params_2_logs(model_params, log_file='model_params_logs.csv'):\n",
    "    # Open file in append mode\n",
    "    with open(log_file, 'a+', newline='') as write_obj:\n",
    "        # Create a writer object from csv module\n",
    "        csv_writer = writer(write_obj)\n",
    "        # Add contents of list as last row in the csv file\n",
    "        csv_writer.writerow(model_params)"
   ]
  },
  {
   "cell_type": "code",
   "execution_count": null,
   "metadata": {},
   "outputs": [],
   "source": [
    "scope = 'country'\n",
    "local = 'US'\n",
    "lockdown_date = '20200320'\n",
    "model_params =(scope, local, lockdown_date)\n",
    "append_model_params_2_logs(model_params, file_name='model_params_logs.csv')"
   ]
  },
  {
   "cell_type": "code",
   "execution_count": null,
   "metadata": {},
   "outputs": [],
   "source": [
    "[dt.datetime.today(),]+[3,3,3]"
   ]
  },
  {
   "cell_type": "code",
   "execution_count": null,
   "metadata": {},
   "outputs": [],
   "source": [
    "model_params = [dt.datetime.today(), scope, local, lockdown_date, \n",
    "                mu.DEATH_RATE,\n",
    "                mu.ICU_RATE,\n",
    "                mu.HOSPITAL_RATE, \n",
    "                mu.SYMPTOM_RATE, \n",
    "                mu.INFECT_2_HOSPITAL_TIME, \n",
    "                mu.HOSPITAL_2_ICU_TIME, \n",
    "                mu.ICU_2_DEATH_TIME, \n",
    "                mu.ICU_2_RECOVER_TIME,\n",
    "                mu.NOT_ICU_DISCHARGE_TIME]\n",
    "append_model_params_2_logs(model_params)"
   ]
  },
  {
   "cell_type": "code",
   "execution_count": null,
   "metadata": {},
   "outputs": [],
   "source": [
    "import pandas as pd"
   ]
  },
  {
   "cell_type": "code",
   "execution_count": null,
   "metadata": {},
   "outputs": [],
   "source": [
    "logs = pd.DataFrame.from_csv('model_params_logs.csv')"
   ]
  },
  {
   "cell_type": "code",
   "execution_count": null,
   "metadata": {},
   "outputs": [],
   "source": [
    "logs"
   ]
  },
  {
   "cell_type": "code",
   "execution_count": null,
   "metadata": {},
   "outputs": [],
   "source": [
    "import streamlit as st\n",
    "import os\n",
    "os.path.dirname(st.__file__)"
   ]
  },
  {
   "cell_type": "code",
   "execution_count": null,
   "metadata": {},
   "outputs": [],
   "source": [
    "dir(st)"
   ]
  },
  {
   "cell_type": "code",
   "execution_count": null,
   "metadata": {},
   "outputs": [],
   "source": [
    "import model_utils as mu\n"
   ]
  },
  {
   "cell_type": "code",
   "execution_count": 29,
   "metadata": {},
   "outputs": [],
   "source": [
    "local_death_data = get_death_data_by_country('China')"
   ]
  },
  {
   "cell_type": "code",
   "execution_count": 30,
   "metadata": {},
   "outputs": [
    {
     "data": {
      "text/html": [
       "<div>\n",
       "<style scoped>\n",
       "    .dataframe tbody tr th:only-of-type {\n",
       "        vertical-align: middle;\n",
       "    }\n",
       "\n",
       "    .dataframe tbody tr th {\n",
       "        vertical-align: top;\n",
       "    }\n",
       "\n",
       "    .dataframe thead th {\n",
       "        text-align: right;\n",
       "    }\n",
       "</style>\n",
       "<table border=\"1\" class=\"dataframe\">\n",
       "  <thead>\n",
       "    <tr style=\"text-align: right;\">\n",
       "      <th></th>\n",
       "      <th>0</th>\n",
       "    </tr>\n",
       "  </thead>\n",
       "  <tbody>\n",
       "    <tr>\n",
       "      <th>2020-01-22</th>\n",
       "      <td>17</td>\n",
       "    </tr>\n",
       "    <tr>\n",
       "      <th>2020-01-23</th>\n",
       "      <td>18</td>\n",
       "    </tr>\n",
       "    <tr>\n",
       "      <th>2020-01-24</th>\n",
       "      <td>26</td>\n",
       "    </tr>\n",
       "    <tr>\n",
       "      <th>2020-01-25</th>\n",
       "      <td>42</td>\n",
       "    </tr>\n",
       "    <tr>\n",
       "      <th>2020-01-26</th>\n",
       "      <td>56</td>\n",
       "    </tr>\n",
       "    <tr>\n",
       "      <th>2020-01-27</th>\n",
       "      <td>82</td>\n",
       "    </tr>\n",
       "    <tr>\n",
       "      <th>2020-01-28</th>\n",
       "      <td>131</td>\n",
       "    </tr>\n",
       "    <tr>\n",
       "      <th>2020-01-29</th>\n",
       "      <td>133</td>\n",
       "    </tr>\n",
       "    <tr>\n",
       "      <th>2020-01-30</th>\n",
       "      <td>171</td>\n",
       "    </tr>\n",
       "    <tr>\n",
       "      <th>2020-01-31</th>\n",
       "      <td>213</td>\n",
       "    </tr>\n",
       "    <tr>\n",
       "      <th>2020-02-01</th>\n",
       "      <td>259</td>\n",
       "    </tr>\n",
       "    <tr>\n",
       "      <th>2020-02-02</th>\n",
       "      <td>361</td>\n",
       "    </tr>\n",
       "    <tr>\n",
       "      <th>2020-02-03</th>\n",
       "      <td>425</td>\n",
       "    </tr>\n",
       "    <tr>\n",
       "      <th>2020-02-04</th>\n",
       "      <td>491</td>\n",
       "    </tr>\n",
       "    <tr>\n",
       "      <th>2020-02-05</th>\n",
       "      <td>563</td>\n",
       "    </tr>\n",
       "    <tr>\n",
       "      <th>2020-02-06</th>\n",
       "      <td>633</td>\n",
       "    </tr>\n",
       "    <tr>\n",
       "      <th>2020-02-07</th>\n",
       "      <td>718</td>\n",
       "    </tr>\n",
       "    <tr>\n",
       "      <th>2020-02-08</th>\n",
       "      <td>805</td>\n",
       "    </tr>\n",
       "    <tr>\n",
       "      <th>2020-02-09</th>\n",
       "      <td>905</td>\n",
       "    </tr>\n",
       "    <tr>\n",
       "      <th>2020-02-10</th>\n",
       "      <td>1012</td>\n",
       "    </tr>\n",
       "    <tr>\n",
       "      <th>2020-02-11</th>\n",
       "      <td>1112</td>\n",
       "    </tr>\n",
       "    <tr>\n",
       "      <th>2020-02-12</th>\n",
       "      <td>1117</td>\n",
       "    </tr>\n",
       "    <tr>\n",
       "      <th>2020-02-13</th>\n",
       "      <td>1369</td>\n",
       "    </tr>\n",
       "    <tr>\n",
       "      <th>2020-02-14</th>\n",
       "      <td>1521</td>\n",
       "    </tr>\n",
       "    <tr>\n",
       "      <th>2020-02-15</th>\n",
       "      <td>1663</td>\n",
       "    </tr>\n",
       "    <tr>\n",
       "      <th>2020-02-16</th>\n",
       "      <td>1766</td>\n",
       "    </tr>\n",
       "    <tr>\n",
       "      <th>2020-02-17</th>\n",
       "      <td>1864</td>\n",
       "    </tr>\n",
       "    <tr>\n",
       "      <th>2020-02-18</th>\n",
       "      <td>2003</td>\n",
       "    </tr>\n",
       "    <tr>\n",
       "      <th>2020-02-19</th>\n",
       "      <td>2116</td>\n",
       "    </tr>\n",
       "    <tr>\n",
       "      <th>2020-02-20</th>\n",
       "      <td>2238</td>\n",
       "    </tr>\n",
       "    <tr>\n",
       "      <th>...</th>\n",
       "      <td>...</td>\n",
       "    </tr>\n",
       "    <tr>\n",
       "      <th>2020-03-13</th>\n",
       "      <td>3180</td>\n",
       "    </tr>\n",
       "    <tr>\n",
       "      <th>2020-03-14</th>\n",
       "      <td>3193</td>\n",
       "    </tr>\n",
       "    <tr>\n",
       "      <th>2020-03-15</th>\n",
       "      <td>3203</td>\n",
       "    </tr>\n",
       "    <tr>\n",
       "      <th>2020-03-16</th>\n",
       "      <td>3217</td>\n",
       "    </tr>\n",
       "    <tr>\n",
       "      <th>2020-03-17</th>\n",
       "      <td>3230</td>\n",
       "    </tr>\n",
       "    <tr>\n",
       "      <th>2020-03-18</th>\n",
       "      <td>3241</td>\n",
       "    </tr>\n",
       "    <tr>\n",
       "      <th>2020-03-19</th>\n",
       "      <td>3249</td>\n",
       "    </tr>\n",
       "    <tr>\n",
       "      <th>2020-03-20</th>\n",
       "      <td>3253</td>\n",
       "    </tr>\n",
       "    <tr>\n",
       "      <th>2020-03-21</th>\n",
       "      <td>3259</td>\n",
       "    </tr>\n",
       "    <tr>\n",
       "      <th>2020-03-22</th>\n",
       "      <td>3274</td>\n",
       "    </tr>\n",
       "    <tr>\n",
       "      <th>2020-03-23</th>\n",
       "      <td>3274</td>\n",
       "    </tr>\n",
       "    <tr>\n",
       "      <th>2020-03-24</th>\n",
       "      <td>3281</td>\n",
       "    </tr>\n",
       "    <tr>\n",
       "      <th>2020-03-25</th>\n",
       "      <td>3285</td>\n",
       "    </tr>\n",
       "    <tr>\n",
       "      <th>2020-03-26</th>\n",
       "      <td>3291</td>\n",
       "    </tr>\n",
       "    <tr>\n",
       "      <th>2020-03-27</th>\n",
       "      <td>3296</td>\n",
       "    </tr>\n",
       "    <tr>\n",
       "      <th>2020-03-28</th>\n",
       "      <td>3299</td>\n",
       "    </tr>\n",
       "    <tr>\n",
       "      <th>2020-03-29</th>\n",
       "      <td>3304</td>\n",
       "    </tr>\n",
       "    <tr>\n",
       "      <th>2020-03-30</th>\n",
       "      <td>3308</td>\n",
       "    </tr>\n",
       "    <tr>\n",
       "      <th>2020-03-31</th>\n",
       "      <td>3309</td>\n",
       "    </tr>\n",
       "    <tr>\n",
       "      <th>2020-04-01</th>\n",
       "      <td>3316</td>\n",
       "    </tr>\n",
       "    <tr>\n",
       "      <th>2020-04-02</th>\n",
       "      <td>3322</td>\n",
       "    </tr>\n",
       "    <tr>\n",
       "      <th>2020-04-03</th>\n",
       "      <td>3326</td>\n",
       "    </tr>\n",
       "    <tr>\n",
       "      <th>2020-04-04</th>\n",
       "      <td>3330</td>\n",
       "    </tr>\n",
       "    <tr>\n",
       "      <th>2020-04-05</th>\n",
       "      <td>3333</td>\n",
       "    </tr>\n",
       "    <tr>\n",
       "      <th>2020-04-06</th>\n",
       "      <td>3335</td>\n",
       "    </tr>\n",
       "    <tr>\n",
       "      <th>2020-04-07</th>\n",
       "      <td>3335</td>\n",
       "    </tr>\n",
       "    <tr>\n",
       "      <th>2020-04-08</th>\n",
       "      <td>3337</td>\n",
       "    </tr>\n",
       "    <tr>\n",
       "      <th>2020-04-09</th>\n",
       "      <td>3339</td>\n",
       "    </tr>\n",
       "    <tr>\n",
       "      <th>2020-04-10</th>\n",
       "      <td>3340</td>\n",
       "    </tr>\n",
       "    <tr>\n",
       "      <th>2020-04-11</th>\n",
       "      <td>3343</td>\n",
       "    </tr>\n",
       "  </tbody>\n",
       "</table>\n",
       "<p>81 rows × 1 columns</p>\n",
       "</div>"
      ],
      "text/plain": [
       "               0\n",
       "2020-01-22    17\n",
       "2020-01-23    18\n",
       "2020-01-24    26\n",
       "2020-01-25    42\n",
       "2020-01-26    56\n",
       "2020-01-27    82\n",
       "2020-01-28   131\n",
       "2020-01-29   133\n",
       "2020-01-30   171\n",
       "2020-01-31   213\n",
       "2020-02-01   259\n",
       "2020-02-02   361\n",
       "2020-02-03   425\n",
       "2020-02-04   491\n",
       "2020-02-05   563\n",
       "2020-02-06   633\n",
       "2020-02-07   718\n",
       "2020-02-08   805\n",
       "2020-02-09   905\n",
       "2020-02-10  1012\n",
       "2020-02-11  1112\n",
       "2020-02-12  1117\n",
       "2020-02-13  1369\n",
       "2020-02-14  1521\n",
       "2020-02-15  1663\n",
       "2020-02-16  1766\n",
       "2020-02-17  1864\n",
       "2020-02-18  2003\n",
       "2020-02-19  2116\n",
       "2020-02-20  2238\n",
       "...          ...\n",
       "2020-03-13  3180\n",
       "2020-03-14  3193\n",
       "2020-03-15  3203\n",
       "2020-03-16  3217\n",
       "2020-03-17  3230\n",
       "2020-03-18  3241\n",
       "2020-03-19  3249\n",
       "2020-03-20  3253\n",
       "2020-03-21  3259\n",
       "2020-03-22  3274\n",
       "2020-03-23  3274\n",
       "2020-03-24  3281\n",
       "2020-03-25  3285\n",
       "2020-03-26  3291\n",
       "2020-03-27  3296\n",
       "2020-03-28  3299\n",
       "2020-03-29  3304\n",
       "2020-03-30  3308\n",
       "2020-03-31  3309\n",
       "2020-04-01  3316\n",
       "2020-04-02  3322\n",
       "2020-04-03  3326\n",
       "2020-04-04  3330\n",
       "2020-04-05  3333\n",
       "2020-04-06  3335\n",
       "2020-04-07  3335\n",
       "2020-04-08  3337\n",
       "2020-04-09  3339\n",
       "2020-04-10  3340\n",
       "2020-04-11  3343\n",
       "\n",
       "[81 rows x 1 columns]"
      ]
     },
     "execution_count": 30,
     "metadata": {},
     "output_type": "execute_result"
    }
   ],
   "source": [
    "local_death_data"
   ]
  },
  {
   "cell_type": "code",
   "execution_count": 31,
   "metadata": {},
   "outputs": [
    {
     "name": "stderr",
     "output_type": "stream",
     "text": [
      "/Users/qtran/anaconda3/lib/python3.7/site-packages/ipykernel_launcher.py:3: RuntimeWarning: divide by zero encountered in log\n",
      "  This is separate from the ipykernel package so we can avoid doing imports until\n"
     ]
    }
   ],
   "source": [
    "daily_local_death_new = local_death_data.diff().fillna(0)\n",
    "daily_local_death_new.columns = ['death']\n",
    "log_daily_death = np.log(daily_local_death_new)"
   ]
  },
  {
   "cell_type": "code",
   "execution_count": null,
   "metadata": {},
   "outputs": [],
   "source": [
    "log_daily_death"
   ]
  },
  {
   "cell_type": "code",
   "execution_count": null,
   "metadata": {},
   "outputs": [],
   "source": [
    "log_daily_death.plot()"
   ]
  },
  {
   "cell_type": "code",
   "execution_count": null,
   "metadata": {
    "scrolled": true
   },
   "outputs": [],
   "source": [
    "daily_local_death_new.plot()"
   ]
  },
  {
   "cell_type": "code",
   "execution_count": null,
   "metadata": {},
   "outputs": [],
   "source": [
    "daily_local_death_new.head(60)"
   ]
  },
  {
   "cell_type": "code",
   "execution_count": null,
   "metadata": {},
   "outputs": [],
   "source": [
    "type(daily_local_death_new)"
   ]
  },
  {
   "cell_type": "code",
   "execution_count": 106,
   "metadata": {},
   "outputs": [],
   "source": [
    "local_death_data = mu.get_US_death_data_by_state('California')"
   ]
  },
  {
   "cell_type": "code",
   "execution_count": 107,
   "metadata": {},
   "outputs": [],
   "source": [
    "def get_log_daily_predicted_death(local_death_data, forecast_horizon=60, lockdown_date=None):\n",
    "    '''Since this is highly contagious disease. Daily new death, which is a proxy for daily new infected cases\n",
    "    is model as d(t)=a*d(t-1) or equivalent to d(t) = b*a^(t). After a log transform, it becomes linear.\n",
    "    log(d(t))=logb+t*loga, so we can use linear regression to provide forecast (use robust linear regressor to avoid\n",
    "    data anomaly in death reporting)\n",
    "    There are two seperate linear curves, one before the lockdown is effective(21 days after lockdown) and one after\n",
    "    For using this prediction to infer back the other metrics (infected cases, hospital, ICU, etc..) only the before\n",
    "    curve is used and valid. If we assume there is no new infection after lock down (perfect lockdown), the after\n",
    "    curve only depends on the distribution of time to death since ICU.\n",
    "    WARNING: if lockdown_date is not provided, we will default to no lockdown to raise awareness of worst case\n",
    "    if no action. If you have info on lockdown date please use it to make sure the model provide accurate result'''\n",
    "    daily_local_death_new = local_death_data.diff().fillna(0)\n",
    "    daily_local_death_new.columns = ['death']\n",
    "    log_daily_death = np.log(daily_local_death_new)\n",
    "    # log_daily_death.dropna(inplace=True)\n",
    "    data_start_date = min(local_death_data.index)\n",
    "    data_end_date = max(local_death_data.index)\n",
    "    forecast_end_date = data_end_date + dt.timedelta(forecast_horizon)\n",
    "    forecast_date_index = pd.date_range(start=data_start_date, end=forecast_end_date)\n",
    "    if lockdown_date is not None:\n",
    "        lockdown_date = pd.to_datetime(lockdown_date)\n",
    "    else:\n",
    "        lockdown_date = forecast_end_date\n",
    "    lockdown_effective_date = lockdown_date + dt.timedelta(\n",
    "        INFECT_2_HOSPITAL_TIME + HOSPITAL_2_ICU_TIME + ICU_2_DEATH_TIME)\n",
    "    data_start_date_idx = (data_start_date - lockdown_effective_date).days\n",
    "    data_end_date_idx = (data_end_date - lockdown_effective_date).days\n",
    "    forecast_end_date_idx = data_end_date_idx + forecast_horizon\n",
    "    forecast_time_idx = (forecast_date_index - lockdown_effective_date).days.values\n",
    "    data_time_idx = (log_daily_death.index - lockdown_effective_date).days.values\n",
    "    log_daily_death['time_idx'] = data_time_idx\n",
    "    log_daily_death = log_daily_death.replace([np.inf, -np.inf], np.nan).dropna()\n",
    "    log_daily_death_before = log_daily_death[log_daily_death.time_idx < 0]\n",
    "    regr_before = linear_model.HuberRegressor(fit_intercept=True)\n",
    "    regr_before.fit(log_daily_death_before.time_idx.values.reshape(-1, 1), log_daily_death_before.death)\n",
    "    log_predicted_death_before_values = regr_before.predict(forecast_time_idx[forecast_time_idx < 0].reshape(-1, 1))\n",
    "    log_predicted_death_before_index = forecast_date_index[forecast_time_idx < 0]\n",
    "    log_predicted_death_before = pd.DataFrame(log_predicted_death_before_values,\n",
    "                                              index=log_predicted_death_before_index)\n",
    "    if all(forecast_time_idx < 0):\n",
    "        print(\"Lockdown is not effective in forecast range. Second model not needed\")\n",
    "        log_predicted_death_after = None\n",
    "    elif all(data_time_idx <= 1):\n",
    "        print(\"Use default second model due to no data\")\n",
    "        regr_after = linear_model.HuberRegressor(fit_intercept=True)\n",
    "        regr_after.coef_ = np.array([-0.04])\n",
    "        regr_after.intercept_ = log_predicted_death_before.iloc[-1, 0]\n",
    "        log_predicted_death_after_values = regr_after.predict(forecast_time_idx[forecast_time_idx >= 0].reshape(-1, 1))\n",
    "        log_predicted_death_after_index = forecast_date_index[forecast_time_idx >= 0]\n",
    "        log_predicted_death_after = pd.DataFrame(log_predicted_death_after_values,\n",
    "                                                 index=log_predicted_death_after_index)\n",
    "        log_predicted_death = pd.concat([log_predicted_death_before, log_predicted_death_after], axis=0)\n",
    "    else:\n",
    "        regr_pw = pwlf.PiecewiseLinFit(x=log_daily_death.time_idx.values, y=log_daily_death.death)\n",
    "        break_points = np.array([data_start_date_idx, 0, data_end_date_idx])\n",
    "        regr_pw.fit_with_breaks(break_points)\n",
    "        log_predicted_death_train = regr_pw.predict(log_daily_death.time_idx.values)\n",
    "        #Remove outliers that is in the 0.001 tail (mostly due to death reporting delay)\n",
    "        log_predicted_death_train_pred_var = regr_pw.prediction_variance(log_daily_death.time_idx.values)\n",
    "        log_predicted_death_train_lower_bound = log_predicted_death_train-3.29*np.sqrt(log_predicted_death_train_pred_var)\n",
    "        log_predicted_death_train_upper_bound = log_predicted_death_train+3.29*np.sqrt(log_predicted_death_train_pred_var)\n",
    "        \n",
    "        #import pdb; pdb.set_trace()\n",
    "        log_predicted_death_values = regr_pw.predict(forecast_time_idx)\n",
    "        log_predicted_death = pd.DataFrame(log_predicted_death_values, index=forecast_date_index)\n",
    "\n",
    "    log_predicted_death.columns = ['predicted_death']\n",
    "    return log_predicted_death, log_predicted_death_train,\\\n",
    "            log_predicted_death_train_lower_bound, log_predicted_death_train_upper_bound\n"
   ]
  },
  {
   "cell_type": "code",
   "execution_count": 108,
   "metadata": {
    "scrolled": false
   },
   "outputs": [
    {
     "name": "stderr",
     "output_type": "stream",
     "text": [
      "/Users/qtran/anaconda3/lib/python3.7/site-packages/ipykernel_launcher.py:14: RuntimeWarning: divide by zero encountered in log\n",
      "  \n",
      "/Users/qtran/anaconda3/lib/python3.7/site-packages/ipykernel_launcher.py:14: RuntimeWarning: invalid value encountered in log\n",
      "  \n"
     ]
    }
   ],
   "source": [
    "log_predicted, train, lb, ub = get_log_daily_predicted_death(local_death_data, forecast_horizon=60, lockdown_date='20200319')"
   ]
  },
  {
   "cell_type": "code",
   "execution_count": 109,
   "metadata": {},
   "outputs": [
    {
     "data": {
      "text/plain": [
       "<matplotlib.axes._subplots.AxesSubplot at 0x1a201a1d68>"
      ]
     },
     "execution_count": 109,
     "metadata": {},
     "output_type": "execute_result"
    },
    {
     "data": {
      "image/png": "[encoded data removed]",
      "text/plain": [
       "<Figure size 432x288 with 1 Axes>"
      ]
     },
     "metadata": {
      "needs_background": "light"
     },
     "output_type": "display_data"
    }
   ],
   "source": [
    "pd.DataFrame([lb, train, ub, log_daily_death.death]).T.plot()"
   ]
  },
  {
   "cell_type": "code",
   "execution_count": null,
   "metadata": {},
   "outputs": [],
   "source": [
    "pd.DataFrame([lb, train, ub, log_daily_death.death]).T.head()"
   ]
  },
  {
   "cell_type": "code",
   "execution_count": null,
   "metadata": {},
   "outputs": [],
   "source": [
    "def fix_delay_death_report():\n",
    "    '''The pattern we try to address is the death number in one day is significantly lower,\n",
    "    and then it is accumulated to a much higher death number for the next day, the day after that \n",
    "    we see the death number come back to normal'''"
   ]
  },
  {
   "cell_type": "code",
   "execution_count": 27,
   "metadata": {},
   "outputs": [],
   "source": [
    "forecast_horizon=60\n",
    "lockdown_date='20200123'"
   ]
  },
  {
   "cell_type": "code",
   "execution_count": 50,
   "metadata": {},
   "outputs": [
    {
     "name": "stderr",
     "output_type": "stream",
     "text": [
      "/Users/qtran/anaconda3/lib/python3.7/site-packages/ipykernel_launcher.py:3: RuntimeWarning: divide by zero encountered in log\n",
      "  This is separate from the ipykernel package so we can avoid doing imports until\n"
     ]
    }
   ],
   "source": [
    "daily_local_death_new = local_death_data.diff().fillna(0)\n",
    "daily_local_death_new.columns = ['death']\n",
    "log_daily_death = np.log(daily_local_death_new)\n",
    "# log_daily_death.dropna(inplace=True)\n",
    "data_start_date = min(local_death_data.index)\n",
    "data_end_date = max(local_death_data.index)\n",
    "forecast_end_date = data_end_date + dt.timedelta(forecast_horizon)\n",
    "forecast_date_index = pd.date_range(start=data_start_date, end=forecast_end_date)\n",
    "if lockdown_date is not None:\n",
    "    lockdown_date = pd.to_datetime(lockdown_date)\n",
    "else:\n",
    "    lockdown_date = forecast_end_date\n",
    "lockdown_effective_date = lockdown_date + dt.timedelta(\n",
    "    INFECT_2_HOSPITAL_TIME + HOSPITAL_2_ICU_TIME + ICU_2_DEATH_TIME)\n",
    "data_start_date_idx = (data_start_date - lockdown_effective_date).days\n",
    "data_end_date_idx = (data_end_date - lockdown_effective_date).days\n",
    "forecast_end_date_idx = data_end_date_idx + forecast_horizon\n",
    "forecast_time_idx = (forecast_date_index - lockdown_effective_date).days.values\n",
    "data_time_idx = (log_daily_death.index - lockdown_effective_date).days.values\n",
    "log_daily_death['time_idx'] = data_time_idx\n",
    "log_daily_death = log_daily_death.replace([np.inf, -np.inf], np.nan).dropna()\n",
    "log_daily_death_before = log_daily_death[log_daily_death.time_idx < 0]\n",
    "regr_before = linear_model.HuberRegressor(fit_intercept=True)\n",
    "regr_before.fit(log_daily_death_before.time_idx.values.reshape(-1, 1), log_daily_death_before.death)\n",
    "log_predicted_death_before_values = regr_before.predict(forecast_time_idx[forecast_time_idx < 0].reshape(-1, 1))\n",
    "log_predicted_death_before_index = forecast_date_index[forecast_time_idx < 0]\n",
    "log_predicted_death_before = pd.DataFrame(log_predicted_death_before_values,\n",
    "                                          index=log_predicted_death_before_index)\n",
    "if all(forecast_time_idx < 0):\n",
    "    print(\"Lockdown is not effective in forecast range. Second model not needed\")\n",
    "    log_predicted_death_after = None\n",
    "elif all(data_time_idx <= 1):\n",
    "    print(\"Use default second model due to no data\")\n",
    "    regr_after = linear_model.HuberRegressor(fit_intercept=True)\n",
    "    regr_after.coef_ = np.array([-0.04])\n",
    "    regr_after.intercept_ = log_predicted_death_before.iloc[-1, 0]\n",
    "    log_predicted_death_after_values = regr_after.predict(forecast_time_idx[forecast_time_idx >= 0].reshape(-1, 1))\n",
    "    log_predicted_death_after_index = forecast_date_index[forecast_time_idx >= 0]\n",
    "    log_predicted_death_after = pd.DataFrame(log_predicted_death_after_values,\n",
    "                                             index=log_predicted_death_after_index)\n",
    "    log_predicted_death = pd.concat([log_predicted_death_before, log_predicted_death_after], axis=0)\n",
    "else:\n",
    "    regr_after = linear_model.HuberRegressor(fit_intercept=True)\n",
    "    log_daily_death_after = log_daily_death[log_daily_death.time_idx >= 0]\n",
    "    regr_after.fit(log_daily_death_after.time_idx.values.reshape(-1, 1), \n",
    "                   log_daily_death_after.death)\n",
    "    outliers = np.concatenate((regr_before.outliers_ , regr_after.outliers_))\n",
    "    regr_pw = pwlf.PiecewiseLinFit(x=log_daily_death.time_idx.values, y=log_daily_death.death)\n",
    "    break_points = np.array([data_start_date_idx, 0, data_end_date_idx])\n",
    "    regr_pw.fit_with_breaks(break_points)\n",
    "    log_predicted_death_train = regr_pw.predict(log_daily_death.time_idx.values)\n",
    "    #Remove outliers that is in the 0.001 tail (mostly due to death reporting delay)\n",
    "    log_predicted_death_train_pred_var = regr_pw.prediction_variance(log_daily_death.time_idx.values)\n",
    "    log_predicted_death_train_lower_bound = log_predicted_death_train-3.29*np.sqrt(log_predicted_death_train_pred_var)\n",
    "    log_predicted_death_train_upper_bound = log_predicted_death_train+3.29*np.sqrt(log_predicted_death_train_pred_var)\n",
    "\n",
    "    #import pdb; pdb.set_trace()\n",
    "    log_predicted_death_values = regr_pw.predict(forecast_time_idx)\n",
    "    log_predicted_death = pd.DataFrame(log_predicted_death_values, index=forecast_date_index)\n",
    "\n",
    "log_predicted_death.columns = ['predicted_death']\n",
    "\n"
   ]
  },
  {
   "cell_type": "code",
   "execution_count": 91,
   "metadata": {},
   "outputs": [],
   "source": [
    "log_predicted_death_pred_var = regr_pw.prediction_variance(forecast_time_idx)\n",
    "log_predicted_death_lower_bound = log_predicted_death-1.96*np.sqrt(log_predicted_death_pred_var)\n",
    "log_predicted_death_upper_bound = log_predicted_death+1.96*np.sqrt(log_predicted_death_pred_var)\n",
    "\n"
   ]
  },
  {
   "cell_type": "code",
   "execution_count": 57,
   "metadata": {},
   "outputs": [
    {
     "data": {
      "text/plain": [
       "0.6441162645358374"
      ]
     },
     "execution_count": 57,
     "metadata": {},
     "output_type": "execute_result"
    }
   ],
   "source": [
    "regr_pw_new = pwlf.PiecewiseLinFit(x=log_daily_death[~outliers].time_idx.values, y=log_daily_death[~outliers].death)\n",
    "break_points = np.array([data_start_date_idx, 0, data_end_date_idx])\n",
    "regr_pw_new.fit_with_breaks(break_points)"
   ]
  },
  {
   "cell_type": "code",
   "execution_count": 52,
   "metadata": {},
   "outputs": [
    {
     "data": {
      "text/plain": [
       "(77,)"
      ]
     },
     "execution_count": 52,
     "metadata": {},
     "output_type": "execute_result"
    }
   ],
   "source": [
    "outliers.shape"
   ]
  },
  {
   "cell_type": "code",
   "execution_count": 56,
   "metadata": {},
   "outputs": [
    {
     "data": {
      "text/html": [
       "<div>\n",
       "<style scoped>\n",
       "    .dataframe tbody tr th:only-of-type {\n",
       "        vertical-align: middle;\n",
       "    }\n",
       "\n",
       "    .dataframe tbody tr th {\n",
       "        vertical-align: top;\n",
       "    }\n",
       "\n",
       "    .dataframe thead th {\n",
       "        text-align: right;\n",
       "    }\n",
       "</style>\n",
       "<table border=\"1\" class=\"dataframe\">\n",
       "  <thead>\n",
       "    <tr style=\"text-align: right;\">\n",
       "      <th></th>\n",
       "      <th>death</th>\n",
       "      <th>time_idx</th>\n",
       "    </tr>\n",
       "  </thead>\n",
       "  <tbody>\n",
       "    <tr>\n",
       "      <th>2020-01-25</th>\n",
       "      <td>2.772589</td>\n",
       "      <td>-18</td>\n",
       "    </tr>\n",
       "    <tr>\n",
       "      <th>2020-01-27</th>\n",
       "      <td>3.258097</td>\n",
       "      <td>-16</td>\n",
       "    </tr>\n",
       "    <tr>\n",
       "      <th>2020-01-30</th>\n",
       "      <td>3.637586</td>\n",
       "      <td>-13</td>\n",
       "    </tr>\n",
       "    <tr>\n",
       "      <th>2020-01-31</th>\n",
       "      <td>3.737670</td>\n",
       "      <td>-12</td>\n",
       "    </tr>\n",
       "    <tr>\n",
       "      <th>2020-02-01</th>\n",
       "      <td>3.828641</td>\n",
       "      <td>-11</td>\n",
       "    </tr>\n",
       "    <tr>\n",
       "      <th>2020-02-03</th>\n",
       "      <td>4.158883</td>\n",
       "      <td>-9</td>\n",
       "    </tr>\n",
       "    <tr>\n",
       "      <th>2020-02-04</th>\n",
       "      <td>4.189655</td>\n",
       "      <td>-8</td>\n",
       "    </tr>\n",
       "    <tr>\n",
       "      <th>2020-02-05</th>\n",
       "      <td>4.276666</td>\n",
       "      <td>-7</td>\n",
       "    </tr>\n",
       "    <tr>\n",
       "      <th>2020-02-06</th>\n",
       "      <td>4.248495</td>\n",
       "      <td>-6</td>\n",
       "    </tr>\n",
       "    <tr>\n",
       "      <th>2020-02-07</th>\n",
       "      <td>4.442651</td>\n",
       "      <td>-5</td>\n",
       "    </tr>\n",
       "    <tr>\n",
       "      <th>2020-02-08</th>\n",
       "      <td>4.465908</td>\n",
       "      <td>-4</td>\n",
       "    </tr>\n",
       "    <tr>\n",
       "      <th>2020-02-09</th>\n",
       "      <td>4.605170</td>\n",
       "      <td>-3</td>\n",
       "    </tr>\n",
       "    <tr>\n",
       "      <th>2020-02-10</th>\n",
       "      <td>4.672829</td>\n",
       "      <td>-2</td>\n",
       "    </tr>\n",
       "    <tr>\n",
       "      <th>2020-02-14</th>\n",
       "      <td>5.023881</td>\n",
       "      <td>2</td>\n",
       "    </tr>\n",
       "    <tr>\n",
       "      <th>2020-02-15</th>\n",
       "      <td>4.955827</td>\n",
       "      <td>3</td>\n",
       "    </tr>\n",
       "    <tr>\n",
       "      <th>2020-02-16</th>\n",
       "      <td>4.634729</td>\n",
       "      <td>4</td>\n",
       "    </tr>\n",
       "    <tr>\n",
       "      <th>2020-02-17</th>\n",
       "      <td>4.584967</td>\n",
       "      <td>5</td>\n",
       "    </tr>\n",
       "    <tr>\n",
       "      <th>2020-02-19</th>\n",
       "      <td>4.727388</td>\n",
       "      <td>7</td>\n",
       "    </tr>\n",
       "    <tr>\n",
       "      <th>2020-02-25</th>\n",
       "      <td>4.248495</td>\n",
       "      <td>13</td>\n",
       "    </tr>\n",
       "    <tr>\n",
       "      <th>2020-02-26</th>\n",
       "      <td>3.951244</td>\n",
       "      <td>14</td>\n",
       "    </tr>\n",
       "    <tr>\n",
       "      <th>2020-02-28</th>\n",
       "      <td>3.784190</td>\n",
       "      <td>16</td>\n",
       "    </tr>\n",
       "    <tr>\n",
       "      <th>2020-02-29</th>\n",
       "      <td>3.850148</td>\n",
       "      <td>17</td>\n",
       "    </tr>\n",
       "    <tr>\n",
       "      <th>2020-03-01</th>\n",
       "      <td>3.555348</td>\n",
       "      <td>18</td>\n",
       "    </tr>\n",
       "    <tr>\n",
       "      <th>2020-03-02</th>\n",
       "      <td>3.737670</td>\n",
       "      <td>19</td>\n",
       "    </tr>\n",
       "    <tr>\n",
       "      <th>2020-03-03</th>\n",
       "      <td>3.496508</td>\n",
       "      <td>20</td>\n",
       "    </tr>\n",
       "    <tr>\n",
       "      <th>2020-03-04</th>\n",
       "      <td>3.583519</td>\n",
       "      <td>21</td>\n",
       "    </tr>\n",
       "    <tr>\n",
       "      <th>2020-03-05</th>\n",
       "      <td>3.465736</td>\n",
       "      <td>22</td>\n",
       "    </tr>\n",
       "    <tr>\n",
       "      <th>2020-03-06</th>\n",
       "      <td>3.367296</td>\n",
       "      <td>23</td>\n",
       "    </tr>\n",
       "    <tr>\n",
       "      <th>2020-03-07</th>\n",
       "      <td>3.332205</td>\n",
       "      <td>24</td>\n",
       "    </tr>\n",
       "    <tr>\n",
       "      <th>2020-03-08</th>\n",
       "      <td>3.332205</td>\n",
       "      <td>25</td>\n",
       "    </tr>\n",
       "    <tr>\n",
       "      <th>2020-03-09</th>\n",
       "      <td>3.135494</td>\n",
       "      <td>26</td>\n",
       "    </tr>\n",
       "    <tr>\n",
       "      <th>2020-03-10</th>\n",
       "      <td>2.772589</td>\n",
       "      <td>27</td>\n",
       "    </tr>\n",
       "    <tr>\n",
       "      <th>2020-03-11</th>\n",
       "      <td>3.091042</td>\n",
       "      <td>28</td>\n",
       "    </tr>\n",
       "    <tr>\n",
       "      <th>2020-03-14</th>\n",
       "      <td>2.564949</td>\n",
       "      <td>31</td>\n",
       "    </tr>\n",
       "    <tr>\n",
       "      <th>2020-03-16</th>\n",
       "      <td>2.639057</td>\n",
       "      <td>33</td>\n",
       "    </tr>\n",
       "    <tr>\n",
       "      <th>2020-03-17</th>\n",
       "      <td>2.564949</td>\n",
       "      <td>34</td>\n",
       "    </tr>\n",
       "    <tr>\n",
       "      <th>2020-03-18</th>\n",
       "      <td>2.397895</td>\n",
       "      <td>35</td>\n",
       "    </tr>\n",
       "    <tr>\n",
       "      <th>2020-03-19</th>\n",
       "      <td>2.079442</td>\n",
       "      <td>36</td>\n",
       "    </tr>\n",
       "    <tr>\n",
       "      <th>2020-03-24</th>\n",
       "      <td>1.945910</td>\n",
       "      <td>41</td>\n",
       "    </tr>\n",
       "    <tr>\n",
       "      <th>2020-03-26</th>\n",
       "      <td>1.791759</td>\n",
       "      <td>43</td>\n",
       "    </tr>\n",
       "    <tr>\n",
       "      <th>2020-03-27</th>\n",
       "      <td>1.609438</td>\n",
       "      <td>44</td>\n",
       "    </tr>\n",
       "    <tr>\n",
       "      <th>2020-03-29</th>\n",
       "      <td>1.609438</td>\n",
       "      <td>46</td>\n",
       "    </tr>\n",
       "    <tr>\n",
       "      <th>2020-03-30</th>\n",
       "      <td>1.386294</td>\n",
       "      <td>47</td>\n",
       "    </tr>\n",
       "    <tr>\n",
       "      <th>2020-04-05</th>\n",
       "      <td>1.098612</td>\n",
       "      <td>53</td>\n",
       "    </tr>\n",
       "    <tr>\n",
       "      <th>2020-04-06</th>\n",
       "      <td>0.693147</td>\n",
       "      <td>54</td>\n",
       "    </tr>\n",
       "    <tr>\n",
       "      <th>2020-04-08</th>\n",
       "      <td>0.693147</td>\n",
       "      <td>56</td>\n",
       "    </tr>\n",
       "    <tr>\n",
       "      <th>2020-04-09</th>\n",
       "      <td>0.693147</td>\n",
       "      <td>57</td>\n",
       "    </tr>\n",
       "  </tbody>\n",
       "</table>\n",
       "</div>"
      ],
      "text/plain": [
       "               death  time_idx\n",
       "2020-01-25  2.772589       -18\n",
       "2020-01-27  3.258097       -16\n",
       "2020-01-30  3.637586       -13\n",
       "2020-01-31  3.737670       -12\n",
       "2020-02-01  3.828641       -11\n",
       "2020-02-03  4.158883        -9\n",
       "2020-02-04  4.189655        -8\n",
       "2020-02-05  4.276666        -7\n",
       "2020-02-06  4.248495        -6\n",
       "2020-02-07  4.442651        -5\n",
       "2020-02-08  4.465908        -4\n",
       "2020-02-09  4.605170        -3\n",
       "2020-02-10  4.672829        -2\n",
       "2020-02-14  5.023881         2\n",
       "2020-02-15  4.955827         3\n",
       "2020-02-16  4.634729         4\n",
       "2020-02-17  4.584967         5\n",
       "2020-02-19  4.727388         7\n",
       "2020-02-25  4.248495        13\n",
       "2020-02-26  3.951244        14\n",
       "2020-02-28  3.784190        16\n",
       "2020-02-29  3.850148        17\n",
       "2020-03-01  3.555348        18\n",
       "2020-03-02  3.737670        19\n",
       "2020-03-03  3.496508        20\n",
       "2020-03-04  3.583519        21\n",
       "2020-03-05  3.465736        22\n",
       "2020-03-06  3.367296        23\n",
       "2020-03-07  3.332205        24\n",
       "2020-03-08  3.332205        25\n",
       "2020-03-09  3.135494        26\n",
       "2020-03-10  2.772589        27\n",
       "2020-03-11  3.091042        28\n",
       "2020-03-14  2.564949        31\n",
       "2020-03-16  2.639057        33\n",
       "2020-03-17  2.564949        34\n",
       "2020-03-18  2.397895        35\n",
       "2020-03-19  2.079442        36\n",
       "2020-03-24  1.945910        41\n",
       "2020-03-26  1.791759        43\n",
       "2020-03-27  1.609438        44\n",
       "2020-03-29  1.609438        46\n",
       "2020-03-30  1.386294        47\n",
       "2020-04-05  1.098612        53\n",
       "2020-04-06  0.693147        54\n",
       "2020-04-08  0.693147        56\n",
       "2020-04-09  0.693147        57"
      ]
     },
     "execution_count": 56,
     "metadata": {},
     "output_type": "execute_result"
    }
   ],
   "source": [
    "log_daily_death[~outliers]"
   ]
  },
  {
   "cell_type": "code",
   "execution_count": 47,
   "metadata": {},
   "outputs": [
    {
     "data": {
      "text/plain": [
       "2020-01-23     True\n",
       "2020-01-24    False\n",
       "2020-01-25    False\n",
       "2020-01-26    False\n",
       "2020-01-27    False\n",
       "2020-01-28     True\n",
       "2020-01-29     True\n",
       "2020-01-30    False\n",
       "2020-01-31    False\n",
       "2020-02-01    False\n",
       "2020-02-02     True\n",
       "2020-02-03     True\n",
       "2020-02-04    False\n",
       "2020-02-05    False\n",
       "2020-02-06    False\n",
       "2020-02-07    False\n",
       "2020-02-08    False\n",
       "2020-02-09    False\n",
       "2020-02-10    False\n",
       "2020-02-11    False\n",
       "2020-02-12     True\n",
       "2020-02-13     True\n",
       "2020-02-14    False\n",
       "2020-02-15    False\n",
       "2020-02-16    False\n",
       "2020-02-17    False\n",
       "2020-02-18    False\n",
       "2020-02-19    False\n",
       "2020-02-20    False\n",
       "2020-02-22     True\n",
       "              ...  \n",
       "2020-03-11    False\n",
       "2020-03-12     True\n",
       "2020-03-13     True\n",
       "2020-03-14    False\n",
       "2020-03-15    False\n",
       "2020-03-16    False\n",
       "2020-03-17    False\n",
       "2020-03-18    False\n",
       "2020-03-19    False\n",
       "2020-03-20     True\n",
       "2020-03-21    False\n",
       "2020-03-22     True\n",
       "2020-03-24    False\n",
       "2020-03-25    False\n",
       "2020-03-26    False\n",
       "2020-03-27    False\n",
       "2020-03-28    False\n",
       "2020-03-29    False\n",
       "2020-03-30    False\n",
       "2020-03-31     True\n",
       "2020-04-01     True\n",
       "2020-04-02     True\n",
       "2020-04-03    False\n",
       "2020-04-04    False\n",
       "2020-04-05    False\n",
       "2020-04-06    False\n",
       "2020-04-08    False\n",
       "2020-04-09    False\n",
       "2020-04-10    False\n",
       "2020-04-11    False\n",
       "Name: death, Length: 77, dtype: bool"
      ]
     },
     "execution_count": 47,
     "metadata": {},
     "output_type": "execute_result"
    }
   ],
   "source": [
    "ncond"
   ]
  },
  {
   "cell_type": "code",
   "execution_count": 46,
   "metadata": {},
   "outputs": [],
   "source": [
    "ncond = abs(log_daily_death.death-log_predicted_death_train)>=3.29*np.sqrt(log_predicted_death_train_pred_var)"
   ]
  },
  {
   "cell_type": "code",
   "execution_count": 33,
   "metadata": {},
   "outputs": [],
   "source": [
    "cond = abs(log_daily_death.death-log_predicted_death_train)<3.29*np.sqrt(log_predicted_death_train_pred_var)"
   ]
  },
  {
   "cell_type": "code",
   "execution_count": 34,
   "metadata": {},
   "outputs": [
    {
     "data": {
      "text/plain": [
       "(77,)"
      ]
     },
     "execution_count": 34,
     "metadata": {},
     "output_type": "execute_result"
    }
   ],
   "source": [
    "cond.shape"
   ]
  },
  {
   "cell_type": "code",
   "execution_count": 35,
   "metadata": {},
   "outputs": [
    {
     "data": {
      "text/html": [
       "<div>\n",
       "<style scoped>\n",
       "    .dataframe tbody tr th:only-of-type {\n",
       "        vertical-align: middle;\n",
       "    }\n",
       "\n",
       "    .dataframe tbody tr th {\n",
       "        vertical-align: top;\n",
       "    }\n",
       "\n",
       "    .dataframe thead th {\n",
       "        text-align: right;\n",
       "    }\n",
       "</style>\n",
       "<table border=\"1\" class=\"dataframe\">\n",
       "  <thead>\n",
       "    <tr style=\"text-align: right;\">\n",
       "      <th></th>\n",
       "      <th>death</th>\n",
       "      <th>time_idx</th>\n",
       "    </tr>\n",
       "  </thead>\n",
       "  <tbody>\n",
       "    <tr>\n",
       "      <th>2020-01-24</th>\n",
       "      <td>2.079442</td>\n",
       "      <td>-19</td>\n",
       "    </tr>\n",
       "    <tr>\n",
       "      <th>2020-01-25</th>\n",
       "      <td>2.772589</td>\n",
       "      <td>-18</td>\n",
       "    </tr>\n",
       "    <tr>\n",
       "      <th>2020-01-26</th>\n",
       "      <td>2.639057</td>\n",
       "      <td>-17</td>\n",
       "    </tr>\n",
       "    <tr>\n",
       "      <th>2020-01-27</th>\n",
       "      <td>3.258097</td>\n",
       "      <td>-16</td>\n",
       "    </tr>\n",
       "    <tr>\n",
       "      <th>2020-01-30</th>\n",
       "      <td>3.637586</td>\n",
       "      <td>-13</td>\n",
       "    </tr>\n",
       "    <tr>\n",
       "      <th>2020-01-31</th>\n",
       "      <td>3.737670</td>\n",
       "      <td>-12</td>\n",
       "    </tr>\n",
       "    <tr>\n",
       "      <th>2020-02-01</th>\n",
       "      <td>3.828641</td>\n",
       "      <td>-11</td>\n",
       "    </tr>\n",
       "    <tr>\n",
       "      <th>2020-02-04</th>\n",
       "      <td>4.189655</td>\n",
       "      <td>-8</td>\n",
       "    </tr>\n",
       "    <tr>\n",
       "      <th>2020-02-05</th>\n",
       "      <td>4.276666</td>\n",
       "      <td>-7</td>\n",
       "    </tr>\n",
       "    <tr>\n",
       "      <th>2020-02-06</th>\n",
       "      <td>4.248495</td>\n",
       "      <td>-6</td>\n",
       "    </tr>\n",
       "    <tr>\n",
       "      <th>2020-02-07</th>\n",
       "      <td>4.442651</td>\n",
       "      <td>-5</td>\n",
       "    </tr>\n",
       "    <tr>\n",
       "      <th>2020-02-08</th>\n",
       "      <td>4.465908</td>\n",
       "      <td>-4</td>\n",
       "    </tr>\n",
       "    <tr>\n",
       "      <th>2020-02-09</th>\n",
       "      <td>4.605170</td>\n",
       "      <td>-3</td>\n",
       "    </tr>\n",
       "    <tr>\n",
       "      <th>2020-02-10</th>\n",
       "      <td>4.672829</td>\n",
       "      <td>-2</td>\n",
       "    </tr>\n",
       "    <tr>\n",
       "      <th>2020-02-11</th>\n",
       "      <td>4.605170</td>\n",
       "      <td>-1</td>\n",
       "    </tr>\n",
       "    <tr>\n",
       "      <th>2020-02-14</th>\n",
       "      <td>5.023881</td>\n",
       "      <td>2</td>\n",
       "    </tr>\n",
       "    <tr>\n",
       "      <th>2020-02-15</th>\n",
       "      <td>4.955827</td>\n",
       "      <td>3</td>\n",
       "    </tr>\n",
       "    <tr>\n",
       "      <th>2020-02-16</th>\n",
       "      <td>4.634729</td>\n",
       "      <td>4</td>\n",
       "    </tr>\n",
       "    <tr>\n",
       "      <th>2020-02-17</th>\n",
       "      <td>4.584967</td>\n",
       "      <td>5</td>\n",
       "    </tr>\n",
       "    <tr>\n",
       "      <th>2020-02-18</th>\n",
       "      <td>4.934474</td>\n",
       "      <td>6</td>\n",
       "    </tr>\n",
       "    <tr>\n",
       "      <th>2020-02-19</th>\n",
       "      <td>4.727388</td>\n",
       "      <td>7</td>\n",
       "    </tr>\n",
       "    <tr>\n",
       "      <th>2020-02-20</th>\n",
       "      <td>4.804021</td>\n",
       "      <td>8</td>\n",
       "    </tr>\n",
       "    <tr>\n",
       "      <th>2020-02-25</th>\n",
       "      <td>4.248495</td>\n",
       "      <td>13</td>\n",
       "    </tr>\n",
       "    <tr>\n",
       "      <th>2020-02-26</th>\n",
       "      <td>3.951244</td>\n",
       "      <td>14</td>\n",
       "    </tr>\n",
       "    <tr>\n",
       "      <th>2020-02-28</th>\n",
       "      <td>3.784190</td>\n",
       "      <td>16</td>\n",
       "    </tr>\n",
       "    <tr>\n",
       "      <th>2020-02-29</th>\n",
       "      <td>3.850148</td>\n",
       "      <td>17</td>\n",
       "    </tr>\n",
       "    <tr>\n",
       "      <th>2020-03-01</th>\n",
       "      <td>3.555348</td>\n",
       "      <td>18</td>\n",
       "    </tr>\n",
       "    <tr>\n",
       "      <th>2020-03-02</th>\n",
       "      <td>3.737670</td>\n",
       "      <td>19</td>\n",
       "    </tr>\n",
       "    <tr>\n",
       "      <th>2020-03-03</th>\n",
       "      <td>3.496508</td>\n",
       "      <td>20</td>\n",
       "    </tr>\n",
       "    <tr>\n",
       "      <th>2020-03-04</th>\n",
       "      <td>3.583519</td>\n",
       "      <td>21</td>\n",
       "    </tr>\n",
       "    <tr>\n",
       "      <th>2020-03-05</th>\n",
       "      <td>3.465736</td>\n",
       "      <td>22</td>\n",
       "    </tr>\n",
       "    <tr>\n",
       "      <th>2020-03-06</th>\n",
       "      <td>3.367296</td>\n",
       "      <td>23</td>\n",
       "    </tr>\n",
       "    <tr>\n",
       "      <th>2020-03-07</th>\n",
       "      <td>3.332205</td>\n",
       "      <td>24</td>\n",
       "    </tr>\n",
       "    <tr>\n",
       "      <th>2020-03-08</th>\n",
       "      <td>3.332205</td>\n",
       "      <td>25</td>\n",
       "    </tr>\n",
       "    <tr>\n",
       "      <th>2020-03-09</th>\n",
       "      <td>3.135494</td>\n",
       "      <td>26</td>\n",
       "    </tr>\n",
       "    <tr>\n",
       "      <th>2020-03-10</th>\n",
       "      <td>2.772589</td>\n",
       "      <td>27</td>\n",
       "    </tr>\n",
       "    <tr>\n",
       "      <th>2020-03-11</th>\n",
       "      <td>3.091042</td>\n",
       "      <td>28</td>\n",
       "    </tr>\n",
       "    <tr>\n",
       "      <th>2020-03-14</th>\n",
       "      <td>2.564949</td>\n",
       "      <td>31</td>\n",
       "    </tr>\n",
       "    <tr>\n",
       "      <th>2020-03-15</th>\n",
       "      <td>2.302585</td>\n",
       "      <td>32</td>\n",
       "    </tr>\n",
       "    <tr>\n",
       "      <th>2020-03-16</th>\n",
       "      <td>2.639057</td>\n",
       "      <td>33</td>\n",
       "    </tr>\n",
       "    <tr>\n",
       "      <th>2020-03-17</th>\n",
       "      <td>2.564949</td>\n",
       "      <td>34</td>\n",
       "    </tr>\n",
       "    <tr>\n",
       "      <th>2020-03-18</th>\n",
       "      <td>2.397895</td>\n",
       "      <td>35</td>\n",
       "    </tr>\n",
       "    <tr>\n",
       "      <th>2020-03-19</th>\n",
       "      <td>2.079442</td>\n",
       "      <td>36</td>\n",
       "    </tr>\n",
       "    <tr>\n",
       "      <th>2020-03-21</th>\n",
       "      <td>1.791759</td>\n",
       "      <td>38</td>\n",
       "    </tr>\n",
       "    <tr>\n",
       "      <th>2020-03-24</th>\n",
       "      <td>1.945910</td>\n",
       "      <td>41</td>\n",
       "    </tr>\n",
       "    <tr>\n",
       "      <th>2020-03-25</th>\n",
       "      <td>1.386294</td>\n",
       "      <td>42</td>\n",
       "    </tr>\n",
       "    <tr>\n",
       "      <th>2020-03-26</th>\n",
       "      <td>1.791759</td>\n",
       "      <td>43</td>\n",
       "    </tr>\n",
       "    <tr>\n",
       "      <th>2020-03-27</th>\n",
       "      <td>1.609438</td>\n",
       "      <td>44</td>\n",
       "    </tr>\n",
       "    <tr>\n",
       "      <th>2020-03-28</th>\n",
       "      <td>1.098612</td>\n",
       "      <td>45</td>\n",
       "    </tr>\n",
       "    <tr>\n",
       "      <th>2020-03-29</th>\n",
       "      <td>1.609438</td>\n",
       "      <td>46</td>\n",
       "    </tr>\n",
       "    <tr>\n",
       "      <th>2020-03-30</th>\n",
       "      <td>1.386294</td>\n",
       "      <td>47</td>\n",
       "    </tr>\n",
       "    <tr>\n",
       "      <th>2020-04-03</th>\n",
       "      <td>1.386294</td>\n",
       "      <td>51</td>\n",
       "    </tr>\n",
       "    <tr>\n",
       "      <th>2020-04-04</th>\n",
       "      <td>1.386294</td>\n",
       "      <td>52</td>\n",
       "    </tr>\n",
       "    <tr>\n",
       "      <th>2020-04-05</th>\n",
       "      <td>1.098612</td>\n",
       "      <td>53</td>\n",
       "    </tr>\n",
       "    <tr>\n",
       "      <th>2020-04-06</th>\n",
       "      <td>0.693147</td>\n",
       "      <td>54</td>\n",
       "    </tr>\n",
       "    <tr>\n",
       "      <th>2020-04-08</th>\n",
       "      <td>0.693147</td>\n",
       "      <td>56</td>\n",
       "    </tr>\n",
       "    <tr>\n",
       "      <th>2020-04-09</th>\n",
       "      <td>0.693147</td>\n",
       "      <td>57</td>\n",
       "    </tr>\n",
       "    <tr>\n",
       "      <th>2020-04-10</th>\n",
       "      <td>0.000000</td>\n",
       "      <td>58</td>\n",
       "    </tr>\n",
       "    <tr>\n",
       "      <th>2020-04-11</th>\n",
       "      <td>1.098612</td>\n",
       "      <td>59</td>\n",
       "    </tr>\n",
       "  </tbody>\n",
       "</table>\n",
       "</div>"
      ],
      "text/plain": [
       "               death  time_idx\n",
       "2020-01-24  2.079442       -19\n",
       "2020-01-25  2.772589       -18\n",
       "2020-01-26  2.639057       -17\n",
       "2020-01-27  3.258097       -16\n",
       "2020-01-30  3.637586       -13\n",
       "2020-01-31  3.737670       -12\n",
       "2020-02-01  3.828641       -11\n",
       "2020-02-04  4.189655        -8\n",
       "2020-02-05  4.276666        -7\n",
       "2020-02-06  4.248495        -6\n",
       "2020-02-07  4.442651        -5\n",
       "2020-02-08  4.465908        -4\n",
       "2020-02-09  4.605170        -3\n",
       "2020-02-10  4.672829        -2\n",
       "2020-02-11  4.605170        -1\n",
       "2020-02-14  5.023881         2\n",
       "2020-02-15  4.955827         3\n",
       "2020-02-16  4.634729         4\n",
       "2020-02-17  4.584967         5\n",
       "2020-02-18  4.934474         6\n",
       "2020-02-19  4.727388         7\n",
       "2020-02-20  4.804021         8\n",
       "2020-02-25  4.248495        13\n",
       "2020-02-26  3.951244        14\n",
       "2020-02-28  3.784190        16\n",
       "2020-02-29  3.850148        17\n",
       "2020-03-01  3.555348        18\n",
       "2020-03-02  3.737670        19\n",
       "2020-03-03  3.496508        20\n",
       "2020-03-04  3.583519        21\n",
       "2020-03-05  3.465736        22\n",
       "2020-03-06  3.367296        23\n",
       "2020-03-07  3.332205        24\n",
       "2020-03-08  3.332205        25\n",
       "2020-03-09  3.135494        26\n",
       "2020-03-10  2.772589        27\n",
       "2020-03-11  3.091042        28\n",
       "2020-03-14  2.564949        31\n",
       "2020-03-15  2.302585        32\n",
       "2020-03-16  2.639057        33\n",
       "2020-03-17  2.564949        34\n",
       "2020-03-18  2.397895        35\n",
       "2020-03-19  2.079442        36\n",
       "2020-03-21  1.791759        38\n",
       "2020-03-24  1.945910        41\n",
       "2020-03-25  1.386294        42\n",
       "2020-03-26  1.791759        43\n",
       "2020-03-27  1.609438        44\n",
       "2020-03-28  1.098612        45\n",
       "2020-03-29  1.609438        46\n",
       "2020-03-30  1.386294        47\n",
       "2020-04-03  1.386294        51\n",
       "2020-04-04  1.386294        52\n",
       "2020-04-05  1.098612        53\n",
       "2020-04-06  0.693147        54\n",
       "2020-04-08  0.693147        56\n",
       "2020-04-09  0.693147        57\n",
       "2020-04-10  0.000000        58\n",
       "2020-04-11  1.098612        59"
      ]
     },
     "execution_count": 35,
     "metadata": {},
     "output_type": "execute_result"
    }
   ],
   "source": [
    "log_daily_death_wo_outlier = log_daily_death[cond]\n",
    "log_daily_death_wo_outlier"
   ]
  },
  {
   "cell_type": "code",
   "execution_count": 36,
   "metadata": {},
   "outputs": [
    {
     "data": {
      "text/plain": [
       "2.929272842026111"
      ]
     },
     "execution_count": 36,
     "metadata": {},
     "output_type": "execute_result"
    }
   ],
   "source": [
    "regr_pw_wo_outlier = pwlf.PiecewiseLinFit(x=log_daily_death_wo_outlier.time_idx.values, y=log_daily_death_wo_outlier.death)\n",
    "break_points = np.array([data_start_date_idx, 0, data_end_date_idx])\n",
    "regr_pw_wo_outlier.fit_with_breaks(break_points)"
   ]
  },
  {
   "cell_type": "code",
   "execution_count": 59,
   "metadata": {},
   "outputs": [],
   "source": [
    "log_predicted_death_n_values = regr_pw_new.predict(forecast_time_idx)\n",
    "log_predicted_death_n = pd.DataFrame(log_predicted_death_n_values, index=forecast_date_index)"
   ]
  },
  {
   "cell_type": "code",
   "execution_count": 37,
   "metadata": {},
   "outputs": [],
   "source": [
    "log_predicted_death_new_values = regr_pw_wo_outlier.predict(forecast_time_idx)\n",
    "log_predicted_death_new = pd.DataFrame(log_predicted_death_new_values, index=forecast_date_index)"
   ]
  },
  {
   "cell_type": "code",
   "execution_count": 60,
   "metadata": {},
   "outputs": [
    {
     "data": {
      "text/plain": [
       "<matplotlib.axes._subplots.AxesSubplot at 0x1a1f0becf8>"
      ]
     },
     "execution_count": 60,
     "metadata": {},
     "output_type": "execute_result"
    },
    {
     "data": {
      "image/png": "[encoded data removed]",
      "text/plain": [
       "<Figure size 432x288 with 1 Axes>"
      ]
     },
     "metadata": {
      "needs_background": "light"
     },
     "output_type": "display_data"
    }
   ],
   "source": [
    "pd.concat([log_predicted_death_n, log_predicted_death_new, log_predicted_death, log_daily_death.death], axis=1).plot()"
   ]
  },
  {
   "cell_type": "code",
   "execution_count": 61,
   "metadata": {},
   "outputs": [],
   "source": [
    "predicted_death_n_cum = np.exp(log_predicted_death_n).astype(int).cumsum()"
   ]
  },
  {
   "cell_type": "code",
   "execution_count": 39,
   "metadata": {},
   "outputs": [],
   "source": [
    "predicted_death_new_cum = np.exp(log_predicted_death_new).astype(int).cumsum()"
   ]
  },
  {
   "cell_type": "code",
   "execution_count": 62,
   "metadata": {},
   "outputs": [
    {
     "data": {
      "text/plain": [
       "<matplotlib.axes._subplots.AxesSubplot at 0x1a1fd6d518>"
      ]
     },
     "execution_count": 62,
     "metadata": {},
     "output_type": "execute_result"
    },
    {
     "data": {
      "image/png": "[encoded data removed]",
      "text/plain": [
       "<Figure size 432x288 with 1 Axes>"
      ]
     },
     "metadata": {
      "needs_background": "light"
     },
     "output_type": "display_data"
    }
   ],
   "source": [
    "pd.concat([predicted_death_n_cum, local_death_data], axis=1).plot()"
   ]
  },
  {
   "cell_type": "code",
   "execution_count": 58,
   "metadata": {},
   "outputs": [
    {
     "data": {
      "text/plain": [
       "46.41039311738152"
      ]
     },
     "execution_count": 58,
     "metadata": {},
     "output_type": "execute_result"
    }
   ],
   "source": [
    "regr_pw.fit_with_breaks(break_points)"
   ]
  },
  {
   "cell_type": "code",
   "execution_count": null,
   "metadata": {},
   "outputs": [],
   "source": [
    "import matplotlib.pyplot as plt\n",
    "plt.plot(np.array([0.09501409, 0.08437188, 0.07452454, 0.06547205, 0.05721442,\n",
    "       0.04975166, 0.04308375, 0.0372107 , 0.03213251, 0.02784919,\n",
    "       0.02436072, 0.02166711, 0.01976836, 0.01866447, 0.01835545,\n",
    "       0.01884128, 0.02012197, 0.02219752, 0.02506793, 0.0287332 ,\n",
    "       0.03319333, 0.03150572, 0.02988301, 0.0283252 , 0.02683229,\n",
    "       0.02540428, 0.02404117, 0.02274296, 0.02150964, 0.01923772,\n",
    "       0.01819911, 0.0172254 , 0.01631659, 0.01547268, 0.01469367,\n",
    "       0.01397956, 0.01333035, 0.01274604, 0.01222663, 0.01177212,\n",
    "       0.01138251, 0.0110578 , 0.010798  , 0.01060309, 0.01047308,\n",
    "       0.01040797, 0.01040776, 0.01047245, 0.01060204, 0.01079653,\n",
    "       0.01105593, 0.01138022, 0.01176941, 0.0122235 , 0.01274249,\n",
    "       0.01332638, 0.01397518, 0.01468887, 0.01546746, 0.01721935,\n",
    "       0.01819264, 0.01923083, 0.02033392, 0.02150192, 0.02273481,\n",
    "       0.0240326 , 0.0253953 , 0.02682289, 0.02831538, 0.02987278,\n",
    "       0.03149507, 0.03318226, 0.03493436, 0.03863325, 0.04058004,\n",
    "       0.04259173]))"
   ]
  },
  {
   "cell_type": "code",
   "execution_count": null,
   "metadata": {},
   "outputs": [],
   "source": [
    "log_daily_death.plot()"
   ]
  },
  {
   "cell_type": "code",
   "execution_count": null,
   "metadata": {},
   "outputs": [],
   "source": [
    "log_predicted.plot()"
   ]
  },
  {
   "cell_type": "code",
   "execution_count": null,
   "metadata": {},
   "outputs": [],
   "source": [
    "log_predicted.columns = ['death']\n"
   ]
  },
  {
   "cell_type": "code",
   "execution_count": null,
   "metadata": {},
   "outputs": [],
   "source": [
    "log_daily_death-log_predicted"
   ]
  },
  {
   "cell_type": "code",
   "execution_count": 63,
   "metadata": {},
   "outputs": [],
   "source": [
    "import model_utils as mu"
   ]
  },
  {
   "cell_type": "code",
   "execution_count": 94,
   "metadata": {},
   "outputs": [],
   "source": [
    "vermont = mu.get_US_death_data_by_state('California')"
   ]
  },
  {
   "cell_type": "code",
   "execution_count": 78,
   "metadata": {},
   "outputs": [
    {
     "data": {
      "text/plain": [
       "<matplotlib.axes._subplots.AxesSubplot at 0x1a1fbebeb8>"
      ]
     },
     "execution_count": 78,
     "metadata": {},
     "output_type": "execute_result"
    },
    {
     "data": {
      "image/png": "[encoded data removed]",
      "text/plain": [
       "<Figure size 432x288 with 1 Axes>"
      ]
     },
     "metadata": {
      "needs_background": "light"
     },
     "output_type": "display_data"
    }
   ],
   "source": [
    "vermont.plot()"
   ]
  },
  {
   "cell_type": "code",
   "execution_count": 79,
   "metadata": {},
   "outputs": [
    {
     "data": {
      "text/plain": [
       "<matplotlib.axes._subplots.AxesSubplot at 0x1a1f1f3780>"
      ]
     },
     "execution_count": 79,
     "metadata": {},
     "output_type": "execute_result"
    },
    {
     "data": {
      "image/png": "[encoded data removed]",
      "text/plain": [
       "<Figure size 432x288 with 1 Axes>"
      ]
     },
     "metadata": {
      "needs_background": "light"
     },
     "output_type": "display_data"
    }
   ],
   "source": [
    "vermont.diff().plot()"
   ]
  },
  {
   "cell_type": "code",
   "execution_count": 85,
   "metadata": {},
   "outputs": [
    {
     "name": "stdout",
     "output_type": "stream",
     "text": [
      "> /Users/qtran/covid19/COVID-19/prognosis/model_utils.py(231)get_log_daily_predicted_death()\n",
      "-> regr_pw = pwlf.PiecewiseLinFit(x=log_daily_death[~outliers].time_idx.values, y=log_daily_death[~outliers].death)\n",
      "(Pdb) p outliers\n",
      "array([0., 0., 0., 0., 1., 0., 1., 1., 0., 0., 0., 0., 1., 0., 0., 1., 1.,\n",
      "       0., 0., 1.])\n",
      "(Pdb) p log_daily_death[~outliers].time_idx.values\n",
      "*** TypeError: ufunc 'invert' not supported for the input types, and the inputs could not be safely coerced to any supported types according to the casting rule ''safe''\n",
      "(Pdb) p outliers_before\n",
      "array([False, False, False, False,  True, False,  True,  True, False,\n",
      "       False, False, False,  True, False, False,  True,  True, False,\n",
      "       False,  True])\n",
      "(Pdb) p outliers_after\n",
      "array([], dtype=float64)\n",
      "(Pdb) np.concatenate((outliers_before, None))\n",
      "*** ValueError: all the input arrays must have same number of dimensions\n",
      "(Pdb) np.concatenate((outliers_before,np.array([]))\n",
      "*** SyntaxError: unexpected EOF while parsing\n",
      "(Pdb) np.concatenate((outliers_before,np.array([])))\n",
      "array([0., 0., 0., 0., 1., 0., 1., 1., 0., 0., 0., 0., 1., 0., 0., 1., 1.,\n",
      "       0., 0., 1.])\n",
      "(Pdb) q\n"
     ]
    }
   ],
   "source": [
    "import pdb; pdb.pm()"
   ]
  },
  {
   "cell_type": "code",
   "execution_count": 74,
   "metadata": {},
   "outputs": [
    {
     "data": {
      "text/plain": [
       "array([False, False, False])"
      ]
     },
     "execution_count": 74,
     "metadata": {},
     "output_type": "execute_result"
    }
   ],
   "source": [
    "np.array([False]*3)"
   ]
  },
  {
   "cell_type": "code",
   "execution_count": 105,
   "metadata": {},
   "outputs": [
    {
     "name": "stdout",
     "output_type": "stream",
     "text": [
      "> /Users/qtran/anaconda3/lib/python3.7/site-packages/pandas/core/ops.py(1947)to_series()\n",
      "-> given_len=len(right)))\n",
      "(Pdb) l\n",
      "1942 \t                                            given_len=len(right)))\n",
      "1943 \t            right = left._constructor_sliced(right, index=left.index)\n",
      "1944 \t        else:\n",
      "1945 \t            if len(left.columns) != len(right):\n",
      "1946 \t                raise ValueError(msg.format(req_len=len(left.columns),\n",
      "1947 ->\t                                            given_len=len(right)))\n",
      "1948 \t            right = left._constructor_sliced(right, index=left.columns)\n",
      "1949 \t        return right\n",
      "1950 \t\n",
      "1951 \t    if isinstance(right, np.ndarray):\n",
      "1952 \t\n",
      "(Pdb) u\n",
      "> /Users/qtran/anaconda3/lib/python3.7/site-packages/pandas/core/ops.py(1954)_align_method_FRAME()\n",
      "-> right = to_series(right)\n",
      "(Pdb) u\n",
      "> /Users/qtran/anaconda3/lib/python3.7/site-packages/pandas/core/ops.py(2018)f()\n",
      "-> other = _align_method_FRAME(self, other, axis)\n",
      "(Pdb) u\n",
      "> /Users/qtran/covid19/COVID-19/prognosis/model_utils.py(241)get_log_daily_predicted_death()\n",
      "-> log_predicted_death_lower_bound = log_predicted_death - 1.96 * np.sqrt(log_predicted_death_pred_var)\n",
      "(Pdb) p log_predicted_death\n",
      "                   0\n",
      "2020-03-04 -0.577726\n",
      "2020-03-05 -0.438835\n",
      "2020-03-06 -0.299944\n",
      "2020-03-07 -0.161053\n",
      "2020-03-08 -0.022162\n",
      "2020-03-09  0.116729\n",
      "2020-03-10  0.255620\n",
      "2020-03-11  0.394511\n",
      "2020-03-12  0.533402\n",
      "2020-03-13  0.672293\n",
      "2020-03-14  0.811184\n",
      "2020-03-15  0.950076\n",
      "2020-03-16  1.088967\n",
      "2020-03-17  1.227858\n",
      "2020-03-18  1.366749\n",
      "2020-03-19  1.505640\n",
      "2020-03-20  1.644531\n",
      "2020-03-21  1.783422\n",
      "2020-03-22  1.922313\n",
      "2020-03-23  2.061204\n",
      "2020-03-24  2.200095\n",
      "2020-03-25  2.338986\n",
      "2020-03-26  2.477877\n",
      "2020-03-27  2.616768\n",
      "2020-03-28  2.755659\n",
      "2020-03-29  2.894551\n",
      "2020-03-30  3.033442\n",
      "2020-03-31  3.172333\n",
      "2020-04-01  3.311224\n",
      "2020-04-02  3.450115\n",
      "...              ...\n",
      "2020-05-13 -0.359012\n",
      "2020-05-14 -0.484111\n",
      "2020-05-15 -0.609211\n",
      "2020-05-16 -0.734310\n",
      "2020-05-17 -0.859410\n",
      "2020-05-18 -0.984509\n",
      "2020-05-19 -1.109609\n",
      "2020-05-20 -1.234708\n",
      "2020-05-21 -1.359808\n",
      "2020-05-22 -1.484907\n",
      "2020-05-23 -1.610007\n",
      "2020-05-24 -1.735106\n",
      "2020-05-25 -1.860206\n",
      "2020-05-26 -1.985305\n",
      "2020-05-27 -2.110405\n",
      "2020-05-28 -2.235504\n",
      "2020-05-29 -2.360604\n",
      "2020-05-30 -2.485703\n",
      "2020-05-31 -2.610803\n",
      "2020-06-01 -2.735902\n",
      "2020-06-02 -2.861002\n",
      "2020-06-03 -2.986101\n",
      "2020-06-04 -3.111201\n",
      "2020-06-05 -3.236300\n",
      "2020-06-06 -3.361400\n",
      "2020-06-07 -3.486499\n",
      "2020-06-08 -3.611599\n",
      "2020-06-09 -3.736698\n",
      "2020-06-10 -3.861798\n",
      "2020-06-11 -3.986897\n",
      "\n",
      "[100 rows x 1 columns]\n",
      "(Pdb) p np.sqrt(log_predicted_death_pred_var)\n",
      "array([0.13636187, 0.13087327, 0.12541815, 0.12000107, 0.11462743,\n",
      "       0.10930363, 0.10403733, 0.09883772, 0.09371589, 0.08868534,\n",
      "       0.08376249, 0.07896751, 0.07432513, 0.0698658 , 0.06562682,\n",
      "       0.06165367, 0.05800101, 0.05473303, 0.05192243, 0.04964693,\n",
      "       0.04798274, 0.04699484, 0.04672614, 0.04718894, 0.04836223,\n",
      "       0.05019622, 0.05262187, 0.05556175, 0.05893896, 0.06268285,\n",
      "       0.06673174, 0.07103348, 0.0755449 , 0.08023064, 0.08506188,\n",
      "       0.07099967, 0.07793317, 0.10165336, 0.13349318, 0.16892202,\n",
      "       0.20609723, 0.24422262, 0.28291431, 0.3219682 , 0.36126685,\n",
      "       0.40073825, 0.44033596, 0.48002871, 0.51979474, 0.55961842,\n",
      "       0.59948826, 0.63939563, 0.67933392, 0.71929797, 0.75928372,\n",
      "       0.79928791, 0.8393079 , 0.87934154, 0.91938704, 0.95944292,\n",
      "       0.99950793, 1.03958102, 1.07966128, 1.11974794, 1.15984035,\n",
      "       1.19993792, 1.24004016, 1.28014662, 1.32025692, 1.36037072,\n",
      "       1.40048773, 1.44060766, 1.4807303 , 1.52085541, 1.56098281,\n",
      "       1.60111233, 1.64124381, 1.68137712, 1.72151211, 1.76164869,\n",
      "       1.80178674, 1.84192617, 1.88206689, 1.92220881, 1.96235187,\n",
      "       2.00249599, 2.04264112, 2.08278719, 2.12293415, 2.16308196,\n",
      "       2.20323056, 2.24337991, 2.28352998, 2.32368072, 2.3638321 ,\n",
      "       2.4039841 , 2.44413667, 2.48428979, 2.52444344, 2.56459759])\n",
      "(Pdb) q\n"
     ]
    }
   ],
   "source": [
    "import pdb; pdb.pm()"
   ]
  },
  {
   "cell_type": "code",
   "execution_count": 112,
   "metadata": {},
   "outputs": [
    {
     "name": "stderr",
     "output_type": "stream",
     "text": [
      "/Users/qtran/covid19/COVID-19/prognosis/model_utils.py:181: RuntimeWarning: divide by zero encountered in log\n",
      "  log_daily_death = np.log(daily_local_death_new)\n",
      "/Users/qtran/covid19/COVID-19/prognosis/model_utils.py:181: RuntimeWarning: invalid value encountered in log\n",
      "  log_daily_death = np.log(daily_local_death_new)\n"
     ]
    }
   ],
   "source": [
    "pre, ub, lb = mu.get_log_daily_predicted_death(vermont, lockdown_date='20200319')"
   ]
  },
  {
   "cell_type": "code",
   "execution_count": 113,
   "metadata": {},
   "outputs": [
    {
     "data": {
      "text/plain": [
       "<matplotlib.axes._subplots.AxesSubplot at 0x1a21833240>"
      ]
     },
     "execution_count": 113,
     "metadata": {},
     "output_type": "execute_result"
    },
    {
     "data": {
      "image/png": "[encoded data removed]",
      "text/plain": [
       "<Figure size 432x288 with 1 Axes>"
      ]
     },
     "metadata": {
      "needs_background": "light"
     },
     "output_type": "display_data"
    }
   ],
   "source": [
    "pd.concat([pre, ub, lb], axis=1).plot()"
   ]
  },
  {
   "cell_type": "code",
   "execution_count": 69,
   "metadata": {},
   "outputs": [],
   "source": [
    "mu.DEATH_RATE = 1.0\n",
    "mu.ICU_RATE = 5.0\n",
    "mu.HOSPITAL_RATE = 15.0\n",
    "mu.SYMPTOM_RATE = 20.0\n",
    "mu.INFECT_2_HOSPITAL_TIME = 12\n",
    "mu.HOSPITAL_2_ICU_TIME = 2\n",
    "mu.ICU_2_DEATH_TIME = 5\n",
    "mu.ICU_2_RECOVER_TIME = 11\n",
    "mu.NOT_ICU_DISCHARGE_TIME = 7\n"
   ]
  },
  {
   "cell_type": "code",
   "execution_count": 118,
   "metadata": {},
   "outputs": [
    {
     "data": {
      "text/plain": [
       "<module 'model_utils' from '/Users/qtran/covid19/COVID-19/prognosis/model_utils.py'>"
      ]
     },
     "execution_count": 118,
     "metadata": {},
     "output_type": "execute_result"
    }
   ],
   "source": [
    "import importlib\n",
    "importlib.reload(mu)"
   ]
  },
  {
   "cell_type": "code",
   "execution_count": 116,
   "metadata": {},
   "outputs": [
    {
     "name": "stderr",
     "output_type": "stream",
     "text": [
      "/Users/qtran/covid19/COVID-19/prognosis/model_utils.py:314: RuntimeWarning: divide by zero encountered in log\n",
      "  daily_local_death_new.columns = ['death']\n",
      "/Users/qtran/covid19/COVID-19/prognosis/model_utils.py:181: RuntimeWarning: divide by zero encountered in log\n",
      "  log_daily_death = np.log(daily_local_death_new)\n"
     ]
    },
    {
     "data": {
      "text/plain": [
       "<matplotlib.axes._subplots.AxesSubplot at 0x1a2032d4e0>"
      ]
     },
     "execution_count": 116,
     "metadata": {},
     "output_type": "execute_result"
    },
    {
     "data": {
      "image/png": "[encoded data removed]",
      "text/plain": [
       "<Figure size 432x288 with 1 Axes>"
      ]
     },
     "metadata": {
      "needs_background": "light"
     },
     "output_type": "display_data"
    }
   ],
   "source": [
    "mu.get_log_daily_predicted_death_by_country('US', lockdown_date='20200322').plot()"
   ]
  },
  {
   "cell_type": "code",
   "execution_count": 120,
   "metadata": {},
   "outputs": [
    {
     "name": "stderr",
     "output_type": "stream",
     "text": [
      "/Users/qtran/covid19/COVID-19/prognosis/model_utils.py:326: RuntimeWarning: divide by zero encountered in log\n",
      "  return  pd.concat([log_daily_death, log_predicted_death], axis=1).replace([np.inf, -np.inf], np.nan)\n",
      "/Users/qtran/covid19/COVID-19/prognosis/model_utils.py:326: RuntimeWarning: invalid value encountered in log\n",
      "  return  pd.concat([log_daily_death, log_predicted_death], axis=1).replace([np.inf, -np.inf], np.nan)\n",
      "/Users/qtran/covid19/COVID-19/prognosis/model_utils.py:181: RuntimeWarning: divide by zero encountered in log\n",
      "  log_daily_death = np.log(daily_local_death_new)\n",
      "/Users/qtran/covid19/COVID-19/prognosis/model_utils.py:181: RuntimeWarning: invalid value encountered in log\n",
      "  log_daily_death = np.log(daily_local_death_new)\n"
     ]
    },
    {
     "data": {
      "text/plain": [
       "<matplotlib.axes._subplots.AxesSubplot at 0x1a20331e48>"
      ]
     },
     "execution_count": 120,
     "metadata": {},
     "output_type": "execute_result"
    },
    {
     "data": {
      "image/png": "[encoded data removed]",
      "text/plain": [
       "<Figure size 432x288 with 1 Axes>"
      ]
     },
     "metadata": {
      "needs_background": "light"
     },
     "output_type": "display_data"
    }
   ],
   "source": [
    "mu.get_log_daily_predicted_death_by_state_US('California', lockdown_date='20200322').plot()"
   ]
  },
  {
   "cell_type": "code",
   "execution_count": null,
   "metadata": {},
   "outputs": [],
   "source": []
  }
 ],
 "metadata": {
  "kernelspec": {
   "display_name": "Python 3",
   "language": "python",
   "name": "python3"
  },
  "language_info": {
   "codemirror_mode": {
    "name": "ipython",
    "version": 3
   },
   "file_extension": ".py",
   "mimetype": "text/x-python",
   "name": "python",
   "nbconvert_exporter": "python",
   "pygments_lexer": "ipython3",
   "version": "3.7.3"
  }
 },
 "nbformat": 4,
 "nbformat_minor": 2
}
