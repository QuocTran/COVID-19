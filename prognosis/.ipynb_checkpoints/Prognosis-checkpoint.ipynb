{
 "cells": [
  {
   "cell_type": "code",
   "execution_count": 3,
   "metadata": {},
   "outputs": [],
   "source": [
    "import pandas as pd\n",
    "import matplotlib.pyplot as plt\n",
    "import numpy as np\n",
    "import datetime as dt\n",
    "from sklearn import linear_model\n",
    "import pwlf"
   ]
  },
  {
   "cell_type": "markdown",
   "metadata": {},
   "source": [
    "# Assumptions"
   ]
  },
  {
   "cell_type": "code",
   "execution_count": 4,
   "metadata": {},
   "outputs": [],
   "source": [
    "DEATH_RATE = 0.01\n",
    "ICU_RATE = 0.05\n",
    "HOSPITAL_RATE = 0.15\n",
    "SYMPTOM_RATE = 0.2\n",
    "INFECT_2_HOSPITAL_TIME = 13\n",
    "HOSPITAL_2_ICU_TIME = 2\n",
    "ICU_2_DEATH_TIME = 5\n",
    "ICU_2_RECOVER_TIME = 11\n",
    "NOT_ICU_DISCHARGE_TIME = 7"
   ]
  },
  {
   "cell_type": "code",
   "execution_count": 5,
   "metadata": {},
   "outputs": [],
   "source": [
    "avg_icu_time = int(np.round((ICU_2_DEATH_TIME*DEATH_RATE + ICU_2_RECOVER_TIME*(ICU_RATE-DEATH_RATE))/ICU_RATE, 0)) \n",
    "#(included both dead (5) and alive(11)): (5+11*4)/5\n",
    "# Only ICU (critical) can develop death\n",
    "avg_hospital_time = int(np.round(((HOSPITAL_2_ICU_TIME+ICU_2_DEATH_TIME)*DEATH_RATE+\n",
    "                                  (HOSPITAL_2_ICU_TIME+ICU_2_RECOVER_TIME+NOT_ICU_DISCHARGE_TIME)*(ICU_RATE-DEATH_RATE)+\n",
    "                                  NOT_ICU_DISCHARGE_TIME*(HOSPITAL_RATE-ICU_RATE))/HOSPITAL_RATE))\n",
    "#Average hospital time is 10 (assume 7 days discharge if not in ICU or come back from ICU): ((2+5)+(2+11+7)*4)+7*10)/15"
   ]
  },
  {
   "cell_type": "markdown",
   "metadata": {},
   "source": [
    "# Data"
   ]
  },
  {
   "cell_type": "code",
   "execution_count": 19,
   "metadata": {},
   "outputs": [],
   "source": [
    "def get_data(file_template='../csse_covid_19_data/csse_covid_19_time_series/time_series_covid19_{type}_{scope}.csv',\n",
    "            type='death', scope='global'):\n",
    "    \"\"\" type = enum('death', 'confirmed', 'recovered'), scope=enum('global', 'US')\"\"\"\n",
    "    death_data = pd.read_csv(file_template.format(type=type, scope=scope))\n",
    "    return death_data.rename(index=str, columns={\"Country/Region\": \"Country\", \n",
    "                                                 \"Province/State\": \"State\",\n",
    "                                                 \"Country_Region\": \"Country\", \n",
    "                                                 \"Province_State\": \"State\", \n",
    "                                                 \"Admin2\": \"County\"}, error='ignore')"
   ]
  },
  {
   "cell_type": "code",
   "execution_count": 20,
   "metadata": {},
   "outputs": [
    {
     "ename": "FileNotFoundError",
     "evalue": "[Errno 2] File b'../csse_covid_19_data/csse_covid_19_time_series/time_series_covid19_death_global.csv' does not exist: b'../csse_covid_19_data/csse_covid_19_time_series/time_series_covid19_death_global.csv'",
     "output_type": "error",
     "traceback": [
      "\u001b[0;31m---------------------------------------------------------------------------\u001b[0m",
      "\u001b[0;31mFileNotFoundError\u001b[0m                         Traceback (most recent call last)",
      "\u001b[0;32m<ipython-input-20-2dede1b4bc8f>\u001b[0m in \u001b[0;36m<module>\u001b[0;34m\u001b[0m\n\u001b[0;32m----> 1\u001b[0;31m \u001b[0mthu_data\u001b[0m \u001b[0;34m=\u001b[0m \u001b[0mget_data\u001b[0m\u001b[0;34m(\u001b[0m\u001b[0;34m)\u001b[0m\u001b[0;34m\u001b[0m\u001b[0;34m\u001b[0m\u001b[0m\n\u001b[0m",
      "\u001b[0;32m<ipython-input-19-ce561fe278e5>\u001b[0m in \u001b[0;36mget_data\u001b[0;34m(file_template, type, scope)\u001b[0m\n\u001b[1;32m      2\u001b[0m             type='death', scope='global'):\n\u001b[1;32m      3\u001b[0m     \u001b[0;34m\"\"\" type = enum('death', 'confirmed', 'recovered'), scope=enum('global', 'US')\"\"\"\u001b[0m\u001b[0;34m\u001b[0m\u001b[0;34m\u001b[0m\u001b[0m\n\u001b[0;32m----> 4\u001b[0;31m     \u001b[0mdeath_data\u001b[0m \u001b[0;34m=\u001b[0m \u001b[0mpd\u001b[0m\u001b[0;34m.\u001b[0m\u001b[0mread_csv\u001b[0m\u001b[0;34m(\u001b[0m\u001b[0mfile_template\u001b[0m\u001b[0;34m.\u001b[0m\u001b[0mformat\u001b[0m\u001b[0;34m(\u001b[0m\u001b[0mtype\u001b[0m\u001b[0;34m=\u001b[0m\u001b[0mtype\u001b[0m\u001b[0;34m,\u001b[0m \u001b[0mscope\u001b[0m\u001b[0;34m=\u001b[0m\u001b[0mscope\u001b[0m\u001b[0;34m)\u001b[0m\u001b[0;34m)\u001b[0m\u001b[0;34m\u001b[0m\u001b[0;34m\u001b[0m\u001b[0m\n\u001b[0m\u001b[1;32m      5\u001b[0m     return death_data.rename(index=str, columns={\"Country/Region\": \"Country\", \n\u001b[1;32m      6\u001b[0m                                                  \u001b[0;34m\"Province/State\"\u001b[0m\u001b[0;34m:\u001b[0m \u001b[0;34m\"State\"\u001b[0m\u001b[0;34m,\u001b[0m\u001b[0;34m\u001b[0m\u001b[0;34m\u001b[0m\u001b[0m\n",
      "\u001b[0;32m~/anaconda3/lib/python3.7/site-packages/pandas/io/parsers.py\u001b[0m in \u001b[0;36mparser_f\u001b[0;34m(filepath_or_buffer, sep, delimiter, header, names, index_col, usecols, squeeze, prefix, mangle_dupe_cols, dtype, engine, converters, true_values, false_values, skipinitialspace, skiprows, skipfooter, nrows, na_values, keep_default_na, na_filter, verbose, skip_blank_lines, parse_dates, infer_datetime_format, keep_date_col, date_parser, dayfirst, iterator, chunksize, compression, thousands, decimal, lineterminator, quotechar, quoting, doublequote, escapechar, comment, encoding, dialect, tupleize_cols, error_bad_lines, warn_bad_lines, delim_whitespace, low_memory, memory_map, float_precision)\u001b[0m\n\u001b[1;32m    700\u001b[0m                     skip_blank_lines=skip_blank_lines)\n\u001b[1;32m    701\u001b[0m \u001b[0;34m\u001b[0m\u001b[0m\n\u001b[0;32m--> 702\u001b[0;31m         \u001b[0;32mreturn\u001b[0m \u001b[0m_read\u001b[0m\u001b[0;34m(\u001b[0m\u001b[0mfilepath_or_buffer\u001b[0m\u001b[0;34m,\u001b[0m \u001b[0mkwds\u001b[0m\u001b[0;34m)\u001b[0m\u001b[0;34m\u001b[0m\u001b[0;34m\u001b[0m\u001b[0m\n\u001b[0m\u001b[1;32m    703\u001b[0m \u001b[0;34m\u001b[0m\u001b[0m\n\u001b[1;32m    704\u001b[0m     \u001b[0mparser_f\u001b[0m\u001b[0;34m.\u001b[0m\u001b[0m__name__\u001b[0m \u001b[0;34m=\u001b[0m \u001b[0mname\u001b[0m\u001b[0;34m\u001b[0m\u001b[0;34m\u001b[0m\u001b[0m\n",
      "\u001b[0;32m~/anaconda3/lib/python3.7/site-packages/pandas/io/parsers.py\u001b[0m in \u001b[0;36m_read\u001b[0;34m(filepath_or_buffer, kwds)\u001b[0m\n\u001b[1;32m    427\u001b[0m \u001b[0;34m\u001b[0m\u001b[0m\n\u001b[1;32m    428\u001b[0m     \u001b[0;31m# Create the parser.\u001b[0m\u001b[0;34m\u001b[0m\u001b[0;34m\u001b[0m\u001b[0;34m\u001b[0m\u001b[0m\n\u001b[0;32m--> 429\u001b[0;31m     \u001b[0mparser\u001b[0m \u001b[0;34m=\u001b[0m \u001b[0mTextFileReader\u001b[0m\u001b[0;34m(\u001b[0m\u001b[0mfilepath_or_buffer\u001b[0m\u001b[0;34m,\u001b[0m \u001b[0;34m**\u001b[0m\u001b[0mkwds\u001b[0m\u001b[0;34m)\u001b[0m\u001b[0;34m\u001b[0m\u001b[0;34m\u001b[0m\u001b[0m\n\u001b[0m\u001b[1;32m    430\u001b[0m \u001b[0;34m\u001b[0m\u001b[0m\n\u001b[1;32m    431\u001b[0m     \u001b[0;32mif\u001b[0m \u001b[0mchunksize\u001b[0m \u001b[0;32mor\u001b[0m \u001b[0miterator\u001b[0m\u001b[0;34m:\u001b[0m\u001b[0;34m\u001b[0m\u001b[0;34m\u001b[0m\u001b[0m\n",
      "\u001b[0;32m~/anaconda3/lib/python3.7/site-packages/pandas/io/parsers.py\u001b[0m in \u001b[0;36m__init__\u001b[0;34m(self, f, engine, **kwds)\u001b[0m\n\u001b[1;32m    893\u001b[0m             \u001b[0mself\u001b[0m\u001b[0;34m.\u001b[0m\u001b[0moptions\u001b[0m\u001b[0;34m[\u001b[0m\u001b[0;34m'has_index_names'\u001b[0m\u001b[0;34m]\u001b[0m \u001b[0;34m=\u001b[0m \u001b[0mkwds\u001b[0m\u001b[0;34m[\u001b[0m\u001b[0;34m'has_index_names'\u001b[0m\u001b[0;34m]\u001b[0m\u001b[0;34m\u001b[0m\u001b[0;34m\u001b[0m\u001b[0m\n\u001b[1;32m    894\u001b[0m \u001b[0;34m\u001b[0m\u001b[0m\n\u001b[0;32m--> 895\u001b[0;31m         \u001b[0mself\u001b[0m\u001b[0;34m.\u001b[0m\u001b[0m_make_engine\u001b[0m\u001b[0;34m(\u001b[0m\u001b[0mself\u001b[0m\u001b[0;34m.\u001b[0m\u001b[0mengine\u001b[0m\u001b[0;34m)\u001b[0m\u001b[0;34m\u001b[0m\u001b[0;34m\u001b[0m\u001b[0m\n\u001b[0m\u001b[1;32m    896\u001b[0m \u001b[0;34m\u001b[0m\u001b[0m\n\u001b[1;32m    897\u001b[0m     \u001b[0;32mdef\u001b[0m \u001b[0mclose\u001b[0m\u001b[0;34m(\u001b[0m\u001b[0mself\u001b[0m\u001b[0;34m)\u001b[0m\u001b[0;34m:\u001b[0m\u001b[0;34m\u001b[0m\u001b[0;34m\u001b[0m\u001b[0m\n",
      "\u001b[0;32m~/anaconda3/lib/python3.7/site-packages/pandas/io/parsers.py\u001b[0m in \u001b[0;36m_make_engine\u001b[0;34m(self, engine)\u001b[0m\n\u001b[1;32m   1120\u001b[0m     \u001b[0;32mdef\u001b[0m \u001b[0m_make_engine\u001b[0m\u001b[0;34m(\u001b[0m\u001b[0mself\u001b[0m\u001b[0;34m,\u001b[0m \u001b[0mengine\u001b[0m\u001b[0;34m=\u001b[0m\u001b[0;34m'c'\u001b[0m\u001b[0;34m)\u001b[0m\u001b[0;34m:\u001b[0m\u001b[0;34m\u001b[0m\u001b[0;34m\u001b[0m\u001b[0m\n\u001b[1;32m   1121\u001b[0m         \u001b[0;32mif\u001b[0m \u001b[0mengine\u001b[0m \u001b[0;34m==\u001b[0m \u001b[0;34m'c'\u001b[0m\u001b[0;34m:\u001b[0m\u001b[0;34m\u001b[0m\u001b[0;34m\u001b[0m\u001b[0m\n\u001b[0;32m-> 1122\u001b[0;31m             \u001b[0mself\u001b[0m\u001b[0;34m.\u001b[0m\u001b[0m_engine\u001b[0m \u001b[0;34m=\u001b[0m \u001b[0mCParserWrapper\u001b[0m\u001b[0;34m(\u001b[0m\u001b[0mself\u001b[0m\u001b[0;34m.\u001b[0m\u001b[0mf\u001b[0m\u001b[0;34m,\u001b[0m \u001b[0;34m**\u001b[0m\u001b[0mself\u001b[0m\u001b[0;34m.\u001b[0m\u001b[0moptions\u001b[0m\u001b[0;34m)\u001b[0m\u001b[0;34m\u001b[0m\u001b[0;34m\u001b[0m\u001b[0m\n\u001b[0m\u001b[1;32m   1123\u001b[0m         \u001b[0;32melse\u001b[0m\u001b[0;34m:\u001b[0m\u001b[0;34m\u001b[0m\u001b[0;34m\u001b[0m\u001b[0m\n\u001b[1;32m   1124\u001b[0m             \u001b[0;32mif\u001b[0m \u001b[0mengine\u001b[0m \u001b[0;34m==\u001b[0m \u001b[0;34m'python'\u001b[0m\u001b[0;34m:\u001b[0m\u001b[0;34m\u001b[0m\u001b[0;34m\u001b[0m\u001b[0m\n",
      "\u001b[0;32m~/anaconda3/lib/python3.7/site-packages/pandas/io/parsers.py\u001b[0m in \u001b[0;36m__init__\u001b[0;34m(self, src, **kwds)\u001b[0m\n\u001b[1;32m   1851\u001b[0m         \u001b[0mkwds\u001b[0m\u001b[0;34m[\u001b[0m\u001b[0;34m'usecols'\u001b[0m\u001b[0;34m]\u001b[0m \u001b[0;34m=\u001b[0m \u001b[0mself\u001b[0m\u001b[0;34m.\u001b[0m\u001b[0musecols\u001b[0m\u001b[0;34m\u001b[0m\u001b[0;34m\u001b[0m\u001b[0m\n\u001b[1;32m   1852\u001b[0m \u001b[0;34m\u001b[0m\u001b[0m\n\u001b[0;32m-> 1853\u001b[0;31m         \u001b[0mself\u001b[0m\u001b[0;34m.\u001b[0m\u001b[0m_reader\u001b[0m \u001b[0;34m=\u001b[0m \u001b[0mparsers\u001b[0m\u001b[0;34m.\u001b[0m\u001b[0mTextReader\u001b[0m\u001b[0;34m(\u001b[0m\u001b[0msrc\u001b[0m\u001b[0;34m,\u001b[0m \u001b[0;34m**\u001b[0m\u001b[0mkwds\u001b[0m\u001b[0;34m)\u001b[0m\u001b[0;34m\u001b[0m\u001b[0;34m\u001b[0m\u001b[0m\n\u001b[0m\u001b[1;32m   1854\u001b[0m         \u001b[0mself\u001b[0m\u001b[0;34m.\u001b[0m\u001b[0munnamed_cols\u001b[0m \u001b[0;34m=\u001b[0m \u001b[0mself\u001b[0m\u001b[0;34m.\u001b[0m\u001b[0m_reader\u001b[0m\u001b[0;34m.\u001b[0m\u001b[0munnamed_cols\u001b[0m\u001b[0;34m\u001b[0m\u001b[0;34m\u001b[0m\u001b[0m\n\u001b[1;32m   1855\u001b[0m \u001b[0;34m\u001b[0m\u001b[0m\n",
      "\u001b[0;32mpandas/_libs/parsers.pyx\u001b[0m in \u001b[0;36mpandas._libs.parsers.TextReader.__cinit__\u001b[0;34m()\u001b[0m\n",
      "\u001b[0;32mpandas/_libs/parsers.pyx\u001b[0m in \u001b[0;36mpandas._libs.parsers.TextReader._setup_parser_source\u001b[0;34m()\u001b[0m\n",
      "\u001b[0;31mFileNotFoundError\u001b[0m: [Errno 2] File b'../csse_covid_19_data/csse_covid_19_time_series/time_series_covid19_death_global.csv' does not exist: b'../csse_covid_19_data/csse_covid_19_time_series/time_series_covid19_death_global.csv'"
     ]
    }
   ],
   "source": [
    "thu_data = get_data()"
   ]
  },
  {
   "cell_type": "code",
   "execution_count": 15,
   "metadata": {},
   "outputs": [],
   "source": [
    "def get_global_death_data(csv_file='../csse_covid_19_data/csse_covid_19_time_series/time_series_covid19_deaths_global.csv'):\n",
    "    death_data = pd.read_csv(csv_file)\n",
    "    return death_data.rename(index=str, columns={\"Country/Region\": \"Country\", \"Province/State\": \"State\"})"
   ]
  },
  {
   "cell_type": "code",
   "execution_count": 6,
   "metadata": {},
   "outputs": [],
   "source": [
    "def get_global_confirmed_data(csv_file='../csse_covid_19_data/csse_covid_19_time_series/time_series_covid19_confirmed_global.csv'):\n",
    "    death_data = pd.read_csv(csv_file)\n",
    "    return death_data.rename(index=str, columns={\"Country/Region\": \"Country\", \"Province/State\": \"State\"})"
   ]
  },
  {
   "cell_type": "code",
   "execution_count": 9,
   "metadata": {},
   "outputs": [],
   "source": [
    "def get_confirmed_data_by_country(country):\n",
    "    global_death_data = get_global_confirmed_data()\n",
    "    local_death_data = global_death_data.query('Country == \"{}\"'.format(country)).iloc[:,4:].T.sum(axis=1).to_frame()\n",
    "    local_death_data.index = pd.to_datetime(local_death_data.index)\n",
    "    return local_death_data[local_death_data>0].dropna()"
   ]
  },
  {
   "cell_type": "code",
   "execution_count": 18,
   "metadata": {},
   "outputs": [
    {
     "ename": "NameError",
     "evalue": "name 'get_confirm_data_by_country' is not defined",
     "output_type": "error",
     "traceback": [
      "\u001b[0;31m---------------------------------------------------------------------------\u001b[0m",
      "\u001b[0;31mNameError\u001b[0m                                 Traceback (most recent call last)",
      "\u001b[0;32m<ipython-input-18-09cfccbec1ee>\u001b[0m in \u001b[0;36m<module>\u001b[0;34m\u001b[0m\n\u001b[0;32m----> 1\u001b[0;31m \u001b[0mthu_data\u001b[0m \u001b[0;34m=\u001b[0m \u001b[0mget_confirm_data_by_country\u001b[0m\u001b[0;34m(\u001b[0m\u001b[0;34m'US'\u001b[0m\u001b[0;34m)\u001b[0m\u001b[0;34m\u001b[0m\u001b[0;34m\u001b[0m\u001b[0m\n\u001b[0m",
      "\u001b[0;31mNameError\u001b[0m: name 'get_confirm_data_by_country' is not defined"
     ]
    }
   ],
   "source": [
    "thu_data = get_confirm_data_by_country('US')"
   ]
  },
  {
   "cell_type": "code",
   "execution_count": 17,
   "metadata": {},
   "outputs": [
    {
     "data": {
      "text/html": [
       "<div>\n",
       "<style scoped>\n",
       "    .dataframe tbody tr th:only-of-type {\n",
       "        vertical-align: middle;\n",
       "    }\n",
       "\n",
       "    .dataframe tbody tr th {\n",
       "        vertical-align: top;\n",
       "    }\n",
       "\n",
       "    .dataframe thead th {\n",
       "        text-align: right;\n",
       "    }\n",
       "</style>\n",
       "<table border=\"1\" class=\"dataframe\">\n",
       "  <thead>\n",
       "    <tr style=\"text-align: right;\">\n",
       "      <th></th>\n",
       "      <th>0</th>\n",
       "    </tr>\n",
       "  </thead>\n",
       "  <tbody>\n",
       "    <tr>\n",
       "      <th>2020-02-29</th>\n",
       "      <td>1.0</td>\n",
       "    </tr>\n",
       "    <tr>\n",
       "      <th>2020-03-01</th>\n",
       "      <td>1.0</td>\n",
       "    </tr>\n",
       "    <tr>\n",
       "      <th>2020-03-02</th>\n",
       "      <td>6.0</td>\n",
       "    </tr>\n",
       "    <tr>\n",
       "      <th>2020-03-03</th>\n",
       "      <td>7.0</td>\n",
       "    </tr>\n",
       "    <tr>\n",
       "      <th>2020-03-04</th>\n",
       "      <td>11.0</td>\n",
       "    </tr>\n",
       "  </tbody>\n",
       "</table>\n",
       "</div>"
      ],
      "text/plain": [
       "               0\n",
       "2020-02-29   1.0\n",
       "2020-03-01   1.0\n",
       "2020-03-02   6.0\n",
       "2020-03-03   7.0\n",
       "2020-03-04  11.0"
      ]
     },
     "execution_count": 17,
     "metadata": {},
     "output_type": "execute_result"
    }
   ],
   "source": [
    "thu_data.head()"
   ]
  },
  {
   "cell_type": "code",
   "execution_count": 5,
   "metadata": {},
   "outputs": [],
   "source": [
    "def get_US_death_data(csv_file='../csse_covid_19_data/csse_covid_19_time_series/time_series_covid19_deaths_US.csv'):\n",
    "    death_data = pd.read_csv(csv_file)\n",
    "    return death_data.rename(index=str, columns={\"Country_Region\": \"Country\", \n",
    "                                                 \"Province_State\": \"State\", \n",
    "                                                 \"Admin2\": \"County\"})"
   ]
  },
  {
   "cell_type": "code",
   "execution_count": 13,
   "metadata": {},
   "outputs": [],
   "source": [
    "def get_death_data_by_country(country):\n",
    "    global_death_data = get_global_death_data()\n",
    "    local_death_data = global_death_data.query('Country == \"{}\"'.format(country)).iloc[:,4:].T.sum(axis=1).to_frame()\n",
    "    local_death_data.index = pd.to_datetime(local_death_data.index)\n",
    "    return local_death_data[local_death_data>0].dropna()"
   ]
  },
  {
   "cell_type": "code",
   "execution_count": 7,
   "metadata": {},
   "outputs": [],
   "source": [
    "def get_US_death_data_by_state(state):\n",
    "    US_death_data = get_US_death_data()\n",
    "    local_death_data = US_death_data.query('State == \"{}\"'.format(state)).iloc[:,12:].T.sum(axis=1).to_frame()\n",
    "    local_death_data.index = pd.to_datetime(local_death_data.index)\n",
    "    return local_death_data[local_death_data>0].dropna()"
   ]
  },
  {
   "cell_type": "code",
   "execution_count": 8,
   "metadata": {},
   "outputs": [],
   "source": [
    "def get_US_death_data_by_county_and_state(county, state):\n",
    "    US_death_data = get_US_death_data()\n",
    "    local_death_data = US_death_data.query('County == \"{}\" and State == \"{}\"'.format(county, state)).iloc[:,12:].T.sum(axis=1).to_frame()\n",
    "    local_death_data.index = pd.to_datetime(local_death_data.index)\n",
    "    return local_death_data[local_death_data>0].dropna()"
   ]
  },
  {
   "cell_type": "code",
   "execution_count": 9,
   "metadata": {},
   "outputs": [],
   "source": [
    "def get_daily_death(local_death_data):\n",
    "    return local_death_data.diff().fillna(0)"
   ]
  },
  {
   "cell_type": "markdown",
   "metadata": {},
   "source": [
    "#  Projection"
   ]
  },
  {
   "cell_type": "code",
   "execution_count": 10,
   "metadata": {},
   "outputs": [],
   "source": [
    "def get_impute_from_death(death_row, periods, end_date_offset=0):\n",
    "    date_ind = death_row.name\n",
    "    end_date = date_ind + dt.timedelta(end_date_offset)\n",
    "    date_range = pd.date_range(end=end_date, periods=periods)\n",
    "    return pd.DataFrame(death_row.tolist()*periods, index=date_range)"
   ]
  },
  {
   "cell_type": "code",
   "execution_count": 11,
   "metadata": {},
   "outputs": [],
   "source": [
    "def get_hospital_beds_from_death(death_row):\n",
    "    '''Get imputation of hospital beds needed from one day record of new death'''\n",
    "    dead_hospital_use_periods = HOSPITAL_2_ICU_TIME+ICU_2_DEATH_TIME\n",
    "    dead_hospital_use = get_impute_from_death(death_row=death_row, \n",
    "                                              periods=dead_hospital_use_periods)\n",
    "    ICU_recovered_hospital_use_periods = HOSPITAL_2_ICU_TIME+ICU_2_RECOVER_TIME+NOT_ICU_DISCHARGE_TIME\n",
    "    ICU_recovered_hospital_use_end_date_offset = ICU_2_RECOVER_TIME-ICU_2_DEATH_TIME+NOT_ICU_DISCHARGE_TIME\n",
    "    ICU_recovered_hospital_use = get_impute_from_death(death_row=death_row, \n",
    "                                                       periods=ICU_recovered_hospital_use_periods,\n",
    "                                                       end_date_offset=ICU_recovered_hospital_use_end_date_offset)\n",
    "    no_ICU_hospital_use_periods = NOT_ICU_DISCHARGE_TIME\n",
    "    no_ICU_hospital_use_end_date_offset = -HOSPITAL_2_ICU_TIME-ICU_2_DEATH_TIME+NOT_ICU_DISCHARGE_TIME\n",
    "    no_ICU_hospital_use = get_impute_from_death(death_row=death_row, \n",
    "                                                periods=no_ICU_hospital_use_periods,\n",
    "                                                end_date_offset=no_ICU_hospital_use_end_date_offset)\n",
    "    hospital_beds = dead_hospital_use.add(((ICU_RATE-DEATH_RATE)/DEATH_RATE)*ICU_recovered_hospital_use, fill_value=0)\\\n",
    "                                     .add(((HOSPITAL_RATE-ICU_RATE)/DEATH_RATE)*no_ICU_hospital_use, fill_value=0)\n",
    "    hospital_beds.columns = ['hospital_beds']\n",
    "    return hospital_beds"
   ]
  },
  {
   "cell_type": "code",
   "execution_count": 12,
   "metadata": {},
   "outputs": [],
   "source": [
    "def get_ICU_from_death(death_row):\n",
    "    '''Get imputation of ICU needed from one day record of new death'''\n",
    "    dead_ICU_use = get_impute_from_death(death_row=death_row, periods=ICU_2_DEATH_TIME)\n",
    "    recovered_ICU_use_end_date_offset = ICU_2_RECOVER_TIME-ICU_2_DEATH_TIME\n",
    "    recovered_ICU_use = get_impute_from_death(death_row=death_row, \n",
    "                                              periods=ICU_2_RECOVER_TIME,\n",
    "                                              end_date_offset=recovered_ICU_use_end_date_offset)\n",
    "    ICU_n = dead_ICU_use.add(((ICU_RATE-DEATH_RATE)/DEATH_RATE)*recovered_ICU_use, fill_value=0)\n",
    "    ICU_n.columns = ['ICU']\n",
    "    return ICU_n"
   ]
  },
  {
   "cell_type": "code",
   "execution_count": 13,
   "metadata": {},
   "outputs": [],
   "source": [
    "def get_infected_cases(local_death_data):\n",
    "    '''This number only is close to number of confirmed case in country very early in the disease and \n",
    "    can still do contact tracing or very wide testing, eg. South Korea, Germany'''\n",
    "    delay_time = INFECT_2_HOSPITAL_TIME + HOSPITAL_2_ICU_TIME + ICU_2_DEATH_TIME\n",
    "    infected_cases = (1/DEATH_RATE)*local_death_data.tshift(-delay_time)\n",
    "    infected_cases.columns = ['infected']\n",
    "    return infected_cases"
   ]
  },
  {
   "cell_type": "code",
   "execution_count": 14,
   "metadata": {},
   "outputs": [],
   "source": [
    "def get_symptomatic_cases(local_death_data):\n",
    "    '''This is number of cases that show clear symptoms (severe),\n",
    "    in country without investigative testing this is close to number of confirmed case, most country'''\n",
    "    delay_time = HOSPITAL_2_ICU_TIME + ICU_2_DEATH_TIME\n",
    "    symptomatic_cases = (SYMPTOM_RATE/DEATH_RATE)*local_death_data.tshift(-delay_time)\n",
    "    symptomatic_cases.columns = ['symptomatic']\n",
    "    return symptomatic_cases"
   ]
  },
  {
   "cell_type": "code",
   "execution_count": 15,
   "metadata": {},
   "outputs": [],
   "source": [
    "def get_hospitalized_cases(local_death_data):\n",
    "    '''In country with severe lack of testing, this is close to number of confirmed case, eg. Italy, Iran'''\n",
    "    delay_time = HOSPITAL_2_ICU_TIME + ICU_2_DEATH_TIME\n",
    "    hospitalized_cases = (HOSPITAL_RATE/DEATH_RATE)*local_death_data.tshift(-delay_time)\n",
    "    hospitalized_cases.columns = ['hospitalized']\n",
    "    return hospitalized_cases"
   ]
  },
  {
   "cell_type": "code",
   "execution_count": 16,
   "metadata": {},
   "outputs": [],
   "source": [
    "def get_number_hospital_beds_need(daily_local_death_new):\n",
    "    '''Calculate number of hospital bed needed from number of daily new death '''\n",
    "    # Start by first date\n",
    "    hospital_beds = get_hospital_beds_from_death(daily_local_death_new.iloc[0])\n",
    "    # Run through all days\n",
    "    for i in range(len(daily_local_death_new)-1):\n",
    "        hospital_beds = hospital_beds.add(get_hospital_beds_from_death(daily_local_death_new.iloc[i+1]), \n",
    "                                          fill_value=0)\n",
    "    return hospital_beds"
   ]
  },
  {
   "cell_type": "code",
   "execution_count": 17,
   "metadata": {},
   "outputs": [],
   "source": [
    "def get_number_ICU_need(daily_local_death_new):\n",
    "    '''Calculate number of ICU needed from number of daily new death '''\n",
    "    # Start by first date\n",
    "    ICU_n = get_ICU_from_death(daily_local_death_new.iloc[0])\n",
    "    # Run through all days\n",
    "    for i in range(len(daily_local_death_new)-1):\n",
    "        ICU_n = ICU_n.add(get_ICU_from_death(daily_local_death_new.iloc[i+1]), fill_value=0)\n",
    "    return ICU_n"
   ]
  },
  {
   "cell_type": "code",
   "execution_count": 18,
   "metadata": {},
   "outputs": [],
   "source": [
    "def get_log_daily_predicted_death(local_death_data, forecast_horizon=60, lockdown_date=None):\n",
    "    '''Since this is highly contagious disease. Daily new death, which is a proxy for daily new infected cases\n",
    "    is model as d(t)=a*d(t-1) or equivalent to d(t) = b*a^(t). After a log transform, it becomes linear.\n",
    "    log(d(t))=logb+t*loga, so we can use linear regression to provide forecast (use robust linear regressor to avoid\n",
    "    data anomaly in death reporting)\n",
    "    There are two seperate linear curves, one before the lockdown is effective(21 days after lockdown) and one after\n",
    "    For using this prediction to infer back the other metrics (infected cases, hospital, ICU, etc..) only the before\n",
    "    curve is used and valid. If we assume there is no new infection after lock down (perfect lockdown), the after\n",
    "    curve only depends on the distribution of time to death since ICU.\n",
    "    WARNING: if lockdown_date is not provided, we will default to no lockdown to raise awareness of worst case\n",
    "    if no action. If you have info on lockdown date please use it to make sure the model provide accurate result'''\n",
    "    daily_local_death_new = local_death_data.diff().fillna(0)\n",
    "    daily_local_death_new.columns = ['death']\n",
    "    log_daily_death = np.log(daily_local_death_new)\n",
    "    #log_daily_death.dropna(inplace=True)\n",
    "    data_start_date = min(local_death_data.index)\n",
    "    data_end_date = max(local_death_data.index)\n",
    "    forecast_end_date = data_end_date + dt.timedelta(forecast_horizon)\n",
    "    forecast_date_index = pd.date_range(start=data_start_date, end=forecast_end_date)\n",
    "    if lockdown_date is not None:\n",
    "        lockdown_date = pd.to_datetime(lockdown_date)\n",
    "    else:\n",
    "        lockdown_date = forecast_end_date\n",
    "    lockdown_effective_date = lockdown_date + dt.timedelta(INFECT_2_HOSPITAL_TIME+HOSPITAL_2_ICU_TIME+ICU_2_DEATH_TIME)\n",
    "    data_start_date_idx = (data_start_date - lockdown_effective_date).days\n",
    "    data_end_date_idx = (data_end_date - lockdown_effective_date).days\n",
    "    forecast_end_date_idx = data_end_date_idx + forecast_horizon\n",
    "    forecast_time_idx = (forecast_date_index - lockdown_effective_date).days.values\n",
    "    data_time_idx = (log_daily_death.index - lockdown_effective_date).days.values\n",
    "    log_daily_death['time_idx'] = data_time_idx\n",
    "    log_daily_death = log_daily_death.replace([np.inf, -np.inf], np.nan).dropna()\n",
    "    log_daily_death_before = log_daily_death[log_daily_death.time_idx<0]\n",
    "    regr_before = linear_model.HuberRegressor(fit_intercept=True)\n",
    "    regr_before.fit(log_daily_death_before.time_idx.values.reshape(-1, 1), log_daily_death_before.death)\n",
    "    log_predicted_death_before_values = regr_before.predict(forecast_time_idx[forecast_time_idx<0].reshape(-1, 1))\n",
    "    log_predicted_death_before_index = forecast_date_index[forecast_time_idx<0]\n",
    "    log_predicted_death_before = pd.DataFrame(log_predicted_death_before_values, \n",
    "                                              index=log_predicted_death_before_index)\n",
    "    if all(forecast_time_idx<0):\n",
    "        print(\"Lockdown is not effective in forecast range. Second model not needed\")\n",
    "        log_predicted_death_after = None\n",
    "    elif all(data_time_idx<=1):\n",
    "        print(\"Use default second model due to no data\")\n",
    "        regr_after = linear_model.HuberRegressor(fit_intercept=True)\n",
    "        regr_after.coef_ = np.array([-0.04])\n",
    "        regr_after.intercept_ = log_predicted_death_before.iloc[-1,0]           \n",
    "        log_predicted_death_after_values = regr_after.predict(forecast_time_idx[forecast_time_idx>=0].reshape(-1, 1))\n",
    "        log_predicted_death_after_index = forecast_date_index[forecast_time_idx>=0]\n",
    "        log_predicted_death_after = pd.DataFrame(log_predicted_death_after_values, \n",
    "                                                  index=log_predicted_death_after_index)\n",
    "        log_predicted_death = pd.concat([log_predicted_death_before, log_predicted_death_after], axis=0)\n",
    "    else:\n",
    "        regr_pw = pwlf.PiecewiseLinFit(x=log_daily_death.time_idx.values, y=log_daily_death.death)\n",
    "        break_points = np.array([data_start_date_idx, 0, data_end_date_idx])\n",
    "        regr_pw.fit_with_breaks(break_points)\n",
    "        log_predicted_death_values = regr_pw.predict(forecast_time_idx)\n",
    "        log_predicted_death = pd.DataFrame(log_predicted_death_values, index=forecast_date_index)\n",
    "    \n",
    "    log_predicted_death.columns = ['predicted_death']\n",
    "    return log_predicted_death"
   ]
  },
  {
   "cell_type": "code",
   "execution_count": 19,
   "metadata": {},
   "outputs": [],
   "source": [
    "def get_daily_predicted_death(local_death_data, forecast_horizon=60, lockdown_date=None):\n",
    "    return np.exp(get_log_daily_predicted_death(local_death_data, forecast_horizon, lockdown_date)).astype(int)"
   ]
  },
  {
   "cell_type": "code",
   "execution_count": 20,
   "metadata": {},
   "outputs": [],
   "source": [
    "def get_cummulative_predicted_death(local_death_data, forecast_horizon=60, lockdown_date=None):\n",
    "    daily_predicted_death = get_daily_predicted_death(local_death_data, forecast_horizon, lockdown_date)\n",
    "    return daily_predicted_death.cumsum()"
   ]
  },
  {
   "cell_type": "markdown",
   "metadata": {},
   "source": [
    "# Output"
   ]
  },
  {
   "cell_type": "code",
   "execution_count": 21,
   "metadata": {},
   "outputs": [],
   "source": [
    "def get_daily_metrics_from_death_data(local_death_data, forecast_horizon=60, lockdown_date=None):\n",
    "    daily_predicted_death = get_daily_predicted_death(local_death_data, forecast_horizon, lockdown_date)\n",
    "    daily_local_death_new = local_death_data.diff().fillna(0)\n",
    "    daily_local_death_new.columns = ['death']\n",
    "    daily_infected_cases_new = get_infected_cases(daily_predicted_death)\n",
    "    daily_symptomatic_cases_new = get_symptomatic_cases(daily_predicted_death)\n",
    "    daily_hospitalized_cases_new = get_hospitalized_cases(daily_predicted_death)\n",
    "    daily_hospital_beds_need = get_number_hospital_beds_need(daily_predicted_death)\n",
    "    daily_ICU_need = get_number_ICU_need(daily_predicted_death)\n",
    "    return pd.concat([daily_local_death_new,\n",
    "                      daily_predicted_death,\n",
    "                      daily_infected_cases_new,\n",
    "                      daily_symptomatic_cases_new,\n",
    "                      daily_hospitalized_cases_new,\n",
    "                      daily_hospital_beds_need, \n",
    "                      daily_ICU_need], axis=1, sort=True)"
   ]
  },
  {
   "cell_type": "code",
   "execution_count": 22,
   "metadata": {},
   "outputs": [],
   "source": [
    "def get_cummulative_metrics_from_death_data(local_death_data, forecast_horizon=60, lockdown_date=None):\n",
    "    daily_metrics = get_daily_metrics_from_death_data(local_death_data, forecast_horizon, lockdown_date)\n",
    "    cummulative_metrics = daily_metrics.cumsum()\n",
    "    cummulative_metrics['ICU'] = daily_metrics['ICU']\n",
    "    cummulative_metrics['hospital_beds'] = daily_metrics['hospital_beds']\n",
    "    return cummulative_metrics"
   ]
  },
  {
   "cell_type": "code",
   "execution_count": 23,
   "metadata": {},
   "outputs": [],
   "source": [
    "def get_metrics_by_country(country, forecast_horizon=60, lockdown_date=None):\n",
    "    local_death_data = get_death_data_by_country(country)\n",
    "    daily_metrics = get_daily_metrics_from_death_data(local_death_data, forecast_horizon, lockdown_date)\n",
    "    cummulative_metrics = get_cummulative_metrics_from_death_data(local_death_data, forecast_horizon, lockdown_date)\n",
    "    return daily_metrics, cummulative_metrics"
   ]
  },
  {
   "cell_type": "code",
   "execution_count": 24,
   "metadata": {},
   "outputs": [],
   "source": [
    "def get_metrics_by_state_US(state, forecast_horizon=60, lockdown_date=None):\n",
    "    local_death_data = get_US_death_data_by_state(state)\n",
    "    daily_metrics = get_daily_metrics_from_death_data(local_death_data, forecast_horizon, lockdown_date)\n",
    "    cummulative_metrics = get_cummulative_metrics_from_death_data(local_death_data, forecast_horizon, lockdown_date)\n",
    "    return daily_metrics, cummulative_metrics"
   ]
  },
  {
   "cell_type": "code",
   "execution_count": 25,
   "metadata": {},
   "outputs": [],
   "source": [
    "def get_metrics_by_county_and_state_US(county, state, forecast_horizon=60, lockdown_date=None):\n",
    "    local_death_data = get_US_death_data_by_county_and_state(county, state)\n",
    "    daily_metrics = get_daily_metrics_from_death_data(local_death_data, forecast_horizon, lockdown_date)\n",
    "    cummulative_metrics = get_cummulative_metrics_from_death_data(local_death_data, forecast_horizon, lockdown_date)\n",
    "    return daily_metrics, cummulative_metrics"
   ]
  },
  {
   "cell_type": "code",
   "execution_count": 26,
   "metadata": {},
   "outputs": [
    {
     "ename": "NameError",
     "evalue": "name 'plot_metrics_by_state_US' is not defined",
     "output_type": "error",
     "traceback": [
      "\u001b[0;31m---------------------------------------------------------------------------\u001b[0m",
      "\u001b[0;31mNameError\u001b[0m                                 Traceback (most recent call last)",
      "\u001b[0;32m<ipython-input-26-d3b98a41522a>\u001b[0m in \u001b[0;36m<module>\u001b[0;34m\u001b[0m\n\u001b[0;32m----> 1\u001b[0;31m \u001b[0mplot_metrics_by_state_US\u001b[0m\u001b[0;34m(\u001b[0m\u001b[0;34m'California'\u001b[0m\u001b[0;34m,\u001b[0m \u001b[0mlockdown_date\u001b[0m\u001b[0;34m=\u001b[0m\u001b[0;34m'20200319'\u001b[0m\u001b[0;34m)\u001b[0m\u001b[0;34m\u001b[0m\u001b[0;34m\u001b[0m\u001b[0m\n\u001b[0m",
      "\u001b[0;31mNameError\u001b[0m: name 'plot_metrics_by_state_US' is not defined"
     ]
    }
   ],
   "source": [
    "plot_metrics_by_state_US('California', lockdown_date='20200319')"
   ]
  },
  {
   "cell_type": "code",
   "execution_count": null,
   "metadata": {},
   "outputs": [],
   "source": [
    "plot_metrics_by_state_US('California', lockdown_date='20200319', metrics = ['death', 'predicted_death'])"
   ]
  },
  {
   "cell_type": "code",
   "execution_count": null,
   "metadata": {},
   "outputs": [],
   "source": [
    "ny_daily, ny_cum = get_metrics_by_state_US('New York', lockdown_date='20200319')"
   ]
  },
  {
   "cell_type": "code",
   "execution_count": null,
   "metadata": {},
   "outputs": [],
   "source": [
    "ny_cum.iloc[10:50]"
   ]
  },
  {
   "cell_type": "code",
   "execution_count": null,
   "metadata": {},
   "outputs": [],
   "source": [
    "ny_daily.iloc[30:50]"
   ]
  },
  {
   "cell_type": "code",
   "execution_count": null,
   "metadata": {},
   "outputs": [],
   "source": [
    "plot_metrics_by_state_US('New York', lockdown_date='20200319', metrics = ['death', 'predicted_death'])"
   ]
  },
  {
   "cell_type": "code",
   "execution_count": null,
   "metadata": {},
   "outputs": [],
   "source": [
    "plot_metrics_by_country('China', lockdown_date='20200123')"
   ]
  },
  {
   "cell_type": "code",
   "execution_count": null,
   "metadata": {},
   "outputs": [],
   "source": [
    "plot_metrics_by_country('China', lockdown_date='20200123',\n",
    "                             metrics = ['death', 'predicted_death', 'symptomatic', 'hospitalized', 'ICU', 'hospital_beds'])"
   ]
  },
  {
   "cell_type": "code",
   "execution_count": null,
   "metadata": {},
   "outputs": [],
   "source": [
    "plot_metrics_by_country('China', lockdown_date='20200123',\n",
    "                             metrics = ['death', 'predicted_death'])"
   ]
  },
  {
   "cell_type": "code",
   "execution_count": null,
   "metadata": {},
   "outputs": [],
   "source": [
    "plot_metrics_by_country('US', lockdown_date='20200318',\n",
    "                             metrics = ['death', 'predicted_death', 'symptomatic', 'hospitalized', 'ICU', 'hospital_beds'])"
   ]
  },
  {
   "cell_type": "code",
   "execution_count": null,
   "metadata": {},
   "outputs": [],
   "source": [
    "plot_metrics_by_country('US', lockdown_date='20200318',\n",
    "                             metrics = ['predicted_death', 'ICU'])"
   ]
  },
  {
   "cell_type": "code",
   "execution_count": null,
   "metadata": {},
   "outputs": [],
   "source": [
    "plot_metrics_by_country('US', lockdown_date='20200318',\n",
    "                             metrics = ['death', 'predicted_death'])"
   ]
  },
  {
   "cell_type": "code",
   "execution_count": null,
   "metadata": {},
   "outputs": [],
   "source": [
    "plot_metrics_by_country('Italy', lockdown_date='20200301', forecast_horizon=90) #Official date 09 March"
   ]
  },
  {
   "cell_type": "code",
   "execution_count": null,
   "metadata": {},
   "outputs": [],
   "source": [
    "plot_metrics_by_country('Spain', lockdown_date='20200305') #official date 14 March"
   ]
  },
  {
   "cell_type": "code",
   "execution_count": null,
   "metadata": {},
   "outputs": [],
   "source": [
    "plot_metrics_by_country('France', lockdown_date='20200331')"
   ]
  },
  {
   "cell_type": "code",
   "execution_count": null,
   "metadata": {
    "scrolled": true
   },
   "outputs": [],
   "source": [
    "plot_metrics_by_country('Germany', lockdown_date='20200322', metrics=['death', 'predicted_death'])"
   ]
  },
  {
   "cell_type": "code",
   "execution_count": null,
   "metadata": {},
   "outputs": [],
   "source": [
    "plot_metrics_by_country('United Kingdom', lockdown_date='20200323', metrics=['death', 'predicted_death'])"
   ]
  },
  {
   "cell_type": "markdown",
   "metadata": {},
   "source": [
    "# The tails of two curves 21 days after lockdown"
   ]
  },
  {
   "cell_type": "code",
   "execution_count": null,
   "metadata": {},
   "outputs": [],
   "source": [
    "plot_log_death_new_by_country('Iran', lockdown_date='20200227') #Official date unclear"
   ]
  },
  {
   "cell_type": "code",
   "execution_count": null,
   "metadata": {},
   "outputs": [],
   "source": [
    "plot_log_death_new_by_country('China',  lockdown_date='20200124')"
   ]
  },
  {
   "cell_type": "markdown",
   "metadata": {},
   "source": [
    "TODO: add function get county and provided all number\n",
    "        improve the curve for after period"
   ]
  },
  {
   "cell_type": "code",
   "execution_count": null,
   "metadata": {},
   "outputs": [],
   "source": [
    "death_data = get_global_death_data()"
   ]
  },
  {
   "cell_type": "code",
   "execution_count": null,
   "metadata": {},
   "outputs": [],
   "source": [
    "death_data.query('Country==\"US\"')"
   ]
  },
  {
   "cell_type": "code",
   "execution_count": null,
   "metadata": {},
   "outputs": [],
   "source": [
    "len(death_data.Country.unique())"
   ]
  },
  {
   "cell_type": "code",
   "execution_count": null,
   "metadata": {},
   "outputs": [],
   "source": [
    "death_data."
   ]
  },
  {
   "cell_type": "code",
   "execution_count": null,
   "metadata": {},
   "outputs": [],
   "source": [
    "death_data.Country.unique()[156\n",
    "                           ]"
   ]
  },
  {
   "cell_type": "code",
   "execution_count": null,
   "metadata": {},
   "outputs": [],
   "source": [
    "death_data = get_US_death_data()"
   ]
  },
  {
   "cell_type": "code",
   "execution_count": null,
   "metadata": {},
   "outputs": [],
   "source": [
    "death_data.State.unique()"
   ]
  },
  {
   "cell_type": "code",
   "execution_count": null,
   "metadata": {},
   "outputs": [],
   "source": [
    "def get_lockdown_date_state_US(csv_file='data/lockdown_date_state_US.csv'):\n",
    "    return pd.read_csv(csv_file)[['state', 'lockdown_date']].set_index('state')"
   ]
  },
  {
   "cell_type": "code",
   "execution_count": null,
   "metadata": {},
   "outputs": [],
   "source": [
    "lockdown_date_state_US = get_lockdown_date_state_US()"
   ]
  },
  {
   "cell_type": "code",
   "execution_count": null,
   "metadata": {},
   "outputs": [],
   "source": [
    "lockdown_date_state_US.loc['California'][0]"
   ]
  },
  {
   "cell_type": "code",
   "execution_count": null,
   "metadata": {},
   "outputs": [],
   "source": [
    "pd.to_datetime(lockdown_date_state_US.loc['California'][0])"
   ]
  },
  {
   "cell_type": "code",
   "execution_count": null,
   "metadata": {},
   "outputs": [],
   "source": [
    "getattr(lockdown_date_state_US, 'Alaska')"
   ]
  },
  {
   "cell_type": "code",
   "execution_count": null,
   "metadata": {},
   "outputs": [],
   "source": [
    "import model_utils"
   ]
  },
  {
   "cell_type": "code",
   "execution_count": null,
   "metadata": {},
   "outputs": [],
   "source": [
    "import pandas as pd\n",
    "import datetime as dt\n",
    "def put_model_params_logs(model_params, file='model_params_logs.csv'):\n",
    "    pd.DataFrame(model_params, index=[dt.datetime.today()]).to_csv(file, mode='a', header=False)\n",
    "from csv import writer\n",
    "def append_model_params_2_logs(model_params, log_file='model_params_logs.csv'):\n",
    "    # Open file in append mode\n",
    "    with open(log_file, 'a+', newline='') as write_obj:\n",
    "        # Create a writer object from csv module\n",
    "        csv_writer = writer(write_obj)\n",
    "        # Add contents of list as last row in the csv file\n",
    "        csv_writer.writerow(model_params)"
   ]
  },
  {
   "cell_type": "code",
   "execution_count": null,
   "metadata": {},
   "outputs": [],
   "source": [
    "scope = 'country'\n",
    "local = 'US'\n",
    "lockdown_date = '20200320'\n",
    "model_params =(scope, local, lockdown_date)\n",
    "append_model_params_2_logs(model_params, file_name='model_params_logs.csv')"
   ]
  },
  {
   "cell_type": "code",
   "execution_count": null,
   "metadata": {},
   "outputs": [],
   "source": [
    "[dt.datetime.today(),]+[3,3,3]"
   ]
  },
  {
   "cell_type": "code",
   "execution_count": null,
   "metadata": {},
   "outputs": [],
   "source": [
    "model_params = [dt.datetime.today(), scope, local, lockdown_date, \n",
    "                mu.DEATH_RATE,\n",
    "                mu.ICU_RATE,\n",
    "                mu.HOSPITAL_RATE, \n",
    "                mu.SYMPTOM_RATE, \n",
    "                mu.INFECT_2_HOSPITAL_TIME, \n",
    "                mu.HOSPITAL_2_ICU_TIME, \n",
    "                mu.ICU_2_DEATH_TIME, \n",
    "                mu.ICU_2_RECOVER_TIME,\n",
    "                mu.NOT_ICU_DISCHARGE_TIME]\n",
    "append_model_params_2_logs(model_params)"
   ]
  },
  {
   "cell_type": "code",
   "execution_count": null,
   "metadata": {},
   "outputs": [],
   "source": [
    "import pandas as pd"
   ]
  },
  {
   "cell_type": "code",
   "execution_count": null,
   "metadata": {},
   "outputs": [],
   "source": [
    "logs = pd.DataFrame.from_csv('model_params_logs.csv')"
   ]
  },
  {
   "cell_type": "code",
   "execution_count": null,
   "metadata": {},
   "outputs": [],
   "source": [
    "logs"
   ]
  },
  {
   "cell_type": "code",
   "execution_count": null,
   "metadata": {},
   "outputs": [],
   "source": [
    "import streamlit as st\n",
    "import os\n",
    "os.path.dirname(st.__file__)"
   ]
  },
  {
   "cell_type": "code",
   "execution_count": null,
   "metadata": {},
   "outputs": [],
   "source": [
    "dir(st)"
   ]
  },
  {
   "cell_type": "code",
   "execution_count": null,
   "metadata": {},
   "outputs": [],
   "source": [
    "import model_utils as mu\n"
   ]
  },
  {
   "cell_type": "code",
   "execution_count": null,
   "metadata": {},
   "outputs": [],
   "source": [
    "local_death_data = get_death_data_by_country('China')"
   ]
  },
  {
   "cell_type": "code",
   "execution_count": null,
   "metadata": {},
   "outputs": [],
   "source": [
    "local_death_data"
   ]
  },
  {
   "cell_type": "code",
   "execution_count": null,
   "metadata": {},
   "outputs": [],
   "source": [
    "daily_local_death_new = local_death_data.diff().fillna(0)\n",
    "daily_local_death_new.columns = ['death']\n",
    "log_daily_death = np.log(daily_local_death_new)"
   ]
  },
  {
   "cell_type": "code",
   "execution_count": null,
   "metadata": {},
   "outputs": [],
   "source": [
    "log_daily_death"
   ]
  },
  {
   "cell_type": "code",
   "execution_count": null,
   "metadata": {},
   "outputs": [],
   "source": [
    "log_daily_death.plot()"
   ]
  },
  {
   "cell_type": "code",
   "execution_count": null,
   "metadata": {
    "scrolled": true
   },
   "outputs": [],
   "source": [
    "daily_local_death_new.plot()"
   ]
  },
  {
   "cell_type": "code",
   "execution_count": null,
   "metadata": {},
   "outputs": [],
   "source": [
    "daily_local_death_new.head(60)"
   ]
  },
  {
   "cell_type": "code",
   "execution_count": null,
   "metadata": {},
   "outputs": [],
   "source": [
    "type(daily_local_death_new)"
   ]
  },
  {
   "cell_type": "code",
   "execution_count": null,
   "metadata": {},
   "outputs": [],
   "source": [
    "local_death_data = mu.get_US_death_data_by_state('California')"
   ]
  },
  {
   "cell_type": "code",
   "execution_count": null,
   "metadata": {},
   "outputs": [],
   "source": [
    "def get_log_daily_predicted_death(local_death_data, forecast_horizon=60, lockdown_date=None):\n",
    "    '''Since this is highly contagious disease. Daily new death, which is a proxy for daily new infected cases\n",
    "    is model as d(t)=a*d(t-1) or equivalent to d(t) = b*a^(t). After a log transform, it becomes linear.\n",
    "    log(d(t))=logb+t*loga, so we can use linear regression to provide forecast (use robust linear regressor to avoid\n",
    "    data anomaly in death reporting)\n",
    "    There are two seperate linear curves, one before the lockdown is effective(21 days after lockdown) and one after\n",
    "    For using this prediction to infer back the other metrics (infected cases, hospital, ICU, etc..) only the before\n",
    "    curve is used and valid. If we assume there is no new infection after lock down (perfect lockdown), the after\n",
    "    curve only depends on the distribution of time to death since ICU.\n",
    "    WARNING: if lockdown_date is not provided, we will default to no lockdown to raise awareness of worst case\n",
    "    if no action. If you have info on lockdown date please use it to make sure the model provide accurate result'''\n",
    "    daily_local_death_new = local_death_data.diff().fillna(0)\n",
    "    daily_local_death_new.columns = ['death']\n",
    "    log_daily_death = np.log(daily_local_death_new)\n",
    "    # log_daily_death.dropna(inplace=True)\n",
    "    data_start_date = min(local_death_data.index)\n",
    "    data_end_date = max(local_death_data.index)\n",
    "    forecast_end_date = data_end_date + dt.timedelta(forecast_horizon)\n",
    "    forecast_date_index = pd.date_range(start=data_start_date, end=forecast_end_date)\n",
    "    if lockdown_date is not None:\n",
    "        lockdown_date = pd.to_datetime(lockdown_date)\n",
    "    else:\n",
    "        lockdown_date = forecast_end_date\n",
    "    lockdown_effective_date = lockdown_date + dt.timedelta(\n",
    "        INFECT_2_HOSPITAL_TIME + HOSPITAL_2_ICU_TIME + ICU_2_DEATH_TIME)\n",
    "    data_start_date_idx = (data_start_date - lockdown_effective_date).days\n",
    "    data_end_date_idx = (data_end_date - lockdown_effective_date).days\n",
    "    forecast_end_date_idx = data_end_date_idx + forecast_horizon\n",
    "    forecast_time_idx = (forecast_date_index - lockdown_effective_date).days.values\n",
    "    data_time_idx = (log_daily_death.index - lockdown_effective_date).days.values\n",
    "    log_daily_death['time_idx'] = data_time_idx\n",
    "    log_daily_death = log_daily_death.replace([np.inf, -np.inf], np.nan).dropna()\n",
    "    log_daily_death_before = log_daily_death[log_daily_death.time_idx < 0]\n",
    "    regr_before = linear_model.HuberRegressor(fit_intercept=True)\n",
    "    regr_before.fit(log_daily_death_before.time_idx.values.reshape(-1, 1), log_daily_death_before.death)\n",
    "    log_predicted_death_before_values = regr_before.predict(forecast_time_idx[forecast_time_idx < 0].reshape(-1, 1))\n",
    "    log_predicted_death_before_index = forecast_date_index[forecast_time_idx < 0]\n",
    "    log_predicted_death_before = pd.DataFrame(log_predicted_death_before_values,\n",
    "                                              index=log_predicted_death_before_index)\n",
    "    if all(forecast_time_idx < 0):\n",
    "        print(\"Lockdown is not effective in forecast range. Second model not needed\")\n",
    "        log_predicted_death_after = None\n",
    "    elif all(data_time_idx <= 1):\n",
    "        print(\"Use default second model due to no data\")\n",
    "        regr_after = linear_model.HuberRegressor(fit_intercept=True)\n",
    "        regr_after.coef_ = np.array([-0.04])\n",
    "        regr_after.intercept_ = log_predicted_death_before.iloc[-1, 0]\n",
    "        log_predicted_death_after_values = regr_after.predict(forecast_time_idx[forecast_time_idx >= 0].reshape(-1, 1))\n",
    "        log_predicted_death_after_index = forecast_date_index[forecast_time_idx >= 0]\n",
    "        log_predicted_death_after = pd.DataFrame(log_predicted_death_after_values,\n",
    "                                                 index=log_predicted_death_after_index)\n",
    "        log_predicted_death = pd.concat([log_predicted_death_before, log_predicted_death_after], axis=0)\n",
    "    else:\n",
    "        regr_pw = pwlf.PiecewiseLinFit(x=log_daily_death.time_idx.values, y=log_daily_death.death)\n",
    "        break_points = np.array([data_start_date_idx, 0, data_end_date_idx])\n",
    "        regr_pw.fit_with_breaks(break_points)\n",
    "        log_predicted_death_train = regr_pw.predict(log_daily_death.time_idx.values)\n",
    "        #Remove outliers that is in the 0.001 tail (mostly due to death reporting delay)\n",
    "        log_predicted_death_train_pred_var = regr_pw.prediction_variance(log_daily_death.time_idx.values)\n",
    "        log_predicted_death_train_lower_bound = log_predicted_death_train-3.29*np.sqrt(log_predicted_death_train_pred_var)\n",
    "        log_predicted_death_train_upper_bound = log_predicted_death_train+3.29*np.sqrt(log_predicted_death_train_pred_var)\n",
    "        \n",
    "        #import pdb; pdb.set_trace()\n",
    "        log_predicted_death_values = regr_pw.predict(forecast_time_idx)\n",
    "        log_predicted_death = pd.DataFrame(log_predicted_death_values, index=forecast_date_index)\n",
    "\n",
    "    log_predicted_death.columns = ['predicted_death']\n",
    "    return log_predicted_death, log_predicted_death_train,\\\n",
    "            log_predicted_death_train_lower_bound, log_predicted_death_train_upper_bound\n"
   ]
  },
  {
   "cell_type": "code",
   "execution_count": null,
   "metadata": {
    "scrolled": false
   },
   "outputs": [],
   "source": [
    "log_predicted, train, lb, ub = get_log_daily_predicted_death(local_death_data, forecast_horizon=60, lockdown_date='20200319')"
   ]
  },
  {
   "cell_type": "code",
   "execution_count": null,
   "metadata": {},
   "outputs": [],
   "source": [
    "pd.DataFrame([lb, train, ub, log_daily_death.death]).T.plot()"
   ]
  },
  {
   "cell_type": "code",
   "execution_count": null,
   "metadata": {},
   "outputs": [],
   "source": [
    "pd.DataFrame([lb, train, ub, log_daily_death.death]).T.head()"
   ]
  },
  {
   "cell_type": "code",
   "execution_count": null,
   "metadata": {},
   "outputs": [],
   "source": [
    "def fix_delay_death_report():\n",
    "    '''The pattern we try to address is the death number in one day is significantly lower,\n",
    "    and then it is accumulated to a much higher death number for the next day, the day after that \n",
    "    we see the death number come back to normal'''"
   ]
  },
  {
   "cell_type": "code",
   "execution_count": null,
   "metadata": {},
   "outputs": [],
   "source": [
    "forecast_horizon=60\n",
    "lockdown_date='20200123'"
   ]
  },
  {
   "cell_type": "code",
   "execution_count": null,
   "metadata": {},
   "outputs": [],
   "source": [
    "daily_local_death_new = local_death_data.diff().fillna(0)\n",
    "daily_local_death_new.columns = ['death']\n",
    "log_daily_death = np.log(daily_local_death_new)\n",
    "# log_daily_death.dropna(inplace=True)\n",
    "data_start_date = min(local_death_data.index)\n",
    "data_end_date = max(local_death_data.index)\n",
    "forecast_end_date = data_end_date + dt.timedelta(forecast_horizon)\n",
    "forecast_date_index = pd.date_range(start=data_start_date, end=forecast_end_date)\n",
    "if lockdown_date is not None:\n",
    "    lockdown_date = pd.to_datetime(lockdown_date)\n",
    "else:\n",
    "    lockdown_date = forecast_end_date\n",
    "lockdown_effective_date = lockdown_date + dt.timedelta(\n",
    "    INFECT_2_HOSPITAL_TIME + HOSPITAL_2_ICU_TIME + ICU_2_DEATH_TIME)\n",
    "data_start_date_idx = (data_start_date - lockdown_effective_date).days\n",
    "data_end_date_idx = (data_end_date - lockdown_effective_date).days\n",
    "forecast_end_date_idx = data_end_date_idx + forecast_horizon\n",
    "forecast_time_idx = (forecast_date_index - lockdown_effective_date).days.values\n",
    "data_time_idx = (log_daily_death.index - lockdown_effective_date).days.values\n",
    "log_daily_death['time_idx'] = data_time_idx\n",
    "log_daily_death = log_daily_death.replace([np.inf, -np.inf], np.nan).dropna()\n",
    "log_daily_death_before = log_daily_death[log_daily_death.time_idx < 0]\n",
    "regr_before = linear_model.HuberRegressor(fit_intercept=True)\n",
    "regr_before.fit(log_daily_death_before.time_idx.values.reshape(-1, 1), log_daily_death_before.death)\n",
    "log_predicted_death_before_values = regr_before.predict(forecast_time_idx[forecast_time_idx < 0].reshape(-1, 1))\n",
    "log_predicted_death_before_index = forecast_date_index[forecast_time_idx < 0]\n",
    "log_predicted_death_before = pd.DataFrame(log_predicted_death_before_values,\n",
    "                                          index=log_predicted_death_before_index)\n",
    "if all(forecast_time_idx < 0):\n",
    "    print(\"Lockdown is not effective in forecast range. Second model not needed\")\n",
    "    log_predicted_death_after = None\n",
    "elif all(data_time_idx <= 1):\n",
    "    print(\"Use default second model due to no data\")\n",
    "    regr_after = linear_model.HuberRegressor(fit_intercept=True)\n",
    "    regr_after.coef_ = np.array([-0.04])\n",
    "    regr_after.intercept_ = log_predicted_death_before.iloc[-1, 0]\n",
    "    log_predicted_death_after_values = regr_after.predict(forecast_time_idx[forecast_time_idx >= 0].reshape(-1, 1))\n",
    "    log_predicted_death_after_index = forecast_date_index[forecast_time_idx >= 0]\n",
    "    log_predicted_death_after = pd.DataFrame(log_predicted_death_after_values,\n",
    "                                             index=log_predicted_death_after_index)\n",
    "    log_predicted_death = pd.concat([log_predicted_death_before, log_predicted_death_after], axis=0)\n",
    "else:\n",
    "    regr_after = linear_model.HuberRegressor(fit_intercept=True)\n",
    "    log_daily_death_after = log_daily_death[log_daily_death.time_idx >= 0]\n",
    "    regr_after.fit(log_daily_death_after.time_idx.values.reshape(-1, 1), \n",
    "                   log_daily_death_after.death)\n",
    "    outliers = np.concatenate((regr_before.outliers_ , regr_after.outliers_))\n",
    "    regr_pw = pwlf.PiecewiseLinFit(x=log_daily_death.time_idx.values, y=log_daily_death.death)\n",
    "    break_points = np.array([data_start_date_idx, 0, data_end_date_idx])\n",
    "    regr_pw.fit_with_breaks(break_points)\n",
    "    log_predicted_death_train = regr_pw.predict(log_daily_death.time_idx.values)\n",
    "    #Remove outliers that is in the 0.001 tail (mostly due to death reporting delay)\n",
    "    log_predicted_death_train_pred_var = regr_pw.prediction_variance(log_daily_death.time_idx.values)\n",
    "    log_predicted_death_train_lower_bound = log_predicted_death_train-3.29*np.sqrt(log_predicted_death_train_pred_var)\n",
    "    log_predicted_death_train_upper_bound = log_predicted_death_train+3.29*np.sqrt(log_predicted_death_train_pred_var)\n",
    "\n",
    "    #import pdb; pdb.set_trace()\n",
    "    log_predicted_death_values = regr_pw.predict(forecast_time_idx)\n",
    "    log_predicted_death = pd.DataFrame(log_predicted_death_values, index=forecast_date_index)\n",
    "\n",
    "log_predicted_death.columns = ['predicted_death']\n",
    "\n"
   ]
  },
  {
   "cell_type": "code",
   "execution_count": null,
   "metadata": {},
   "outputs": [],
   "source": [
    "log_predicted_death_pred_var = regr_pw.prediction_variance(forecast_time_idx)\n",
    "log_predicted_death_lower_bound = log_predicted_death-1.96*np.sqrt(log_predicted_death_pred_var)\n",
    "log_predicted_death_upper_bound = log_predicted_death+1.96*np.sqrt(log_predicted_death_pred_var)\n",
    "\n"
   ]
  },
  {
   "cell_type": "code",
   "execution_count": null,
   "metadata": {},
   "outputs": [],
   "source": [
    "regr_pw_new = pwlf.PiecewiseLinFit(x=log_daily_death[~outliers].time_idx.values, y=log_daily_death[~outliers].death)\n",
    "break_points = np.array([data_start_date_idx, 0, data_end_date_idx])\n",
    "regr_pw_new.fit_with_breaks(break_points)"
   ]
  },
  {
   "cell_type": "code",
   "execution_count": null,
   "metadata": {},
   "outputs": [],
   "source": [
    "outliers.shape"
   ]
  },
  {
   "cell_type": "code",
   "execution_count": null,
   "metadata": {},
   "outputs": [],
   "source": [
    "log_daily_death[~outliers]"
   ]
  },
  {
   "cell_type": "code",
   "execution_count": null,
   "metadata": {},
   "outputs": [],
   "source": [
    "ncond"
   ]
  },
  {
   "cell_type": "code",
   "execution_count": null,
   "metadata": {},
   "outputs": [],
   "source": [
    "ncond = abs(log_daily_death.death-log_predicted_death_train)>=3.29*np.sqrt(log_predicted_death_train_pred_var)"
   ]
  },
  {
   "cell_type": "code",
   "execution_count": null,
   "metadata": {},
   "outputs": [],
   "source": [
    "cond = abs(log_daily_death.death-log_predicted_death_train)<3.29*np.sqrt(log_predicted_death_train_pred_var)"
   ]
  },
  {
   "cell_type": "code",
   "execution_count": null,
   "metadata": {},
   "outputs": [],
   "source": [
    "cond.shape"
   ]
  },
  {
   "cell_type": "code",
   "execution_count": null,
   "metadata": {},
   "outputs": [],
   "source": [
    "log_daily_death_wo_outlier = log_daily_death[cond]\n",
    "log_daily_death_wo_outlier"
   ]
  },
  {
   "cell_type": "code",
   "execution_count": null,
   "metadata": {},
   "outputs": [],
   "source": [
    "regr_pw_wo_outlier = pwlf.PiecewiseLinFit(x=log_daily_death_wo_outlier.time_idx.values, y=log_daily_death_wo_outlier.death)\n",
    "break_points = np.array([data_start_date_idx, 0, data_end_date_idx])\n",
    "regr_pw_wo_outlier.fit_with_breaks(break_points)"
   ]
  },
  {
   "cell_type": "code",
   "execution_count": null,
   "metadata": {},
   "outputs": [],
   "source": [
    "log_predicted_death_n_values = regr_pw_new.predict(forecast_time_idx)\n",
    "log_predicted_death_n = pd.DataFrame(log_predicted_death_n_values, index=forecast_date_index)"
   ]
  },
  {
   "cell_type": "code",
   "execution_count": null,
   "metadata": {},
   "outputs": [],
   "source": [
    "log_predicted_death_new_values = regr_pw_wo_outlier.predict(forecast_time_idx)\n",
    "log_predicted_death_new = pd.DataFrame(log_predicted_death_new_values, index=forecast_date_index)"
   ]
  },
  {
   "cell_type": "code",
   "execution_count": null,
   "metadata": {},
   "outputs": [],
   "source": [
    "pd.concat([log_predicted_death_n, log_predicted_death_new, log_predicted_death, log_daily_death.death], axis=1).plot()"
   ]
  },
  {
   "cell_type": "code",
   "execution_count": null,
   "metadata": {},
   "outputs": [],
   "source": [
    "predicted_death_n_cum = np.exp(log_predicted_death_n).astype(int).cumsum()"
   ]
  },
  {
   "cell_type": "code",
   "execution_count": null,
   "metadata": {},
   "outputs": [],
   "source": [
    "predicted_death_new_cum = np.exp(log_predicted_death_new).astype(int).cumsum()"
   ]
  },
  {
   "cell_type": "code",
   "execution_count": null,
   "metadata": {},
   "outputs": [],
   "source": [
    "pd.concat([predicted_death_n_cum, local_death_data], axis=1).plot()"
   ]
  },
  {
   "cell_type": "code",
   "execution_count": null,
   "metadata": {},
   "outputs": [],
   "source": [
    "regr_pw.fit_with_breaks(break_points)"
   ]
  },
  {
   "cell_type": "code",
   "execution_count": null,
   "metadata": {},
   "outputs": [],
   "source": [
    "import matplotlib.pyplot as plt\n",
    "plt.plot(np.array([0.09501409, 0.08437188, 0.07452454, 0.06547205, 0.05721442,\n",
    "       0.04975166, 0.04308375, 0.0372107 , 0.03213251, 0.02784919,\n",
    "       0.02436072, 0.02166711, 0.01976836, 0.01866447, 0.01835545,\n",
    "       0.01884128, 0.02012197, 0.02219752, 0.02506793, 0.0287332 ,\n",
    "       0.03319333, 0.03150572, 0.02988301, 0.0283252 , 0.02683229,\n",
    "       0.02540428, 0.02404117, 0.02274296, 0.02150964, 0.01923772,\n",
    "       0.01819911, 0.0172254 , 0.01631659, 0.01547268, 0.01469367,\n",
    "       0.01397956, 0.01333035, 0.01274604, 0.01222663, 0.01177212,\n",
    "       0.01138251, 0.0110578 , 0.010798  , 0.01060309, 0.01047308,\n",
    "       0.01040797, 0.01040776, 0.01047245, 0.01060204, 0.01079653,\n",
    "       0.01105593, 0.01138022, 0.01176941, 0.0122235 , 0.01274249,\n",
    "       0.01332638, 0.01397518, 0.01468887, 0.01546746, 0.01721935,\n",
    "       0.01819264, 0.01923083, 0.02033392, 0.02150192, 0.02273481,\n",
    "       0.0240326 , 0.0253953 , 0.02682289, 0.02831538, 0.02987278,\n",
    "       0.03149507, 0.03318226, 0.03493436, 0.03863325, 0.04058004,\n",
    "       0.04259173]))"
   ]
  },
  {
   "cell_type": "code",
   "execution_count": null,
   "metadata": {},
   "outputs": [],
   "source": [
    "log_daily_death.plot()"
   ]
  },
  {
   "cell_type": "code",
   "execution_count": null,
   "metadata": {},
   "outputs": [],
   "source": [
    "log_predicted.plot()"
   ]
  },
  {
   "cell_type": "code",
   "execution_count": null,
   "metadata": {},
   "outputs": [],
   "source": [
    "log_predicted.columns = ['death']\n"
   ]
  },
  {
   "cell_type": "code",
   "execution_count": null,
   "metadata": {},
   "outputs": [],
   "source": [
    "log_daily_death-log_predicted"
   ]
  },
  {
   "cell_type": "code",
   "execution_count": 28,
   "metadata": {},
   "outputs": [],
   "source": [
    "import model_utils as mu"
   ]
  },
  {
   "cell_type": "code",
   "execution_count": null,
   "metadata": {},
   "outputs": [],
   "source": [
    "vermont = mu.get_US_death_data_by_state('California')"
   ]
  },
  {
   "cell_type": "code",
   "execution_count": null,
   "metadata": {},
   "outputs": [],
   "source": [
    "vermont.plot()"
   ]
  },
  {
   "cell_type": "code",
   "execution_count": null,
   "metadata": {},
   "outputs": [],
   "source": [
    "vermont.diff().plot()"
   ]
  },
  {
   "cell_type": "code",
   "execution_count": null,
   "metadata": {},
   "outputs": [],
   "source": [
    "import pdb; pdb.pm()"
   ]
  },
  {
   "cell_type": "code",
   "execution_count": null,
   "metadata": {},
   "outputs": [],
   "source": [
    "np.array([False]*3)"
   ]
  },
  {
   "cell_type": "code",
   "execution_count": null,
   "metadata": {},
   "outputs": [],
   "source": [
    "import pdb; pdb.pm()"
   ]
  },
  {
   "cell_type": "code",
   "execution_count": null,
   "metadata": {},
   "outputs": [],
   "source": [
    "pre, ub, lb = mu.get_log_daily_predicted_death(vermont, lockdown_date='20200319')"
   ]
  },
  {
   "cell_type": "code",
   "execution_count": null,
   "metadata": {},
   "outputs": [],
   "source": [
    "pd.concat([pre, ub, lb], axis=1).plot()"
   ]
  },
  {
   "cell_type": "code",
   "execution_count": 30,
   "metadata": {},
   "outputs": [],
   "source": [
    "mu.DEATH_RATE = 1.0\n",
    "mu.ICU_RATE = 5.0\n",
    "mu.HOSPITAL_RATE = 15.0\n",
    "mu.SYMPTOM_RATE = 20.0\n",
    "mu.INFECT_2_HOSPITAL_TIME = 12\n",
    "mu.HOSPITAL_2_ICU_TIME = 2\n",
    "mu.ICU_2_DEATH_TIME = 5\n",
    "mu.ICU_2_RECOVER_TIME = 11\n",
    "mu.NOT_ICU_DISCHARGE_TIME = 7\n"
   ]
  },
  {
   "cell_type": "code",
   "execution_count": 46,
   "metadata": {},
   "outputs": [
    {
     "data": {
      "text/plain": [
       "<module 'model_utils' from '/Users/qtran/covid19/COVID-19/prognosis/model_utils.py'>"
      ]
     },
     "execution_count": 46,
     "metadata": {},
     "output_type": "execute_result"
    }
   ],
   "source": [
    "import importlib\n",
    "importlib.reload(mu)"
   ]
  },
  {
   "cell_type": "code",
   "execution_count": 39,
   "metadata": {},
   "outputs": [
    {
     "name": "stderr",
     "output_type": "stream",
     "text": [
      "/Users/qtran/covid19/COVID-19/prognosis/model_utils.py:363: RuntimeWarning: divide by zero encountered in log\n",
      "  get_log_daily_predicted_death(local_death_data, lockdown_date=lockdown_date)\n"
     ]
    },
    {
     "name": "stdout",
     "output_type": "stream",
     "text": [
      "> /Users/qtran/covid19/COVID-19/prognosis/model_utils.py(206)get_log_daily_predicted_death()\n",
      "-> daily_local_death_new.columns = ['death']\n",
      "(Pdb) n\n",
      "> /Users/qtran/covid19/COVID-19/prognosis/model_utils.py(207)get_log_daily_predicted_death()\n",
      "-> log_daily_death = np.log(daily_local_death_new)\n",
      "(Pdb) n\n"
     ]
    },
    {
     "name": "stderr",
     "output_type": "stream",
     "text": [
      "/Users/qtran/covid19/COVID-19/prognosis/model_utils.py:207: RuntimeWarning: divide by zero encountered in log\n",
      "  log_daily_death = np.log(daily_local_death_new)\n"
     ]
    },
    {
     "name": "stdout",
     "output_type": "stream",
     "text": [
      "> /Users/qtran/covid19/COVID-19/prognosis/model_utils.py(209)get_log_daily_predicted_death()\n",
      "-> data_start_date = min(local_death_data.index)\n",
      "(Pdb) p log_daily_death\n",
      "               death\n",
      "2020-03-21      -inf\n",
      "2020-03-22      -inf\n",
      "2020-03-23      -inf\n",
      "2020-03-24      -inf\n",
      "2020-03-25      -inf\n",
      "2020-03-26      -inf\n",
      "2020-03-27      -inf\n",
      "2020-03-28      -inf\n",
      "2020-03-29 -1.945910\n",
      "2020-03-30 -1.945910\n",
      "2020-03-31 -1.945910\n",
      "2020-04-01 -1.945910\n",
      "2020-04-02 -1.252763\n",
      "2020-04-03 -0.847298\n",
      "2020-04-04 -0.559616\n",
      "2020-04-05 -0.847298\n",
      "2020-04-06 -0.847298\n",
      "2020-04-07 -0.847298\n",
      "2020-04-08 -0.847298\n",
      "2020-04-09 -1.252763\n",
      "2020-04-10 -1.252763\n",
      "2020-04-11 -1.252763\n",
      "2020-04-12 -1.252763\n",
      "2020-04-13 -0.847298\n",
      "2020-04-14 -0.559616\n",
      "(Pdb) n\n",
      "> /Users/qtran/covid19/COVID-19/prognosis/model_utils.py(210)get_log_daily_predicted_death()\n",
      "-> data_end_date = max(local_death_data.index)\n",
      "(Pdb) n\n",
      "> /Users/qtran/covid19/COVID-19/prognosis/model_utils.py(211)get_log_daily_predicted_death()\n",
      "-> forecast_end_date = data_end_date + dt.timedelta(forecast_horizon)\n",
      "(Pdb) n\n",
      "> /Users/qtran/covid19/COVID-19/prognosis/model_utils.py(212)get_log_daily_predicted_death()\n",
      "-> forecast_date_index = pd.date_range(start=data_start_date, end=forecast_end_date)\n",
      "(Pdb) n\n",
      "> /Users/qtran/covid19/COVID-19/prognosis/model_utils.py(213)get_log_daily_predicted_death()\n",
      "-> if lockdown_date is not None:\n",
      "(Pdb) n\n",
      "> /Users/qtran/covid19/COVID-19/prognosis/model_utils.py(214)get_log_daily_predicted_death()\n",
      "-> lockdown_date = pd.to_datetime(lockdown_date)\n",
      "(Pdb) n\n",
      "> /Users/qtran/covid19/COVID-19/prognosis/model_utils.py(217)get_log_daily_predicted_death()\n",
      "-> lockdown_effective_date = lockdown_date + dt.timedelta(\n",
      "(Pdb) n\n",
      "> /Users/qtran/covid19/COVID-19/prognosis/model_utils.py(218)get_log_daily_predicted_death()\n",
      "-> INFECT_2_HOSPITAL_TIME + HOSPITAL_2_ICU_TIME + ICU_2_DEATH_TIME)\n",
      "(Pdb) p lockdown_effective_date\n",
      "*** NameError: name 'lockdown_effective_date' is not defined\n",
      "(Pdb) n\n",
      "> /Users/qtran/covid19/COVID-19/prognosis/model_utils.py(219)get_log_daily_predicted_death()\n",
      "-> data_start_date_idx = (data_start_date - lockdown_effective_date).days\n",
      "(Pdb) p lockdown_effective_date\n",
      "Timestamp('2020-05-04 00:00:00')\n",
      "(Pdb) n\n",
      "> /Users/qtran/covid19/COVID-19/prognosis/model_utils.py(220)get_log_daily_predicted_death()\n",
      "-> data_end_date_idx = (data_end_date - lockdown_effective_date).days\n",
      "(Pdb) n\n",
      "> /Users/qtran/covid19/COVID-19/prognosis/model_utils.py(221)get_log_daily_predicted_death()\n",
      "-> forecast_end_date_idx = data_end_date_idx + forecast_horizon\n",
      "(Pdb) n\n",
      "> /Users/qtran/covid19/COVID-19/prognosis/model_utils.py(222)get_log_daily_predicted_death()\n",
      "-> forecast_time_idx = (forecast_date_index - lockdown_effective_date).days.values\n",
      "(Pdb) n\n",
      "> /Users/qtran/covid19/COVID-19/prognosis/model_utils.py(223)get_log_daily_predicted_death()\n",
      "-> data_time_idx = (log_daily_death.index - lockdown_effective_date).days.values\n",
      "(Pdb) n\n",
      "> /Users/qtran/covid19/COVID-19/prognosis/model_utils.py(224)get_log_daily_predicted_death()\n",
      "-> log_daily_death['time_idx'] = data_time_idx\n",
      "(Pdb) n\n",
      "> /Users/qtran/covid19/COVID-19/prognosis/model_utils.py(225)get_log_daily_predicted_death()\n",
      "-> log_daily_death = log_daily_death.replace([np.inf, -np.inf], np.nan).dropna()\n",
      "(Pdb) n\n",
      "> /Users/qtran/covid19/COVID-19/prognosis/model_utils.py(226)get_log_daily_predicted_death()\n",
      "-> log_daily_death_before = log_daily_death[log_daily_death.time_idx < 0]\n",
      "(Pdb) n\n",
      "> /Users/qtran/covid19/COVID-19/prognosis/model_utils.py(227)get_log_daily_predicted_death()\n",
      "-> regr_before = linear_model.HuberRegressor(fit_intercept=True)\n",
      "(Pdb) n\n",
      "> /Users/qtran/covid19/COVID-19/prognosis/model_utils.py(228)get_log_daily_predicted_death()\n",
      "-> regr_before.fit(log_daily_death_before.time_idx.values.reshape(-1, 1), log_daily_death_before.death)\n",
      "(Pdb) n\n",
      "> /Users/qtran/covid19/COVID-19/prognosis/model_utils.py(229)get_log_daily_predicted_death()\n",
      "-> outliers_before = regr_before.outliers_\n",
      "(Pdb) n\n",
      "> /Users/qtran/covid19/COVID-19/prognosis/model_utils.py(230)get_log_daily_predicted_death()\n",
      "-> log_predicted_death_before_values = regr_before.predict(forecast_time_idx[forecast_time_idx < 0].reshape(-1, 1))\n",
      "(Pdb) p outliers_before\n",
      "array([False, False, False, False, False,  True,  True, False, False,\n",
      "       False, False, False, False, False, False, False, False])\n",
      "(Pdb) n\n",
      "> /Users/qtran/covid19/COVID-19/prognosis/model_utils.py(231)get_log_daily_predicted_death()\n",
      "-> log_predicted_death_before_index = forecast_date_index[forecast_time_idx < 0]\n",
      "(Pdb) n\n",
      "> /Users/qtran/covid19/COVID-19/prognosis/model_utils.py(232)get_log_daily_predicted_death()\n",
      "-> log_predicted_death_before = pd.DataFrame(log_predicted_death_before_values,\n",
      "(Pdb) n\n",
      "> /Users/qtran/covid19/COVID-19/prognosis/model_utils.py(233)get_log_daily_predicted_death()\n",
      "-> index=log_predicted_death_before_index)\n",
      "(Pdb) n\n",
      "> /Users/qtran/covid19/COVID-19/prognosis/model_utils.py(234)get_log_daily_predicted_death()\n",
      "-> if all(forecast_time_idx < 0):\n",
      "(Pdb) n\n",
      "> /Users/qtran/covid19/COVID-19/prognosis/model_utils.py(243)get_log_daily_predicted_death()\n",
      "-> elif all(data_time_idx <= 3):\n",
      "(Pdb) n\n",
      "> /Users/qtran/covid19/COVID-19/prognosis/model_utils.py(244)get_log_daily_predicted_death()\n",
      "-> print(\"Use default second model due to not enough data\")\n",
      "(Pdb) n\n",
      "Use default second model due to not enough data\n",
      "> /Users/qtran/covid19/COVID-19/prognosis/model_utils.py(246)get_log_daily_predicted_death()\n",
      "-> if (len(log_daily_death) - len(outliers_before))>0:\n",
      "(Pdb) n\n",
      "> /Users/qtran/covid19/COVID-19/prognosis/model_utils.py(250)get_log_daily_predicted_death()\n",
      "-> outliers = outliers_before\n",
      "(Pdb) n\n",
      "> /Users/qtran/covid19/COVID-19/prognosis/model_utils.py(251)get_log_daily_predicted_death()\n",
      "-> regr_pw = pwlf.PiecewiseLinFit(x=log_daily_death[~outliers].time_idx.values, y=log_daily_death[~outliers].death)\n",
      "(Pdb) p outliers\n",
      "array([False, False, False, False, False,  True,  True, False, False,\n",
      "       False, False, False, False, False, False, False, False])\n",
      "(Pdb) n\n",
      "> /Users/qtran/covid19/COVID-19/prognosis/model_utils.py(252)get_log_daily_predicted_death()\n",
      "-> break_points = np.array([data_start_date_idx, 0, forecast_end_date_idx])\n",
      "(Pdb) n\n",
      "> /Users/qtran/covid19/COVID-19/prognosis/model_utils.py(253)get_log_daily_predicted_death()\n",
      "-> regr_pw.fit_with_breaks(break_points)\n",
      "(Pdb) n\n",
      "> /Users/qtran/covid19/COVID-19/prognosis/model_utils.py(255)get_log_daily_predicted_death()\n",
      "-> regr_pw.beta[2]= -0.3\n",
      "(Pdb) n\n",
      "> /Users/qtran/covid19/COVID-19/prognosis/model_utils.py(256)get_log_daily_predicted_death()\n",
      "-> variance = regr_pw.variance()\n",
      "(Pdb) n\n",
      "> /Users/qtran/covid19/COVID-19/prognosis/model_utils.py(257)get_log_daily_predicted_death()\n",
      "-> log_predicted_death_pred_var_oos = variance*(forecast_time_idx[forecast_time_idx>data_end_date_idx]-\n",
      "(Pdb) p variance\n",
      "0.1115416616758072\n",
      "(Pdb) n\n",
      "> /Users/qtran/covid19/COVID-19/prognosis/model_utils.py(258)get_log_daily_predicted_death()\n",
      "-> data_end_date_idx)\n",
      "(Pdb) n\n",
      "> /Users/qtran/covid19/COVID-19/prognosis/model_utils.py(259)get_log_daily_predicted_death()\n",
      "-> print(regr_pw.variance())\n",
      "(Pdb) n\n",
      "0.1115416616758072\n",
      "> /Users/qtran/covid19/COVID-19/prognosis/model_utils.py(260)get_log_daily_predicted_death()\n",
      "-> print(len(forecast_time_idx[forecast_time_idx>data_end_date_idx]))\n",
      "(Pdb) n\n",
      "60\n",
      "> /Users/qtran/covid19/COVID-19/prognosis/model_utils.py(272)get_log_daily_predicted_death()\n",
      "-> log_predicted_death_values = regr_pw.predict(forecast_time_idx)\n",
      "(Pdb) n\n",
      "> /Users/qtran/covid19/COVID-19/prognosis/model_utils.py(273)get_log_daily_predicted_death()\n",
      "-> log_predicted_death_pred_var = regr_pw.prediction_variance(forecast_time_idx)\n",
      "(Pdb) p log_predicted_death_values\n",
      "array([-2.38712257, -2.31788471, -2.24864684, -2.17940897, -2.1101711 ,\n",
      "       -2.04093323, -1.97169536, -1.90245749, -1.83321962, -1.76398175,\n",
      "       -1.69474388, -1.62550601, -1.55626814, -1.48703027, -1.4177924 ,\n",
      "       -1.34855453, -1.27931666, -1.21007879, -1.14084092, -1.07160305,\n",
      "       -1.00236518, -0.93312731, -0.86388944, -0.79465157, -0.7254137 ,\n",
      "       -0.65617583, -0.58693796, -0.51770009, -0.44846222, -0.37922435,\n",
      "       -0.30998648, -0.24074861, -0.17151074, -0.10227287, -0.033035  ,\n",
      "        0.03620287,  0.10544074,  0.17467861,  0.24391648,  0.31315435,\n",
      "        0.38239222,  0.45163009,  0.52086796,  0.59010583,  0.6593437 ,\n",
      "        0.42858157,  0.19781943, -0.0329427 , -0.26370483, -0.49446696,\n",
      "       -0.72522909, -0.95599122, -1.18675335, -1.41751548, -1.64827761,\n",
      "       -1.87903974, -2.10980187, -2.340564  , -2.57132613, -2.80208826,\n",
      "       -3.03285039, -3.26361252, -3.49437465, -3.72513678, -3.95589891,\n",
      "       -4.18666104, -4.41742317, -4.6481853 , -4.87894743, -5.10970956,\n",
      "       -5.34047169, -5.57123382, -5.80199595, -6.03275808, -6.26352021,\n",
      "       -6.49428234, -6.72504447, -6.9558066 , -7.18656873, -7.41733086,\n",
      "       -7.64809299, -7.87885512, -8.10961725, -8.34037938, -8.57114151])\n"
     ]
    },
    {
     "name": "stdout",
     "output_type": "stream",
     "text": [
      "(Pdb) n\n",
      "> /Users/qtran/covid19/COVID-19/prognosis/model_utils.py(274)get_log_daily_predicted_death()\n",
      "-> if all(data_time_idx <= 3):\n",
      "(Pdb) n\n",
      "> /Users/qtran/covid19/COVID-19/prognosis/model_utils.py(275)get_log_daily_predicted_death()\n",
      "-> log_predicted_death_pred_var = np.concatenate(\n",
      "(Pdb) n\n",
      "> /Users/qtran/covid19/COVID-19/prognosis/model_utils.py(276)get_log_daily_predicted_death()\n",
      "-> (log_predicted_death_pred_var[:sum(forecast_time_idx <= data_end_date_idx)],\n",
      "(Pdb) n\n",
      "> /Users/qtran/covid19/COVID-19/prognosis/model_utils.py(277)get_log_daily_predicted_death()\n",
      "-> log_predicted_death_pred_var_oos))\n",
      "(Pdb) n\n",
      "> /Users/qtran/covid19/COVID-19/prognosis/model_utils.py(279)get_log_daily_predicted_death()\n",
      "-> log_predicted_death_lower_bound_values = log_predicted_death_values - 1.96 * np.sqrt(log_predicted_death_pred_var)\n",
      "(Pdb) p log_predicted_death_pred_var_oos\n",
      "array([0.11154166, 0.22308332, 0.33462499, 0.44616665, 0.55770831,\n",
      "       0.66924997, 0.78079163, 0.89233329, 1.00387496, 1.11541662,\n",
      "       1.22695828, 1.33849994, 1.4500416 , 1.56158326, 1.67312493,\n",
      "       1.78466659, 1.89620825, 2.00774991, 2.11929157, 2.23083323,\n",
      "       2.3423749 , 2.45391656, 2.56545822, 2.67699988, 2.78854154,\n",
      "       2.9000832 , 3.01162487, 3.12316653, 3.23470819, 3.34624985,\n",
      "       3.45779151, 3.56933317, 3.68087484, 3.7924165 , 3.90395816,\n",
      "       4.01549982, 4.12704148, 4.23858314, 4.35012481, 4.46166647,\n",
      "       4.57320813, 4.68474979, 4.79629145, 4.90783311, 5.01937478,\n",
      "       5.13091644, 5.2424581 , 5.35399976, 5.46554142, 5.57708308,\n",
      "       5.68862475, 5.80016641, 5.91170807, 6.02324973, 6.13479139,\n",
      "       6.24633305, 6.35787472, 6.46941638, 6.58095804, 6.6924997 ])\n",
      "(Pdb) p log_daily_death\n",
      "               death  time_idx\n",
      "2020-03-29 -1.945910       -36\n",
      "2020-03-30 -1.945910       -35\n",
      "2020-03-31 -1.945910       -34\n",
      "2020-04-01 -1.945910       -33\n",
      "2020-04-02 -1.252763       -32\n",
      "2020-04-03 -0.847298       -31\n",
      "2020-04-04 -0.559616       -30\n",
      "2020-04-05 -0.847298       -29\n",
      "2020-04-06 -0.847298       -28\n",
      "2020-04-07 -0.847298       -27\n",
      "2020-04-08 -0.847298       -26\n",
      "2020-04-09 -1.252763       -25\n",
      "2020-04-10 -1.252763       -24\n",
      "2020-04-11 -1.252763       -23\n",
      "2020-04-12 -1.252763       -22\n",
      "2020-04-13 -0.847298       -21\n",
      "2020-04-14 -0.559616       -20\n",
      "(Pdb) n\n",
      "> /Users/qtran/covid19/COVID-19/prognosis/model_utils.py(280)get_log_daily_predicted_death()\n",
      "-> log_predicted_death_upper_bound_values = log_predicted_death_values + 1.96 * np.sqrt(log_predicted_death_pred_var)\n",
      "(Pdb) n\n",
      "> /Users/qtran/covid19/COVID-19/prognosis/model_utils.py(282)get_log_daily_predicted_death()\n",
      "-> log_predicted_death = pd.DataFrame(log_predicted_death_values, index=forecast_date_index)\n",
      "(Pdb) n\n",
      "> /Users/qtran/covid19/COVID-19/prognosis/model_utils.py(283)get_log_daily_predicted_death()\n",
      "-> log_predicted_death_lower_bound = pd.DataFrame(log_predicted_death_lower_bound_values, index=forecast_date_index)\n",
      "(Pdb) n\n",
      "> /Users/qtran/covid19/COVID-19/prognosis/model_utils.py(284)get_log_daily_predicted_death()\n",
      "-> log_predicted_death_upper_bound = pd.DataFrame(log_predicted_death_upper_bound_values, index=forecast_date_index)\n",
      "(Pdb) n\n",
      "> /Users/qtran/covid19/COVID-19/prognosis/model_utils.py(285)get_log_daily_predicted_death()\n",
      "-> log_predicted_death.columns = ['predicted_death']\n",
      "(Pdb) n\n",
      "> /Users/qtran/covid19/COVID-19/prognosis/model_utils.py(286)get_log_daily_predicted_death()\n",
      "-> log_predicted_death_lower_bound.columns = ['lower_bound']\n",
      "(Pdb) n\n",
      "> /Users/qtran/covid19/COVID-19/prognosis/model_utils.py(287)get_log_daily_predicted_death()\n",
      "-> log_predicted_death_upper_bound.columns = ['upper_bound']\n",
      "(Pdb) n\n",
      "> /Users/qtran/covid19/COVID-19/prognosis/model_utils.py(288)get_log_daily_predicted_death()\n",
      "-> return log_predicted_death, log_predicted_death_lower_bound, log_predicted_death_upper_bound, regr_pw.beta\n",
      "(Pdb) p log_predicted_death\n",
      "            predicted_death\n",
      "2020-03-21        -2.387123\n",
      "2020-03-22        -2.317885\n",
      "2020-03-23        -2.248647\n",
      "2020-03-24        -2.179409\n",
      "2020-03-25        -2.110171\n",
      "2020-03-26        -2.040933\n",
      "2020-03-27        -1.971695\n",
      "2020-03-28        -1.902457\n",
      "2020-03-29        -1.833220\n",
      "2020-03-30        -1.763982\n",
      "2020-03-31        -1.694744\n",
      "2020-04-01        -1.625506\n",
      "2020-04-02        -1.556268\n",
      "2020-04-03        -1.487030\n",
      "2020-04-04        -1.417792\n",
      "2020-04-05        -1.348555\n",
      "2020-04-06        -1.279317\n",
      "2020-04-07        -1.210079\n",
      "2020-04-08        -1.140841\n",
      "2020-04-09        -1.071603\n",
      "2020-04-10        -1.002365\n",
      "2020-04-11        -0.933127\n",
      "2020-04-12        -0.863889\n",
      "2020-04-13        -0.794652\n",
      "2020-04-14        -0.725414\n",
      "2020-04-15        -0.656176\n",
      "2020-04-16        -0.586938\n",
      "2020-04-17        -0.517700\n",
      "2020-04-18        -0.448462\n",
      "2020-04-19        -0.379224\n",
      "...                     ...\n",
      "2020-05-15        -1.879040\n",
      "2020-05-16        -2.109802\n",
      "2020-05-17        -2.340564\n",
      "2020-05-18        -2.571326\n",
      "2020-05-19        -2.802088\n",
      "2020-05-20        -3.032850\n",
      "2020-05-21        -3.263613\n",
      "2020-05-22        -3.494375\n",
      "2020-05-23        -3.725137\n",
      "2020-05-24        -3.955899\n",
      "2020-05-25        -4.186661\n",
      "2020-05-26        -4.417423\n",
      "2020-05-27        -4.648185\n",
      "2020-05-28        -4.878947\n",
      "2020-05-29        -5.109710\n",
      "2020-05-30        -5.340472\n",
      "2020-05-31        -5.571234\n",
      "2020-06-01        -5.801996\n",
      "2020-06-02        -6.032758\n",
      "2020-06-03        -6.263520\n",
      "2020-06-04        -6.494282\n",
      "2020-06-05        -6.725044\n",
      "2020-06-06        -6.955807\n",
      "2020-06-07        -7.186569\n",
      "2020-06-08        -7.417331\n",
      "2020-06-09        -7.648093\n",
      "2020-06-10        -7.878855\n",
      "2020-06-11        -8.109617\n",
      "2020-06-12        -8.340379\n",
      "2020-06-13        -8.571142\n",
      "\n",
      "[85 rows x 1 columns]\n",
      "(Pdb) p log_daily_death\n",
      "               death  time_idx\n",
      "2020-03-29 -1.945910       -36\n",
      "2020-03-30 -1.945910       -35\n",
      "2020-03-31 -1.945910       -34\n",
      "2020-04-01 -1.945910       -33\n",
      "2020-04-02 -1.252763       -32\n",
      "2020-04-03 -0.847298       -31\n",
      "2020-04-04 -0.559616       -30\n",
      "2020-04-05 -0.847298       -29\n",
      "2020-04-06 -0.847298       -28\n",
      "2020-04-07 -0.847298       -27\n",
      "2020-04-08 -0.847298       -26\n",
      "2020-04-09 -1.252763       -25\n",
      "2020-04-10 -1.252763       -24\n",
      "2020-04-11 -1.252763       -23\n",
      "2020-04-12 -1.252763       -22\n",
      "2020-04-13 -0.847298       -21\n",
      "2020-04-14 -0.559616       -20\n",
      "(Pdb) q\n"
     ]
    },
    {
     "ename": "BdbQuit",
     "evalue": "",
     "output_type": "error",
     "traceback": [
      "\u001b[0;31m---------------------------------------------------------------------------\u001b[0m",
      "\u001b[0;31mBdbQuit\u001b[0m                                   Traceback (most recent call last)",
      "\u001b[0;32m<ipython-input-39-1e08c64b3ce5>\u001b[0m in \u001b[0;36m<module>\u001b[0;34m\u001b[0m\n\u001b[0;32m----> 1\u001b[0;31m \u001b[0mlog_pre\u001b[0m\u001b[0;34m,\u001b[0m \u001b[0mmb\u001b[0m \u001b[0;34m=\u001b[0m \u001b[0mmu\u001b[0m\u001b[0;34m.\u001b[0m\u001b[0mget_log_daily_predicted_death_by_country\u001b[0m\u001b[0;34m(\u001b[0m\u001b[0;34m'Singapore'\u001b[0m\u001b[0;34m,\u001b[0m \u001b[0mlockdown_date\u001b[0m\u001b[0;34m=\u001b[0m\u001b[0;34m'20200415'\u001b[0m\u001b[0;34m)\u001b[0m\u001b[0;34m\u001b[0m\u001b[0;34m\u001b[0m\u001b[0m\n\u001b[0m",
      "\u001b[0;32m~/covid19/COVID-19/prognosis/model_utils.py\u001b[0m in \u001b[0;36mget_log_daily_predicted_death_by_country\u001b[0;34m(country, forecast_horizon, lockdown_date)\u001b[0m\n\u001b[1;32m    363\u001b[0m     \u001b[0mdaily_local_death_new\u001b[0m\u001b[0;34m.\u001b[0m\u001b[0mcolumns\u001b[0m \u001b[0;34m=\u001b[0m \u001b[0;34m[\u001b[0m\u001b[0;34m'death'\u001b[0m\u001b[0;34m]\u001b[0m\u001b[0;34m\u001b[0m\u001b[0;34m\u001b[0m\u001b[0m\n\u001b[1;32m    364\u001b[0m     \u001b[0mlog_daily_death\u001b[0m \u001b[0;34m=\u001b[0m \u001b[0mnp\u001b[0m\u001b[0;34m.\u001b[0m\u001b[0mlog\u001b[0m\u001b[0;34m(\u001b[0m\u001b[0mdaily_local_death_new\u001b[0m\u001b[0;34m)\u001b[0m\u001b[0;34m\u001b[0m\u001b[0;34m\u001b[0m\u001b[0m\n\u001b[0;32m--> 365\u001b[0;31m     \u001b[0mlog_predicted_death\u001b[0m\u001b[0;34m,\u001b[0m \u001b[0mlog_predicted_death_lb\u001b[0m\u001b[0;34m,\u001b[0m \u001b[0mlog_predicted_death_ub\u001b[0m\u001b[0;34m,\u001b[0m \u001b[0mmodel_beta\u001b[0m \u001b[0;34m=\u001b[0m\u001b[0;31m \u001b[0m\u001b[0;31m\\\u001b[0m\u001b[0;34m\u001b[0m\u001b[0;34m\u001b[0m\u001b[0m\n\u001b[0m\u001b[1;32m    366\u001b[0m             \u001b[0mget_log_daily_predicted_death\u001b[0m\u001b[0;34m(\u001b[0m\u001b[0mlocal_death_data\u001b[0m\u001b[0;34m,\u001b[0m \u001b[0mlockdown_date\u001b[0m\u001b[0;34m=\u001b[0m\u001b[0mlockdown_date\u001b[0m\u001b[0;34m)\u001b[0m\u001b[0;34m\u001b[0m\u001b[0;34m\u001b[0m\u001b[0m\n\u001b[1;32m    367\u001b[0m     return  pd.concat([log_daily_death, log_predicted_death, log_predicted_death_lb,\n",
      "\u001b[0;32m~/covid19/COVID-19/prognosis/model_utils.py\u001b[0m in \u001b[0;36mget_log_daily_predicted_death\u001b[0;34m(local_death_data, forecast_horizon, lockdown_date)\u001b[0m\n\u001b[1;32m    286\u001b[0m     \u001b[0mlog_predicted_death\u001b[0m\u001b[0;34m.\u001b[0m\u001b[0mcolumns\u001b[0m \u001b[0;34m=\u001b[0m \u001b[0;34m[\u001b[0m\u001b[0;34m'predicted_death'\u001b[0m\u001b[0;34m]\u001b[0m\u001b[0;34m\u001b[0m\u001b[0;34m\u001b[0m\u001b[0m\n\u001b[1;32m    287\u001b[0m     \u001b[0mlog_predicted_death_lower_bound\u001b[0m\u001b[0;34m.\u001b[0m\u001b[0mcolumns\u001b[0m \u001b[0;34m=\u001b[0m \u001b[0;34m[\u001b[0m\u001b[0;34m'lower_bound'\u001b[0m\u001b[0;34m]\u001b[0m\u001b[0;34m\u001b[0m\u001b[0;34m\u001b[0m\u001b[0m\n\u001b[0;32m--> 288\u001b[0;31m     \u001b[0mlog_predicted_death_upper_bound\u001b[0m\u001b[0;34m.\u001b[0m\u001b[0mcolumns\u001b[0m \u001b[0;34m=\u001b[0m \u001b[0;34m[\u001b[0m\u001b[0;34m'upper_bound'\u001b[0m\u001b[0;34m]\u001b[0m\u001b[0;34m\u001b[0m\u001b[0;34m\u001b[0m\u001b[0m\n\u001b[0m\u001b[1;32m    289\u001b[0m     \u001b[0;32mreturn\u001b[0m \u001b[0mlog_predicted_death\u001b[0m\u001b[0;34m,\u001b[0m \u001b[0mlog_predicted_death_lower_bound\u001b[0m\u001b[0;34m,\u001b[0m \u001b[0mlog_predicted_death_upper_bound\u001b[0m\u001b[0;34m,\u001b[0m \u001b[0mregr_pw\u001b[0m\u001b[0;34m.\u001b[0m\u001b[0mbeta\u001b[0m\u001b[0;34m\u001b[0m\u001b[0;34m\u001b[0m\u001b[0m\n\u001b[1;32m    290\u001b[0m \u001b[0;34m\u001b[0m\u001b[0m\n",
      "\u001b[0;32m~/covid19/COVID-19/prognosis/model_utils.py\u001b[0m in \u001b[0;36mget_log_daily_predicted_death\u001b[0;34m(local_death_data, forecast_horizon, lockdown_date)\u001b[0m\n\u001b[1;32m    286\u001b[0m     \u001b[0mlog_predicted_death\u001b[0m\u001b[0;34m.\u001b[0m\u001b[0mcolumns\u001b[0m \u001b[0;34m=\u001b[0m \u001b[0;34m[\u001b[0m\u001b[0;34m'predicted_death'\u001b[0m\u001b[0;34m]\u001b[0m\u001b[0;34m\u001b[0m\u001b[0;34m\u001b[0m\u001b[0m\n\u001b[1;32m    287\u001b[0m     \u001b[0mlog_predicted_death_lower_bound\u001b[0m\u001b[0;34m.\u001b[0m\u001b[0mcolumns\u001b[0m \u001b[0;34m=\u001b[0m \u001b[0;34m[\u001b[0m\u001b[0;34m'lower_bound'\u001b[0m\u001b[0;34m]\u001b[0m\u001b[0;34m\u001b[0m\u001b[0;34m\u001b[0m\u001b[0m\n\u001b[0;32m--> 288\u001b[0;31m     \u001b[0mlog_predicted_death_upper_bound\u001b[0m\u001b[0;34m.\u001b[0m\u001b[0mcolumns\u001b[0m \u001b[0;34m=\u001b[0m \u001b[0;34m[\u001b[0m\u001b[0;34m'upper_bound'\u001b[0m\u001b[0;34m]\u001b[0m\u001b[0;34m\u001b[0m\u001b[0;34m\u001b[0m\u001b[0m\n\u001b[0m\u001b[1;32m    289\u001b[0m     \u001b[0;32mreturn\u001b[0m \u001b[0mlog_predicted_death\u001b[0m\u001b[0;34m,\u001b[0m \u001b[0mlog_predicted_death_lower_bound\u001b[0m\u001b[0;34m,\u001b[0m \u001b[0mlog_predicted_death_upper_bound\u001b[0m\u001b[0;34m,\u001b[0m \u001b[0mregr_pw\u001b[0m\u001b[0;34m.\u001b[0m\u001b[0mbeta\u001b[0m\u001b[0;34m\u001b[0m\u001b[0;34m\u001b[0m\u001b[0m\n\u001b[1;32m    290\u001b[0m \u001b[0;34m\u001b[0m\u001b[0m\n",
      "\u001b[0;32m~/anaconda3/lib/python3.7/bdb.py\u001b[0m in \u001b[0;36mtrace_dispatch\u001b[0;34m(self, frame, event, arg)\u001b[0m\n\u001b[1;32m     86\u001b[0m             \u001b[0;32mreturn\u001b[0m \u001b[0;31m# None\u001b[0m\u001b[0;34m\u001b[0m\u001b[0;34m\u001b[0m\u001b[0m\n\u001b[1;32m     87\u001b[0m         \u001b[0;32mif\u001b[0m \u001b[0mevent\u001b[0m \u001b[0;34m==\u001b[0m \u001b[0;34m'line'\u001b[0m\u001b[0;34m:\u001b[0m\u001b[0;34m\u001b[0m\u001b[0;34m\u001b[0m\u001b[0m\n\u001b[0;32m---> 88\u001b[0;31m             \u001b[0;32mreturn\u001b[0m \u001b[0mself\u001b[0m\u001b[0;34m.\u001b[0m\u001b[0mdispatch_line\u001b[0m\u001b[0;34m(\u001b[0m\u001b[0mframe\u001b[0m\u001b[0;34m)\u001b[0m\u001b[0;34m\u001b[0m\u001b[0;34m\u001b[0m\u001b[0m\n\u001b[0m\u001b[1;32m     89\u001b[0m         \u001b[0;32mif\u001b[0m \u001b[0mevent\u001b[0m \u001b[0;34m==\u001b[0m \u001b[0;34m'call'\u001b[0m\u001b[0;34m:\u001b[0m\u001b[0;34m\u001b[0m\u001b[0;34m\u001b[0m\u001b[0m\n\u001b[1;32m     90\u001b[0m             \u001b[0;32mreturn\u001b[0m \u001b[0mself\u001b[0m\u001b[0;34m.\u001b[0m\u001b[0mdispatch_call\u001b[0m\u001b[0;34m(\u001b[0m\u001b[0mframe\u001b[0m\u001b[0;34m,\u001b[0m \u001b[0marg\u001b[0m\u001b[0;34m)\u001b[0m\u001b[0;34m\u001b[0m\u001b[0;34m\u001b[0m\u001b[0m\n",
      "\u001b[0;32m~/anaconda3/lib/python3.7/bdb.py\u001b[0m in \u001b[0;36mdispatch_line\u001b[0;34m(self, frame)\u001b[0m\n\u001b[1;32m    111\u001b[0m         \u001b[0;32mif\u001b[0m \u001b[0mself\u001b[0m\u001b[0;34m.\u001b[0m\u001b[0mstop_here\u001b[0m\u001b[0;34m(\u001b[0m\u001b[0mframe\u001b[0m\u001b[0;34m)\u001b[0m \u001b[0;32mor\u001b[0m \u001b[0mself\u001b[0m\u001b[0;34m.\u001b[0m\u001b[0mbreak_here\u001b[0m\u001b[0;34m(\u001b[0m\u001b[0mframe\u001b[0m\u001b[0;34m)\u001b[0m\u001b[0;34m:\u001b[0m\u001b[0;34m\u001b[0m\u001b[0;34m\u001b[0m\u001b[0m\n\u001b[1;32m    112\u001b[0m             \u001b[0mself\u001b[0m\u001b[0;34m.\u001b[0m\u001b[0muser_line\u001b[0m\u001b[0;34m(\u001b[0m\u001b[0mframe\u001b[0m\u001b[0;34m)\u001b[0m\u001b[0;34m\u001b[0m\u001b[0;34m\u001b[0m\u001b[0m\n\u001b[0;32m--> 113\u001b[0;31m             \u001b[0;32mif\u001b[0m \u001b[0mself\u001b[0m\u001b[0;34m.\u001b[0m\u001b[0mquitting\u001b[0m\u001b[0;34m:\u001b[0m \u001b[0;32mraise\u001b[0m \u001b[0mBdbQuit\u001b[0m\u001b[0;34m\u001b[0m\u001b[0;34m\u001b[0m\u001b[0m\n\u001b[0m\u001b[1;32m    114\u001b[0m         \u001b[0;32mreturn\u001b[0m \u001b[0mself\u001b[0m\u001b[0;34m.\u001b[0m\u001b[0mtrace_dispatch\u001b[0m\u001b[0;34m\u001b[0m\u001b[0;34m\u001b[0m\u001b[0m\n\u001b[1;32m    115\u001b[0m \u001b[0;34m\u001b[0m\u001b[0m\n",
      "\u001b[0;31mBdbQuit\u001b[0m: "
     ]
    }
   ],
   "source": [
    "log_pre, mb = mu.get_log_daily_predicted_death_by_country('Singapore', lockdown_date='20200415')"
   ]
  },
  {
   "cell_type": "code",
   "execution_count": 40,
   "metadata": {},
   "outputs": [
    {
     "data": {
      "text/html": [
       "<div>\n",
       "<style scoped>\n",
       "    .dataframe tbody tr th:only-of-type {\n",
       "        vertical-align: middle;\n",
       "    }\n",
       "\n",
       "    .dataframe tbody tr th {\n",
       "        vertical-align: top;\n",
       "    }\n",
       "\n",
       "    .dataframe thead th {\n",
       "        text-align: right;\n",
       "    }\n",
       "</style>\n",
       "<table border=\"1\" class=\"dataframe\">\n",
       "  <thead>\n",
       "    <tr style=\"text-align: right;\">\n",
       "      <th></th>\n",
       "      <th>death</th>\n",
       "      <th>predicted_death</th>\n",
       "      <th>lower_bound</th>\n",
       "      <th>upper_bound</th>\n",
       "    </tr>\n",
       "  </thead>\n",
       "  <tbody>\n",
       "    <tr>\n",
       "      <th>2020-03-21</th>\n",
       "      <td>NaN</td>\n",
       "      <td>-2.387123</td>\n",
       "      <td>-2.952096</td>\n",
       "      <td>-1.822149</td>\n",
       "    </tr>\n",
       "    <tr>\n",
       "      <th>2020-03-22</th>\n",
       "      <td>NaN</td>\n",
       "      <td>-2.317885</td>\n",
       "      <td>-2.851455</td>\n",
       "      <td>-1.784314</td>\n",
       "    </tr>\n",
       "    <tr>\n",
       "      <th>2020-03-23</th>\n",
       "      <td>NaN</td>\n",
       "      <td>-2.248647</td>\n",
       "      <td>-2.751020</td>\n",
       "      <td>-1.746274</td>\n",
       "    </tr>\n",
       "    <tr>\n",
       "      <th>2020-03-24</th>\n",
       "      <td>NaN</td>\n",
       "      <td>-2.179409</td>\n",
       "      <td>-2.650830</td>\n",
       "      <td>-1.707988</td>\n",
       "    </tr>\n",
       "    <tr>\n",
       "      <th>2020-03-25</th>\n",
       "      <td>NaN</td>\n",
       "      <td>-2.110171</td>\n",
       "      <td>-2.550940</td>\n",
       "      <td>-1.669403</td>\n",
       "    </tr>\n",
       "  </tbody>\n",
       "</table>\n",
       "</div>"
      ],
      "text/plain": [
       "            death  predicted_death  lower_bound  upper_bound\n",
       "2020-03-21    NaN        -2.387123    -2.952096    -1.822149\n",
       "2020-03-22    NaN        -2.317885    -2.851455    -1.784314\n",
       "2020-03-23    NaN        -2.248647    -2.751020    -1.746274\n",
       "2020-03-24    NaN        -2.179409    -2.650830    -1.707988\n",
       "2020-03-25    NaN        -2.110171    -2.550940    -1.669403"
      ]
     },
     "execution_count": 40,
     "metadata": {},
     "output_type": "execute_result"
    }
   ],
   "source": [
    "log_pre.head()\n"
   ]
  },
  {
   "cell_type": "code",
   "execution_count": 42,
   "metadata": {},
   "outputs": [
    {
     "data": {
      "text/html": [
       "<div>\n",
       "<style scoped>\n",
       "    .dataframe tbody tr th:only-of-type {\n",
       "        vertical-align: middle;\n",
       "    }\n",
       "\n",
       "    .dataframe tbody tr th {\n",
       "        vertical-align: top;\n",
       "    }\n",
       "\n",
       "    .dataframe thead th {\n",
       "        text-align: right;\n",
       "    }\n",
       "</style>\n",
       "<table border=\"1\" class=\"dataframe\">\n",
       "  <thead>\n",
       "    <tr style=\"text-align: right;\">\n",
       "      <th></th>\n",
       "      <th>death</th>\n",
       "      <th>predicted_death</th>\n",
       "      <th>lower_bound</th>\n",
       "      <th>upper_bound</th>\n",
       "    </tr>\n",
       "  </thead>\n",
       "  <tbody>\n",
       "    <tr>\n",
       "      <th>2020-03-21</th>\n",
       "      <td>NaN</td>\n",
       "      <td>-2.317885</td>\n",
       "      <td>-2.851455</td>\n",
       "      <td>-1.784314</td>\n",
       "    </tr>\n",
       "    <tr>\n",
       "      <th>2020-03-22</th>\n",
       "      <td>NaN</td>\n",
       "      <td>-2.248647</td>\n",
       "      <td>-2.751020</td>\n",
       "      <td>-1.746274</td>\n",
       "    </tr>\n",
       "    <tr>\n",
       "      <th>2020-03-23</th>\n",
       "      <td>NaN</td>\n",
       "      <td>-2.179409</td>\n",
       "      <td>-2.650830</td>\n",
       "      <td>-1.707988</td>\n",
       "    </tr>\n",
       "    <tr>\n",
       "      <th>2020-03-24</th>\n",
       "      <td>NaN</td>\n",
       "      <td>-2.110171</td>\n",
       "      <td>-2.550940</td>\n",
       "      <td>-1.669403</td>\n",
       "    </tr>\n",
       "    <tr>\n",
       "      <th>2020-03-25</th>\n",
       "      <td>NaN</td>\n",
       "      <td>-2.040933</td>\n",
       "      <td>-2.451414</td>\n",
       "      <td>-1.630453</td>\n",
       "    </tr>\n",
       "  </tbody>\n",
       "</table>\n",
       "</div>"
      ],
      "text/plain": [
       "            death  predicted_death  lower_bound  upper_bound\n",
       "2020-03-21    NaN        -2.317885    -2.851455    -1.784314\n",
       "2020-03-22    NaN        -2.248647    -2.751020    -1.746274\n",
       "2020-03-23    NaN        -2.179409    -2.650830    -1.707988\n",
       "2020-03-24    NaN        -2.110171    -2.550940    -1.669403\n",
       "2020-03-25    NaN        -2.040933    -2.451414    -1.630453"
      ]
     },
     "execution_count": 42,
     "metadata": {},
     "output_type": "execute_result"
    }
   ],
   "source": [
    "log_pre.shift(-1).head()"
   ]
  },
  {
   "cell_type": "code",
   "execution_count": 37,
   "metadata": {},
   "outputs": [
    {
     "data": {
      "text/plain": [
       "<matplotlib.axes._subplots.AxesSubplot at 0x1a1d94a320>"
      ]
     },
     "execution_count": 37,
     "metadata": {},
     "output_type": "execute_result"
    },
    {
     "data": {
      "image/png": "[encoded data removed]",
      "text/plain": [
       "<Figure size 432x288 with 1 Axes>"
      ]
     },
     "metadata": {
      "needs_background": "light"
     },
     "output_type": "display_data"
    }
   ],
   "source": [
    "log_pre.plot()"
   ]
  },
  {
   "cell_type": "code",
   "execution_count": null,
   "metadata": {},
   "outputs": [],
   "source": [
    "log_g, _ = mu.get_log_daily_predicted_death_by_state_US('Pennsylvania', lockdown_date='20200401')"
   ]
  },
  {
   "cell_type": "code",
   "execution_count": null,
   "metadata": {},
   "outputs": [],
   "source": [
    "log_g.plot()"
   ]
  },
  {
   "cell_type": "code",
   "execution_count": null,
   "metadata": {},
   "outputs": [],
   "source": [
    "log_g"
   ]
  },
  {
   "cell_type": "code",
   "execution_count": null,
   "metadata": {},
   "outputs": [],
   "source": [
    "import pdb; pdb.pm()"
   ]
  },
  {
   "cell_type": "code",
   "execution_count": null,
   "metadata": {},
   "outputs": [],
   "source": [
    "country = 'fdf'\n",
    "state = 'fdfds'\n",
    "local = (country, state)"
   ]
  },
  {
   "cell_type": "code",
   "execution_count": null,
   "metadata": {},
   "outputs": [],
   "source": [
    "local"
   ]
  },
  {
   "cell_type": "code",
   "execution_count": null,
   "metadata": {},
   "outputs": [],
   "source": [
    "local = 'US'\n",
    "local"
   ]
  },
  {
   "cell_type": "code",
   "execution_count": 44,
   "metadata": {},
   "outputs": [],
   "source": [
    "a = ['ab', 'ac', 'acd']"
   ]
  },
  {
   "cell_type": "code",
   "execution_count": 48,
   "metadata": {},
   "outputs": [
    {
     "name": "stderr",
     "output_type": "stream",
     "text": [
      "/Users/qtran/covid19/COVID-19/prognosis/model_utils.py:209: RuntimeWarning: divide by zero encountered in log\n",
      "  log_daily_death = np.log(daily_local_death_new)\n"
     ]
    },
    {
     "name": "stdout",
     "output_type": "stream",
     "text": [
      "Lockdown is not effective in forecast range. Second model not needed\n"
     ]
    }
   ],
   "source": [
    "daily, cum, mb = mu.get_metrics_by_country('US')"
   ]
  },
  {
   "cell_type": "code",
   "execution_count": 54,
   "metadata": {},
   "outputs": [
    {
     "data": {
      "text/html": [
       "<div>\n",
       "<style scoped>\n",
       "    .dataframe tbody tr th:only-of-type {\n",
       "        vertical-align: middle;\n",
       "    }\n",
       "\n",
       "    .dataframe tbody tr th {\n",
       "        vertical-align: top;\n",
       "    }\n",
       "\n",
       "    .dataframe thead th {\n",
       "        text-align: right;\n",
       "    }\n",
       "</style>\n",
       "<table border=\"1\" class=\"dataframe\">\n",
       "  <thead>\n",
       "    <tr style=\"text-align: right;\">\n",
       "      <th></th>\n",
       "      <th>death</th>\n",
       "      <th>predicted_death</th>\n",
       "      <th>lower_bound</th>\n",
       "      <th>upper_bound</th>\n",
       "      <th>infected</th>\n",
       "      <th>symptomatic</th>\n",
       "      <th>hospitalized</th>\n",
       "    </tr>\n",
       "  </thead>\n",
       "  <tbody>\n",
       "    <tr>\n",
       "      <th>2020-02-10</th>\n",
       "      <td>NaN</td>\n",
       "      <td>NaN</td>\n",
       "      <td>NaN</td>\n",
       "      <td>NaN</td>\n",
       "      <td>0.667916</td>\n",
       "      <td>NaN</td>\n",
       "      <td>NaN</td>\n",
       "    </tr>\n",
       "    <tr>\n",
       "      <th>2020-02-11</th>\n",
       "      <td>NaN</td>\n",
       "      <td>NaN</td>\n",
       "      <td>NaN</td>\n",
       "      <td>NaN</td>\n",
       "      <td>0.821291</td>\n",
       "      <td>NaN</td>\n",
       "      <td>NaN</td>\n",
       "    </tr>\n",
       "    <tr>\n",
       "      <th>2020-02-12</th>\n",
       "      <td>NaN</td>\n",
       "      <td>NaN</td>\n",
       "      <td>NaN</td>\n",
       "      <td>NaN</td>\n",
       "      <td>1.009885</td>\n",
       "      <td>NaN</td>\n",
       "      <td>NaN</td>\n",
       "    </tr>\n",
       "    <tr>\n",
       "      <th>2020-02-13</th>\n",
       "      <td>NaN</td>\n",
       "      <td>NaN</td>\n",
       "      <td>NaN</td>\n",
       "      <td>NaN</td>\n",
       "      <td>1.241787</td>\n",
       "      <td>NaN</td>\n",
       "      <td>NaN</td>\n",
       "    </tr>\n",
       "    <tr>\n",
       "      <th>2020-02-14</th>\n",
       "      <td>NaN</td>\n",
       "      <td>NaN</td>\n",
       "      <td>NaN</td>\n",
       "      <td>NaN</td>\n",
       "      <td>1.526941</td>\n",
       "      <td>NaN</td>\n",
       "      <td>NaN</td>\n",
       "    </tr>\n",
       "    <tr>\n",
       "      <th>2020-02-15</th>\n",
       "      <td>NaN</td>\n",
       "      <td>NaN</td>\n",
       "      <td>NaN</td>\n",
       "      <td>NaN</td>\n",
       "      <td>1.877575</td>\n",
       "      <td>NaN</td>\n",
       "      <td>NaN</td>\n",
       "    </tr>\n",
       "    <tr>\n",
       "      <th>2020-02-16</th>\n",
       "      <td>NaN</td>\n",
       "      <td>NaN</td>\n",
       "      <td>NaN</td>\n",
       "      <td>NaN</td>\n",
       "      <td>2.308725</td>\n",
       "      <td>NaN</td>\n",
       "      <td>NaN</td>\n",
       "    </tr>\n",
       "    <tr>\n",
       "      <th>2020-02-17</th>\n",
       "      <td>NaN</td>\n",
       "      <td>NaN</td>\n",
       "      <td>NaN</td>\n",
       "      <td>NaN</td>\n",
       "      <td>2.838882</td>\n",
       "      <td>NaN</td>\n",
       "      <td>NaN</td>\n",
       "    </tr>\n",
       "    <tr>\n",
       "      <th>2020-02-18</th>\n",
       "      <td>NaN</td>\n",
       "      <td>NaN</td>\n",
       "      <td>NaN</td>\n",
       "      <td>NaN</td>\n",
       "      <td>3.490779</td>\n",
       "      <td>NaN</td>\n",
       "      <td>NaN</td>\n",
       "    </tr>\n",
       "    <tr>\n",
       "      <th>2020-02-19</th>\n",
       "      <td>NaN</td>\n",
       "      <td>NaN</td>\n",
       "      <td>NaN</td>\n",
       "      <td>NaN</td>\n",
       "      <td>4.292373</td>\n",
       "      <td>NaN</td>\n",
       "      <td>NaN</td>\n",
       "    </tr>\n",
       "    <tr>\n",
       "      <th>2020-02-20</th>\n",
       "      <td>NaN</td>\n",
       "      <td>NaN</td>\n",
       "      <td>NaN</td>\n",
       "      <td>NaN</td>\n",
       "      <td>5.278038</td>\n",
       "      <td>NaN</td>\n",
       "      <td>NaN</td>\n",
       "    </tr>\n",
       "    <tr>\n",
       "      <th>2020-02-21</th>\n",
       "      <td>NaN</td>\n",
       "      <td>NaN</td>\n",
       "      <td>NaN</td>\n",
       "      <td>NaN</td>\n",
       "      <td>6.490043</td>\n",
       "      <td>NaN</td>\n",
       "      <td>NaN</td>\n",
       "    </tr>\n",
       "    <tr>\n",
       "      <th>2020-02-22</th>\n",
       "      <td>NaN</td>\n",
       "      <td>NaN</td>\n",
       "      <td>NaN</td>\n",
       "      <td>NaN</td>\n",
       "      <td>7.980363</td>\n",
       "      <td>1.335832e+01</td>\n",
       "      <td>1.001874e+01</td>\n",
       "    </tr>\n",
       "    <tr>\n",
       "      <th>2020-02-23</th>\n",
       "      <td>NaN</td>\n",
       "      <td>NaN</td>\n",
       "      <td>NaN</td>\n",
       "      <td>NaN</td>\n",
       "      <td>9.812907</td>\n",
       "      <td>1.642582e+01</td>\n",
       "      <td>1.231936e+01</td>\n",
       "    </tr>\n",
       "    <tr>\n",
       "      <th>2020-02-24</th>\n",
       "      <td>NaN</td>\n",
       "      <td>NaN</td>\n",
       "      <td>NaN</td>\n",
       "      <td>NaN</td>\n",
       "      <td>12.066262</td>\n",
       "      <td>2.019771e+01</td>\n",
       "      <td>1.514828e+01</td>\n",
       "    </tr>\n",
       "    <tr>\n",
       "      <th>2020-02-25</th>\n",
       "      <td>NaN</td>\n",
       "      <td>NaN</td>\n",
       "      <td>NaN</td>\n",
       "      <td>NaN</td>\n",
       "      <td>14.837058</td>\n",
       "      <td>2.483574e+01</td>\n",
       "      <td>1.862680e+01</td>\n",
       "    </tr>\n",
       "    <tr>\n",
       "      <th>2020-02-26</th>\n",
       "      <td>NaN</td>\n",
       "      <td>NaN</td>\n",
       "      <td>NaN</td>\n",
       "      <td>NaN</td>\n",
       "      <td>18.244117</td>\n",
       "      <td>3.053881e+01</td>\n",
       "      <td>2.290411e+01</td>\n",
       "    </tr>\n",
       "    <tr>\n",
       "      <th>2020-02-27</th>\n",
       "      <td>NaN</td>\n",
       "      <td>NaN</td>\n",
       "      <td>NaN</td>\n",
       "      <td>NaN</td>\n",
       "      <td>22.433545</td>\n",
       "      <td>3.755149e+01</td>\n",
       "      <td>2.816362e+01</td>\n",
       "    </tr>\n",
       "    <tr>\n",
       "      <th>2020-02-28</th>\n",
       "      <td>NaN</td>\n",
       "      <td>NaN</td>\n",
       "      <td>NaN</td>\n",
       "      <td>NaN</td>\n",
       "      <td>27.584999</td>\n",
       "      <td>4.617451e+01</td>\n",
       "      <td>3.463088e+01</td>\n",
       "    </tr>\n",
       "    <tr>\n",
       "      <th>2020-02-29</th>\n",
       "      <td>0.0</td>\n",
       "      <td>6.679161e-01</td>\n",
       "      <td>5.223314e-01</td>\n",
       "      <td>8.540783e-01</td>\n",
       "      <td>33.919390</td>\n",
       "      <td>5.677764e+01</td>\n",
       "      <td>4.258323e+01</td>\n",
       "    </tr>\n",
       "    <tr>\n",
       "      <th>2020-03-01</th>\n",
       "      <td>0.0</td>\n",
       "      <td>8.212908e-01</td>\n",
       "      <td>6.477399e-01</td>\n",
       "      <td>1.041342e+00</td>\n",
       "      <td>41.708357</td>\n",
       "      <td>6.981559e+01</td>\n",
       "      <td>5.236169e+01</td>\n",
       "    </tr>\n",
       "    <tr>\n",
       "      <th>2020-03-02</th>\n",
       "      <td>5.0</td>\n",
       "      <td>1.009885e+00</td>\n",
       "      <td>8.031807e-01</td>\n",
       "      <td>1.269787e+00</td>\n",
       "      <td>51.285919</td>\n",
       "      <td>8.584746e+01</td>\n",
       "      <td>6.438559e+01</td>\n",
       "    </tr>\n",
       "    <tr>\n",
       "      <th>2020-03-03</th>\n",
       "      <td>1.0</td>\n",
       "      <td>1.241787e+00</td>\n",
       "      <td>9.958164e-01</td>\n",
       "      <td>1.548513e+00</td>\n",
       "      <td>63.062793</td>\n",
       "      <td>1.055608e+02</td>\n",
       "      <td>7.917057e+01</td>\n",
       "    </tr>\n",
       "    <tr>\n",
       "      <th>2020-03-04</th>\n",
       "      <td>4.0</td>\n",
       "      <td>1.526941e+00</td>\n",
       "      <td>1.234506e+00</td>\n",
       "      <td>1.888648e+00</td>\n",
       "      <td>77.544011</td>\n",
       "      <td>1.298009e+02</td>\n",
       "      <td>9.735064e+01</td>\n",
       "    </tr>\n",
       "    <tr>\n",
       "      <th>2020-03-05</th>\n",
       "      <td>1.0</td>\n",
       "      <td>1.877575e+00</td>\n",
       "      <td>1.530203e+00</td>\n",
       "      <td>2.303804e+00</td>\n",
       "      <td>95.350575</td>\n",
       "      <td>1.596073e+02</td>\n",
       "      <td>1.197054e+02</td>\n",
       "    </tr>\n",
       "    <tr>\n",
       "      <th>2020-03-06</th>\n",
       "      <td>2.0</td>\n",
       "      <td>2.308725e+00</td>\n",
       "      <td>1.896440e+00</td>\n",
       "      <td>2.810641e+00</td>\n",
       "      <td>117.246092</td>\n",
       "      <td>1.962581e+02</td>\n",
       "      <td>1.471936e+02</td>\n",
       "    </tr>\n",
       "    <tr>\n",
       "      <th>2020-03-07</th>\n",
       "      <td>3.0</td>\n",
       "      <td>2.838882e+00</td>\n",
       "      <td>2.349936e+00</td>\n",
       "      <td>3.429562e+00</td>\n",
       "      <td>144.169514</td>\n",
       "      <td>2.413252e+02</td>\n",
       "      <td>1.809939e+02</td>\n",
       "    </tr>\n",
       "    <tr>\n",
       "      <th>2020-03-08</th>\n",
       "      <td>4.0</td>\n",
       "      <td>3.490779e+00</td>\n",
       "      <td>2.911319e+00</td>\n",
       "      <td>4.185574e+00</td>\n",
       "      <td>177.275407</td>\n",
       "      <td>2.967412e+02</td>\n",
       "      <td>2.225559e+02</td>\n",
       "    </tr>\n",
       "    <tr>\n",
       "      <th>2020-03-09</th>\n",
       "      <td>1.0</td>\n",
       "      <td>4.292373e+00</td>\n",
       "      <td>3.606035e+00</td>\n",
       "      <td>5.109341e+00</td>\n",
       "      <td>217.983464</td>\n",
       "      <td>3.648823e+02</td>\n",
       "      <td>2.736618e+02</td>\n",
       "    </tr>\n",
       "    <tr>\n",
       "      <th>2020-03-10</th>\n",
       "      <td>6.0</td>\n",
       "      <td>5.278038e+00</td>\n",
       "      <td>4.465440e+00</td>\n",
       "      <td>6.238508e+00</td>\n",
       "      <td>268.039381</td>\n",
       "      <td>4.486709e+02</td>\n",
       "      <td>3.365032e+02</td>\n",
       "    </tr>\n",
       "    <tr>\n",
       "      <th>...</th>\n",
       "      <td>...</td>\n",
       "      <td>...</td>\n",
       "      <td>...</td>\n",
       "      <td>...</td>\n",
       "      <td>...</td>\n",
       "      <td>...</td>\n",
       "      <td>...</td>\n",
       "    </tr>\n",
       "    <tr>\n",
       "      <th>2020-05-29</th>\n",
       "      <td>NaN</td>\n",
       "      <td>8.025593e+07</td>\n",
       "      <td>8.093151e+05</td>\n",
       "      <td>7.958600e+09</td>\n",
       "      <td>NaN</td>\n",
       "      <td>6.822327e+09</td>\n",
       "      <td>5.116745e+09</td>\n",
       "    </tr>\n",
       "    <tr>\n",
       "      <th>2020-05-30</th>\n",
       "      <td>NaN</td>\n",
       "      <td>9.868524e+07</td>\n",
       "      <td>9.447877e+05</td>\n",
       "      <td>1.030790e+10</td>\n",
       "      <td>NaN</td>\n",
       "      <td>8.388950e+09</td>\n",
       "      <td>6.291712e+09</td>\n",
       "    </tr>\n",
       "    <tr>\n",
       "      <th>2020-05-31</th>\n",
       "      <td>NaN</td>\n",
       "      <td>1.213465e+08</td>\n",
       "      <td>1.103571e+06</td>\n",
       "      <td>1.334303e+10</td>\n",
       "      <td>NaN</td>\n",
       "      <td>1.031532e+10</td>\n",
       "      <td>7.736489e+09</td>\n",
       "    </tr>\n",
       "    <tr>\n",
       "      <th>2020-06-01</th>\n",
       "      <td>NaN</td>\n",
       "      <td>1.492115e+08</td>\n",
       "      <td>1.289755e+06</td>\n",
       "      <td>1.726225e+10</td>\n",
       "      <td>NaN</td>\n",
       "      <td>1.268404e+10</td>\n",
       "      <td>9.513033e+09</td>\n",
       "    </tr>\n",
       "    <tr>\n",
       "      <th>2020-06-02</th>\n",
       "      <td>NaN</td>\n",
       "      <td>1.834752e+08</td>\n",
       "      <td>1.508162e+06</td>\n",
       "      <td>2.232065e+10</td>\n",
       "      <td>NaN</td>\n",
       "      <td>1.559670e+10</td>\n",
       "      <td>1.169753e+10</td>\n",
       "    </tr>\n",
       "    <tr>\n",
       "      <th>2020-06-03</th>\n",
       "      <td>NaN</td>\n",
       "      <td>2.256069e+08</td>\n",
       "      <td>1.764472e+06</td>\n",
       "      <td>2.884630e+10</td>\n",
       "      <td>NaN</td>\n",
       "      <td>1.917820e+10</td>\n",
       "      <td>1.438365e+10</td>\n",
       "    </tr>\n",
       "    <tr>\n",
       "      <th>2020-06-04</th>\n",
       "      <td>NaN</td>\n",
       "      <td>2.774134e+08</td>\n",
       "      <td>2.065385e+06</td>\n",
       "      <td>3.726095e+10</td>\n",
       "      <td>NaN</td>\n",
       "      <td>2.358212e+10</td>\n",
       "      <td>1.768659e+10</td>\n",
       "    </tr>\n",
       "    <tr>\n",
       "      <th>2020-06-05</th>\n",
       "      <td>NaN</td>\n",
       "      <td>3.411164e+08</td>\n",
       "      <td>2.418802e+06</td>\n",
       "      <td>4.810662e+10</td>\n",
       "      <td>NaN</td>\n",
       "      <td>2.899733e+10</td>\n",
       "      <td>2.174799e+10</td>\n",
       "    </tr>\n",
       "    <tr>\n",
       "      <th>2020-06-06</th>\n",
       "      <td>NaN</td>\n",
       "      <td>4.194475e+08</td>\n",
       "      <td>2.834040e+06</td>\n",
       "      <td>6.207964e+10</td>\n",
       "      <td>NaN</td>\n",
       "      <td>3.565603e+10</td>\n",
       "      <td>2.674202e+10</td>\n",
       "    </tr>\n",
       "    <tr>\n",
       "      <th>2020-06-07</th>\n",
       "      <td>NaN</td>\n",
       "      <td>5.157659e+08</td>\n",
       "      <td>3.322098e+06</td>\n",
       "      <td>8.007425e+10</td>\n",
       "      <td>NaN</td>\n",
       "      <td>4.384379e+10</td>\n",
       "      <td>3.288284e+10</td>\n",
       "    </tr>\n",
       "    <tr>\n",
       "      <th>2020-06-08</th>\n",
       "      <td>NaN</td>\n",
       "      <td>6.342022e+08</td>\n",
       "      <td>3.895955e+06</td>\n",
       "      <td>1.032385e+11</td>\n",
       "      <td>NaN</td>\n",
       "      <td>NaN</td>\n",
       "      <td>NaN</td>\n",
       "    </tr>\n",
       "    <tr>\n",
       "      <th>2020-06-09</th>\n",
       "      <td>NaN</td>\n",
       "      <td>7.798351e+08</td>\n",
       "      <td>4.570934e+06</td>\n",
       "      <td>1.330456e+11</td>\n",
       "      <td>NaN</td>\n",
       "      <td>NaN</td>\n",
       "      <td>NaN</td>\n",
       "    </tr>\n",
       "    <tr>\n",
       "      <th>2020-06-10</th>\n",
       "      <td>NaN</td>\n",
       "      <td>9.589100e+08</td>\n",
       "      <td>5.365134e+06</td>\n",
       "      <td>1.713859e+11</td>\n",
       "      <td>NaN</td>\n",
       "      <td>NaN</td>\n",
       "      <td>NaN</td>\n",
       "    </tr>\n",
       "    <tr>\n",
       "      <th>2020-06-11</th>\n",
       "      <td>NaN</td>\n",
       "      <td>1.179106e+09</td>\n",
       "      <td>6.299930e+06</td>\n",
       "      <td>2.206836e+11</td>\n",
       "      <td>NaN</td>\n",
       "      <td>NaN</td>\n",
       "      <td>NaN</td>\n",
       "    </tr>\n",
       "    <tr>\n",
       "      <th>2020-06-12</th>\n",
       "      <td>NaN</td>\n",
       "      <td>1.449866e+09</td>\n",
       "      <td>7.400579e+06</td>\n",
       "      <td>2.840470e+11</td>\n",
       "      <td>NaN</td>\n",
       "      <td>NaN</td>\n",
       "      <td>NaN</td>\n",
       "    </tr>\n",
       "    <tr>\n",
       "      <th>2020-06-13</th>\n",
       "      <td>NaN</td>\n",
       "      <td>1.782802e+09</td>\n",
       "      <td>8.696931e+06</td>\n",
       "      <td>3.654601e+11</td>\n",
       "      <td>NaN</td>\n",
       "      <td>NaN</td>\n",
       "      <td>NaN</td>\n",
       "    </tr>\n",
       "    <tr>\n",
       "      <th>2020-06-14</th>\n",
       "      <td>NaN</td>\n",
       "      <td>2.192189e+09</td>\n",
       "      <td>1.022427e+07</td>\n",
       "      <td>4.700280e+11</td>\n",
       "      <td>NaN</td>\n",
       "      <td>NaN</td>\n",
       "      <td>NaN</td>\n",
       "    </tr>\n",
       "    <tr>\n",
       "      <th>2020-06-15</th>\n",
       "      <td>NaN</td>\n",
       "      <td>NaN</td>\n",
       "      <td>NaN</td>\n",
       "      <td>NaN</td>\n",
       "      <td>NaN</td>\n",
       "      <td>NaN</td>\n",
       "      <td>NaN</td>\n",
       "    </tr>\n",
       "    <tr>\n",
       "      <th>2020-06-16</th>\n",
       "      <td>NaN</td>\n",
       "      <td>NaN</td>\n",
       "      <td>NaN</td>\n",
       "      <td>NaN</td>\n",
       "      <td>NaN</td>\n",
       "      <td>NaN</td>\n",
       "      <td>NaN</td>\n",
       "    </tr>\n",
       "    <tr>\n",
       "      <th>2020-06-17</th>\n",
       "      <td>NaN</td>\n",
       "      <td>NaN</td>\n",
       "      <td>NaN</td>\n",
       "      <td>NaN</td>\n",
       "      <td>NaN</td>\n",
       "      <td>NaN</td>\n",
       "      <td>NaN</td>\n",
       "    </tr>\n",
       "    <tr>\n",
       "      <th>2020-06-18</th>\n",
       "      <td>NaN</td>\n",
       "      <td>NaN</td>\n",
       "      <td>NaN</td>\n",
       "      <td>NaN</td>\n",
       "      <td>NaN</td>\n",
       "      <td>NaN</td>\n",
       "      <td>NaN</td>\n",
       "    </tr>\n",
       "    <tr>\n",
       "      <th>2020-06-19</th>\n",
       "      <td>NaN</td>\n",
       "      <td>NaN</td>\n",
       "      <td>NaN</td>\n",
       "      <td>NaN</td>\n",
       "      <td>NaN</td>\n",
       "      <td>NaN</td>\n",
       "      <td>NaN</td>\n",
       "    </tr>\n",
       "    <tr>\n",
       "      <th>2020-06-20</th>\n",
       "      <td>NaN</td>\n",
       "      <td>NaN</td>\n",
       "      <td>NaN</td>\n",
       "      <td>NaN</td>\n",
       "      <td>NaN</td>\n",
       "      <td>NaN</td>\n",
       "      <td>NaN</td>\n",
       "    </tr>\n",
       "    <tr>\n",
       "      <th>2020-06-21</th>\n",
       "      <td>NaN</td>\n",
       "      <td>NaN</td>\n",
       "      <td>NaN</td>\n",
       "      <td>NaN</td>\n",
       "      <td>NaN</td>\n",
       "      <td>NaN</td>\n",
       "      <td>NaN</td>\n",
       "    </tr>\n",
       "    <tr>\n",
       "      <th>2020-06-22</th>\n",
       "      <td>NaN</td>\n",
       "      <td>NaN</td>\n",
       "      <td>NaN</td>\n",
       "      <td>NaN</td>\n",
       "      <td>NaN</td>\n",
       "      <td>NaN</td>\n",
       "      <td>NaN</td>\n",
       "    </tr>\n",
       "    <tr>\n",
       "      <th>2020-06-23</th>\n",
       "      <td>NaN</td>\n",
       "      <td>NaN</td>\n",
       "      <td>NaN</td>\n",
       "      <td>NaN</td>\n",
       "      <td>NaN</td>\n",
       "      <td>NaN</td>\n",
       "      <td>NaN</td>\n",
       "    </tr>\n",
       "    <tr>\n",
       "      <th>2020-06-24</th>\n",
       "      <td>NaN</td>\n",
       "      <td>NaN</td>\n",
       "      <td>NaN</td>\n",
       "      <td>NaN</td>\n",
       "      <td>NaN</td>\n",
       "      <td>NaN</td>\n",
       "      <td>NaN</td>\n",
       "    </tr>\n",
       "    <tr>\n",
       "      <th>2020-06-25</th>\n",
       "      <td>NaN</td>\n",
       "      <td>NaN</td>\n",
       "      <td>NaN</td>\n",
       "      <td>NaN</td>\n",
       "      <td>NaN</td>\n",
       "      <td>NaN</td>\n",
       "      <td>NaN</td>\n",
       "    </tr>\n",
       "    <tr>\n",
       "      <th>2020-06-26</th>\n",
       "      <td>NaN</td>\n",
       "      <td>NaN</td>\n",
       "      <td>NaN</td>\n",
       "      <td>NaN</td>\n",
       "      <td>NaN</td>\n",
       "      <td>NaN</td>\n",
       "      <td>NaN</td>\n",
       "    </tr>\n",
       "    <tr>\n",
       "      <th>2020-06-27</th>\n",
       "      <td>NaN</td>\n",
       "      <td>NaN</td>\n",
       "      <td>NaN</td>\n",
       "      <td>NaN</td>\n",
       "      <td>NaN</td>\n",
       "      <td>NaN</td>\n",
       "      <td>NaN</td>\n",
       "    </tr>\n",
       "  </tbody>\n",
       "</table>\n",
       "<p>139 rows × 7 columns</p>\n",
       "</div>"
      ],
      "text/plain": [
       "            death  predicted_death   lower_bound   upper_bound    infected  \\\n",
       "2020-02-10    NaN              NaN           NaN           NaN    0.667916   \n",
       "2020-02-11    NaN              NaN           NaN           NaN    0.821291   \n",
       "2020-02-12    NaN              NaN           NaN           NaN    1.009885   \n",
       "2020-02-13    NaN              NaN           NaN           NaN    1.241787   \n",
       "2020-02-14    NaN              NaN           NaN           NaN    1.526941   \n",
       "2020-02-15    NaN              NaN           NaN           NaN    1.877575   \n",
       "2020-02-16    NaN              NaN           NaN           NaN    2.308725   \n",
       "2020-02-17    NaN              NaN           NaN           NaN    2.838882   \n",
       "2020-02-18    NaN              NaN           NaN           NaN    3.490779   \n",
       "2020-02-19    NaN              NaN           NaN           NaN    4.292373   \n",
       "2020-02-20    NaN              NaN           NaN           NaN    5.278038   \n",
       "2020-02-21    NaN              NaN           NaN           NaN    6.490043   \n",
       "2020-02-22    NaN              NaN           NaN           NaN    7.980363   \n",
       "2020-02-23    NaN              NaN           NaN           NaN    9.812907   \n",
       "2020-02-24    NaN              NaN           NaN           NaN   12.066262   \n",
       "2020-02-25    NaN              NaN           NaN           NaN   14.837058   \n",
       "2020-02-26    NaN              NaN           NaN           NaN   18.244117   \n",
       "2020-02-27    NaN              NaN           NaN           NaN   22.433545   \n",
       "2020-02-28    NaN              NaN           NaN           NaN   27.584999   \n",
       "2020-02-29    0.0     6.679161e-01  5.223314e-01  8.540783e-01   33.919390   \n",
       "2020-03-01    0.0     8.212908e-01  6.477399e-01  1.041342e+00   41.708357   \n",
       "2020-03-02    5.0     1.009885e+00  8.031807e-01  1.269787e+00   51.285919   \n",
       "2020-03-03    1.0     1.241787e+00  9.958164e-01  1.548513e+00   63.062793   \n",
       "2020-03-04    4.0     1.526941e+00  1.234506e+00  1.888648e+00   77.544011   \n",
       "2020-03-05    1.0     1.877575e+00  1.530203e+00  2.303804e+00   95.350575   \n",
       "2020-03-06    2.0     2.308725e+00  1.896440e+00  2.810641e+00  117.246092   \n",
       "2020-03-07    3.0     2.838882e+00  2.349936e+00  3.429562e+00  144.169514   \n",
       "2020-03-08    4.0     3.490779e+00  2.911319e+00  4.185574e+00  177.275407   \n",
       "2020-03-09    1.0     4.292373e+00  3.606035e+00  5.109341e+00  217.983464   \n",
       "2020-03-10    6.0     5.278038e+00  4.465440e+00  6.238508e+00  268.039381   \n",
       "...           ...              ...           ...           ...         ...   \n",
       "2020-05-29    NaN     8.025593e+07  8.093151e+05  7.958600e+09         NaN   \n",
       "2020-05-30    NaN     9.868524e+07  9.447877e+05  1.030790e+10         NaN   \n",
       "2020-05-31    NaN     1.213465e+08  1.103571e+06  1.334303e+10         NaN   \n",
       "2020-06-01    NaN     1.492115e+08  1.289755e+06  1.726225e+10         NaN   \n",
       "2020-06-02    NaN     1.834752e+08  1.508162e+06  2.232065e+10         NaN   \n",
       "2020-06-03    NaN     2.256069e+08  1.764472e+06  2.884630e+10         NaN   \n",
       "2020-06-04    NaN     2.774134e+08  2.065385e+06  3.726095e+10         NaN   \n",
       "2020-06-05    NaN     3.411164e+08  2.418802e+06  4.810662e+10         NaN   \n",
       "2020-06-06    NaN     4.194475e+08  2.834040e+06  6.207964e+10         NaN   \n",
       "2020-06-07    NaN     5.157659e+08  3.322098e+06  8.007425e+10         NaN   \n",
       "2020-06-08    NaN     6.342022e+08  3.895955e+06  1.032385e+11         NaN   \n",
       "2020-06-09    NaN     7.798351e+08  4.570934e+06  1.330456e+11         NaN   \n",
       "2020-06-10    NaN     9.589100e+08  5.365134e+06  1.713859e+11         NaN   \n",
       "2020-06-11    NaN     1.179106e+09  6.299930e+06  2.206836e+11         NaN   \n",
       "2020-06-12    NaN     1.449866e+09  7.400579e+06  2.840470e+11         NaN   \n",
       "2020-06-13    NaN     1.782802e+09  8.696931e+06  3.654601e+11         NaN   \n",
       "2020-06-14    NaN     2.192189e+09  1.022427e+07  4.700280e+11         NaN   \n",
       "2020-06-15    NaN              NaN           NaN           NaN         NaN   \n",
       "2020-06-16    NaN              NaN           NaN           NaN         NaN   \n",
       "2020-06-17    NaN              NaN           NaN           NaN         NaN   \n",
       "2020-06-18    NaN              NaN           NaN           NaN         NaN   \n",
       "2020-06-19    NaN              NaN           NaN           NaN         NaN   \n",
       "2020-06-20    NaN              NaN           NaN           NaN         NaN   \n",
       "2020-06-21    NaN              NaN           NaN           NaN         NaN   \n",
       "2020-06-22    NaN              NaN           NaN           NaN         NaN   \n",
       "2020-06-23    NaN              NaN           NaN           NaN         NaN   \n",
       "2020-06-24    NaN              NaN           NaN           NaN         NaN   \n",
       "2020-06-25    NaN              NaN           NaN           NaN         NaN   \n",
       "2020-06-26    NaN              NaN           NaN           NaN         NaN   \n",
       "2020-06-27    NaN              NaN           NaN           NaN         NaN   \n",
       "\n",
       "             symptomatic  hospitalized  \n",
       "2020-02-10           NaN           NaN  \n",
       "2020-02-11           NaN           NaN  \n",
       "2020-02-12           NaN           NaN  \n",
       "2020-02-13           NaN           NaN  \n",
       "2020-02-14           NaN           NaN  \n",
       "2020-02-15           NaN           NaN  \n",
       "2020-02-16           NaN           NaN  \n",
       "2020-02-17           NaN           NaN  \n",
       "2020-02-18           NaN           NaN  \n",
       "2020-02-19           NaN           NaN  \n",
       "2020-02-20           NaN           NaN  \n",
       "2020-02-21           NaN           NaN  \n",
       "2020-02-22  1.335832e+01  1.001874e+01  \n",
       "2020-02-23  1.642582e+01  1.231936e+01  \n",
       "2020-02-24  2.019771e+01  1.514828e+01  \n",
       "2020-02-25  2.483574e+01  1.862680e+01  \n",
       "2020-02-26  3.053881e+01  2.290411e+01  \n",
       "2020-02-27  3.755149e+01  2.816362e+01  \n",
       "2020-02-28  4.617451e+01  3.463088e+01  \n",
       "2020-02-29  5.677764e+01  4.258323e+01  \n",
       "2020-03-01  6.981559e+01  5.236169e+01  \n",
       "2020-03-02  8.584746e+01  6.438559e+01  \n",
       "2020-03-03  1.055608e+02  7.917057e+01  \n",
       "2020-03-04  1.298009e+02  9.735064e+01  \n",
       "2020-03-05  1.596073e+02  1.197054e+02  \n",
       "2020-03-06  1.962581e+02  1.471936e+02  \n",
       "2020-03-07  2.413252e+02  1.809939e+02  \n",
       "2020-03-08  2.967412e+02  2.225559e+02  \n",
       "2020-03-09  3.648823e+02  2.736618e+02  \n",
       "2020-03-10  4.486709e+02  3.365032e+02  \n",
       "...                  ...           ...  \n",
       "2020-05-29  6.822327e+09  5.116745e+09  \n",
       "2020-05-30  8.388950e+09  6.291712e+09  \n",
       "2020-05-31  1.031532e+10  7.736489e+09  \n",
       "2020-06-01  1.268404e+10  9.513033e+09  \n",
       "2020-06-02  1.559670e+10  1.169753e+10  \n",
       "2020-06-03  1.917820e+10  1.438365e+10  \n",
       "2020-06-04  2.358212e+10  1.768659e+10  \n",
       "2020-06-05  2.899733e+10  2.174799e+10  \n",
       "2020-06-06  3.565603e+10  2.674202e+10  \n",
       "2020-06-07  4.384379e+10  3.288284e+10  \n",
       "2020-06-08           NaN           NaN  \n",
       "2020-06-09           NaN           NaN  \n",
       "2020-06-10           NaN           NaN  \n",
       "2020-06-11           NaN           NaN  \n",
       "2020-06-12           NaN           NaN  \n",
       "2020-06-13           NaN           NaN  \n",
       "2020-06-14           NaN           NaN  \n",
       "2020-06-15           NaN           NaN  \n",
       "2020-06-16           NaN           NaN  \n",
       "2020-06-17           NaN           NaN  \n",
       "2020-06-18           NaN           NaN  \n",
       "2020-06-19           NaN           NaN  \n",
       "2020-06-20           NaN           NaN  \n",
       "2020-06-21           NaN           NaN  \n",
       "2020-06-22           NaN           NaN  \n",
       "2020-06-23           NaN           NaN  \n",
       "2020-06-24           NaN           NaN  \n",
       "2020-06-25           NaN           NaN  \n",
       "2020-06-26           NaN           NaN  \n",
       "2020-06-27           NaN           NaN  \n",
       "\n",
       "[139 rows x 7 columns]"
      ]
     },
     "execution_count": 54,
     "metadata": {},
     "output_type": "execute_result"
    }
   ],
   "source": [
    "daily.drop(columns=['ICU', 'hospital_beds'], errors='ignore')"
   ]
  },
  {
   "cell_type": "code",
   "execution_count": 1,
   "metadata": {},
   "outputs": [
    {
     "ename": "ModuleNotFoundError",
     "evalue": "No module named 'cufflinks'",
     "output_type": "error",
     "traceback": [
      "\u001b[0;31m---------------------------------------------------------------------------\u001b[0m",
      "\u001b[0;31mModuleNotFoundError\u001b[0m                       Traceback (most recent call last)",
      "\u001b[0;32m<ipython-input-1-da5f411ef60a>\u001b[0m in \u001b[0;36m<module>\u001b[0;34m\u001b[0m\n\u001b[0;32m----> 1\u001b[0;31m \u001b[0;32mimport\u001b[0m \u001b[0mcufflinks\u001b[0m \u001b[0;32mas\u001b[0m \u001b[0mcf\u001b[0m\u001b[0;34m\u001b[0m\u001b[0;34m\u001b[0m\u001b[0m\n\u001b[0m\u001b[1;32m      2\u001b[0m \u001b[0;32mimport\u001b[0m \u001b[0mplotly\u001b[0m\u001b[0;34m.\u001b[0m\u001b[0moffline\u001b[0m\u001b[0;34m\u001b[0m\u001b[0;34m\u001b[0m\u001b[0m\n\u001b[1;32m      3\u001b[0m \u001b[0mcf\u001b[0m\u001b[0;34m.\u001b[0m\u001b[0mgo_offline\u001b[0m\u001b[0;34m(\u001b[0m\u001b[0;34m)\u001b[0m\u001b[0;34m\u001b[0m\u001b[0;34m\u001b[0m\u001b[0m\n\u001b[1;32m      4\u001b[0m \u001b[0mcf\u001b[0m\u001b[0;34m.\u001b[0m\u001b[0mset_config_file\u001b[0m\u001b[0;34m(\u001b[0m\u001b[0moffline\u001b[0m\u001b[0;34m=\u001b[0m\u001b[0;32mFalse\u001b[0m\u001b[0;34m,\u001b[0m \u001b[0mworld_readable\u001b[0m\u001b[0;34m=\u001b[0m\u001b[0;32mTrue\u001b[0m\u001b[0;34m)\u001b[0m\u001b[0;34m\u001b[0m\u001b[0;34m\u001b[0m\u001b[0m\n",
      "\u001b[0;31mModuleNotFoundError\u001b[0m: No module named 'cufflinks'"
     ]
    }
   ],
   "source": [
    "import cufflinks as cf\n",
    "import plotly.offline\n",
    "cf.go_offline()\n",
    "cf.set_config_file(offline=False, world_readable=True)"
   ]
  },
  {
   "cell_type": "code",
   "execution_count": 57,
   "metadata": {},
   "outputs": [
    {
     "ename": "AttributeError",
     "evalue": "'DataFrame' object has no attribute 'iplot'",
     "output_type": "error",
     "traceback": [
      "\u001b[0;31m---------------------------------------------------------------------------\u001b[0m",
      "\u001b[0;31mAttributeError\u001b[0m                            Traceback (most recent call last)",
      "\u001b[0;32m<ipython-input-57-f0509973af89>\u001b[0m in \u001b[0;36m<module>\u001b[0;34m\u001b[0m\n\u001b[0;32m----> 1\u001b[0;31m \u001b[0mdaily\u001b[0m\u001b[0;34m.\u001b[0m\u001b[0miplot\u001b[0m\u001b[0;34m(\u001b[0m\u001b[0;34m)\u001b[0m\u001b[0;34m\u001b[0m\u001b[0;34m\u001b[0m\u001b[0m\n\u001b[0m",
      "\u001b[0;32m~/anaconda3/lib/python3.7/site-packages/pandas/core/generic.py\u001b[0m in \u001b[0;36m__getattr__\u001b[0;34m(self, name)\u001b[0m\n\u001b[1;32m   5065\u001b[0m             \u001b[0;32mif\u001b[0m \u001b[0mself\u001b[0m\u001b[0;34m.\u001b[0m\u001b[0m_info_axis\u001b[0m\u001b[0;34m.\u001b[0m\u001b[0m_can_hold_identifiers_and_holds_name\u001b[0m\u001b[0;34m(\u001b[0m\u001b[0mname\u001b[0m\u001b[0;34m)\u001b[0m\u001b[0;34m:\u001b[0m\u001b[0;34m\u001b[0m\u001b[0;34m\u001b[0m\u001b[0m\n\u001b[1;32m   5066\u001b[0m                 \u001b[0;32mreturn\u001b[0m \u001b[0mself\u001b[0m\u001b[0;34m[\u001b[0m\u001b[0mname\u001b[0m\u001b[0;34m]\u001b[0m\u001b[0;34m\u001b[0m\u001b[0;34m\u001b[0m\u001b[0m\n\u001b[0;32m-> 5067\u001b[0;31m             \u001b[0;32mreturn\u001b[0m \u001b[0mobject\u001b[0m\u001b[0;34m.\u001b[0m\u001b[0m__getattribute__\u001b[0m\u001b[0;34m(\u001b[0m\u001b[0mself\u001b[0m\u001b[0;34m,\u001b[0m \u001b[0mname\u001b[0m\u001b[0;34m)\u001b[0m\u001b[0;34m\u001b[0m\u001b[0;34m\u001b[0m\u001b[0m\n\u001b[0m\u001b[1;32m   5068\u001b[0m \u001b[0;34m\u001b[0m\u001b[0m\n\u001b[1;32m   5069\u001b[0m     \u001b[0;32mdef\u001b[0m \u001b[0m__setattr__\u001b[0m\u001b[0;34m(\u001b[0m\u001b[0mself\u001b[0m\u001b[0;34m,\u001b[0m \u001b[0mname\u001b[0m\u001b[0;34m,\u001b[0m \u001b[0mvalue\u001b[0m\u001b[0;34m)\u001b[0m\u001b[0;34m:\u001b[0m\u001b[0;34m\u001b[0m\u001b[0;34m\u001b[0m\u001b[0m\n",
      "\u001b[0;31mAttributeError\u001b[0m: 'DataFrame' object has no attribute 'iplot'"
     ]
    }
   ],
   "source": [
    "daily.iplot()"
   ]
  },
  {
   "cell_type": "code",
   "execution_count": null,
   "metadata": {},
   "outputs": [],
   "source": []
  }
 ],
 "metadata": {
  "kernelspec": {
   "display_name": "Python 3",
   "language": "python",
   "name": "python3"
  },
  "language_info": {
   "codemirror_mode": {
    "name": "ipython",
    "version": 3
   },
   "file_extension": ".py",
   "mimetype": "text/x-python",
   "name": "python",
   "nbconvert_exporter": "python",
   "pygments_lexer": "ipython3",
   "version": "3.7.3"
  }
 },
 "nbformat": 4,
 "nbformat_minor": 2
}
