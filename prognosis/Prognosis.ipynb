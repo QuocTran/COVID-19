{
 "cells": [
  {
   "cell_type": "code",
   "execution_count": null,
   "metadata": {},
   "outputs": [],
   "source": [
    "import pandas as pd\n",
    "import matplotlib.pyplot as plt\n",
    "import numpy as np\n",
    "import datetime as dt\n",
    "from sklearn import linear_model"
   ]
  },
  {
   "cell_type": "markdown",
   "metadata": {},
   "source": [
    "# Assumptions"
   ]
  },
  {
   "cell_type": "code",
   "execution_count": null,
   "metadata": {},
   "outputs": [],
   "source": [
    "DEATH_RATE = 0.01\n",
    "ICU_RATE = 0.05\n",
    "HOSPITAL_RATE = 0.15\n",
    "SYMPTOM_RATE = 0.2\n",
    "INFECT_2_HOSPITAL_TIME = 13\n",
    "HOSPITAL_2_ICU_TIME = 2\n",
    "ICU_2_DEATH_TIME = 5\n",
    "ICU_2_RECOVER_TIME = 11\n",
    "NOT_ICU_DISCHARGE_TIME = 7"
   ]
  },
  {
   "cell_type": "code",
   "execution_count": null,
   "metadata": {},
   "outputs": [],
   "source": [
    "avg_icu_time = int(np.round((ICU_2_DEATH_TIME*DEATH_RATE + ICU_2_RECOVER_TIME*(ICU_RATE-DEATH_RATE))/ICU_RATE, 0)) \n",
    "#(included both dead (5) and alive(11)): (5+11*4)/5\n",
    "# Only ICU (critical) can develop death\n",
    "avg_hospital_time = int(np.round(((HOSPITAL_2_ICU_TIME+ICU_2_DEATH_TIME)*DEATH_RATE+\n",
    "                                  (HOSPITAL_2_ICU_TIME+ICU_2_RECOVER_TIME+NOT_ICU_DISCHARGE_TIME)*(ICU_RATE-DEATH_RATE)+\n",
    "                                  NOT_ICU_DISCHARGE_TIME*(HOSPITAL_RATE-ICU_RATE))/HOSPITAL_RATE))\n",
    "#Average hospital time is 10 (assume 7 days discharge if not in ICU or come back from ICU): ((2+5)+(2+11+7)*4)+7*10)/15"
   ]
  },
  {
   "cell_type": "code",
   "execution_count": null,
   "metadata": {},
   "outputs": [],
   "source": [
    "avg_icu_time\n",
    "avg_hospital_time"
   ]
  },
  {
   "cell_type": "markdown",
   "metadata": {},
   "source": [
    "# Data"
   ]
  },
  {
   "cell_type": "code",
   "execution_count": null,
   "metadata": {},
   "outputs": [],
   "source": [
    "death_data = pd.read_csv('../csse_covid_19_data/csse_covid_19_time_series/time_series_covid19_deaths_global.csv')"
   ]
  },
  {
   "cell_type": "code",
   "execution_count": null,
   "metadata": {},
   "outputs": [],
   "source": [
    "death_data.head()"
   ]
  },
  {
   "cell_type": "code",
   "execution_count": null,
   "metadata": {},
   "outputs": [],
   "source": [
    "death_data.rename(index=str, columns={\"Country/Region\": \"Country\", \"Province/State\": \"State\"}, inplace=True)"
   ]
  },
  {
   "cell_type": "code",
   "execution_count": null,
   "metadata": {},
   "outputs": [],
   "source": [
    "local_death_data = death_data.query('Country == \"Korea, South\"').iloc[:,4:].T\n",
    "\n",
    "local_death_data.index = pd.to_datetime(local_death_data.index)"
   ]
  },
  {
   "cell_type": "code",
   "execution_count": null,
   "metadata": {},
   "outputs": [],
   "source": [
    "local_death_data.tail()"
   ]
  },
  {
   "cell_type": "code",
   "execution_count": null,
   "metadata": {},
   "outputs": [],
   "source": [
    "local_death_new = local_death_data.diff().fillna(0)"
   ]
  },
  {
   "cell_type": "code",
   "execution_count": null,
   "metadata": {},
   "outputs": [],
   "source": [
    "def get_impute_from_death(death_row, periods, end_date_offset=0):\n",
    "    date_ind = death_row.name\n",
    "    end_date = date_ind + dt.timedelta(end_date_offset)\n",
    "    date_range = pd.date_range(end=end_date, periods=periods)\n",
    "    return pd.DataFrame(death_row.tolist()*periods, index=date_range)"
   ]
  },
  {
   "cell_type": "code",
   "execution_count": null,
   "metadata": {},
   "outputs": [],
   "source": [
    "def get_hospital_beds_from_death(death_row):\n",
    "    '''Get imputation of hospital beds needed from one day record of new death'''\n",
    "    dead_hospital_use_periods = HOSPITAL_2_ICU_TIME+ICU_2_DEATH_TIME\n",
    "    dead_hospital_use = get_impute_from_death(death_row=death_row, \n",
    "                                              periods=dead_hospital_use_periods)\n",
    "    ICU_recovered_hospital_use_periods = HOSPITAL_2_ICU_TIME+ICU_2_RECOVER_TIME+NOT_ICU_DISCHARGE_TIME\n",
    "    ICU_recovered_hospital_use_end_date_offset = ICU_2_RECOVER_TIME-ICU_2_DEATH_TIME+NOT_ICU_DISCHARGE_TIME\n",
    "    ICU_recovered_hospital_use = get_impute_from_death(death_row=death_row, \n",
    "                                                       periods=ICU_recovered_hospital_use_periods,\n",
    "                                                       end_date_offset=ICU_recovered_hospital_use_end_date_offset)\n",
    "    no_ICU_hospital_use_periods = NOT_ICU_DISCHARGE_TIME\n",
    "    no_ICU_hospital_use_end_date_offset = -HOSPITAL_2_ICU_TIME-ICU_2_DEATH_TIME+NOT_ICU_DISCHARGE_TIME\n",
    "    no_ICU_hospital_use = get_impute_from_death(death_row=death_row, \n",
    "                                                periods=no_ICU_hospital_use_periods,\n",
    "                                                end_date_offset=no_ICU_hospital_use_end_date_offset)\n",
    "    hospital_beds = dead_hospital_use.add(((ICU_RATE-DEATH_RATE)/DEATH_RATE)*ICU_recovered_hospital_use, fill_value=0)\\\n",
    "                                     .add(((HOSPITAL_RATE-ICU_RATE)/DEATH_RATE)*no_ICU_hospital_use, fill_value=0)\n",
    "    hospital_beds.columns = ['hospital_beds']\n",
    "    return hospital_beds"
   ]
  },
  {
   "cell_type": "code",
   "execution_count": null,
   "metadata": {},
   "outputs": [],
   "source": [
    "def get_ICU_from_death(death_row):\n",
    "    '''Get imputation of ICU needed from one day record of new death'''\n",
    "    dead_ICU_use = get_impute_from_death(death_row=death_row, periods=ICU_2_DEATH_TIME)\n",
    "    recovered_ICU_use_end_date_offset = ICU_2_RECOVER_TIME-ICU_2_DEATH_TIME\n",
    "    recovered_ICU_use = get_impute_from_death(death_row=death_row, \n",
    "                                              periods=ICU_2_RECOVER_TIME,\n",
    "                                              end_date_offset=recovered_ICU_use_end_date_offset)\n",
    "    ICU_n = dead_ICU_use.add(((ICU_RATE-DEATH_RATE)/DEATH_RATE)*recovered_ICU_use, fill_value=0)\n",
    "    ICU_n.columns = ['ICU']\n",
    "    return ICU_n"
   ]
  },
  {
   "cell_type": "code",
   "execution_count": null,
   "metadata": {},
   "outputs": [],
   "source": [
    "def get_infected_cases(local_death_data):\n",
    "    '''This number only is close to number of confirmed case in country very early in the disease and \n",
    "    can still do contact tracing or very wide testing, eg. South Korea, Germany'''\n",
    "    delay_time = INFECT_2_HOSPITAL_TIME + HOSPITAL_2_ICU_TIME + ICU_2_DEATH_TIME\n",
    "    infected_cases = (1/DEATH_RATE)*local_death_data.tshift(-delay_time)\n",
    "    infected_cases.columns = ['infected']\n",
    "    return infected_cases"
   ]
  },
  {
   "cell_type": "code",
   "execution_count": null,
   "metadata": {},
   "outputs": [],
   "source": [
    "def get_symptomatic_cases(local_death_data):\n",
    "    '''This is number of cases that show clear symptoms (severe),\n",
    "    in country without investigative testing this is close to number of confirmed case, most country'''\n",
    "    delay_time = HOSPITAL_2_ICU_TIME + ICU_2_DEATH_TIME\n",
    "    symptomatic_cases = (SYMPTOM_RATE/DEATH_RATE)*local_death_data.tshift(-delay_time)\n",
    "    symptomatic_cases.columns = ['symptomatic']\n",
    "    return symptomatic_cases"
   ]
  },
  {
   "cell_type": "code",
   "execution_count": null,
   "metadata": {},
   "outputs": [],
   "source": [
    "def get_hospitalized_cases(local_death_data):\n",
    "    '''In country with severe lack of testing, this is close to number of confirmed case, eg. Italy, Iran'''\n",
    "    delay_time = HOSPITAL_2_ICU_TIME + ICU_2_DEATH_TIME\n",
    "    hospitalized_cases = (HOSPITAL_RATE/DEATH_RATE)*local_death_data.tshift(-delay_time)\n",
    "    hospitalized_cases.columns = ['hospitalized']\n",
    "    return hospitalized_cases"
   ]
  },
  {
   "cell_type": "code",
   "execution_count": null,
   "metadata": {},
   "outputs": [],
   "source": [
    "def get_number_hospital_beds_need(daily_local_death_new):\n",
    "    '''Calculate number of hospital bed needed from number of daily new death '''\n",
    "    # Start by first date\n",
    "    hospital_beds = get_hospital_beds_from_death(daily_local_death_new.iloc[0])\n",
    "    # Run through all days\n",
    "    for i in range(len(daily_local_death_new)-1):\n",
    "        hospital_beds = hospital_beds.add(get_hospital_beds_from_death(daily_local_death_new.iloc[i+1]), \n",
    "                                          fill_value=0)\n",
    "    return hospital_beds"
   ]
  },
  {
   "cell_type": "code",
   "execution_count": null,
   "metadata": {},
   "outputs": [],
   "source": [
    "def get_number_ICU_need(daily_local_death_new):\n",
    "    '''Calculate number of ICU needed from number of daily new death '''\n",
    "    # Start by first date\n",
    "    ICU_n = get_ICU_from_death(daily_local_death_new.iloc[0])\n",
    "    # Run through all days\n",
    "    for i in range(len(daily_local_death_new)-1):\n",
    "        ICU_n = ICU_n.add(get_ICU_from_death(daily_local_death_new.iloc[i+1]), fill_value=0)\n",
    "    return ICU_n"
   ]
  },
  {
   "cell_type": "code",
   "execution_count": null,
   "metadata": {},
   "outputs": [],
   "source": [
    "def get_log_daily_predicted_death(local_death_data, forecast_horizon=60, lockdown_date=None):\n",
    "    '''Since this is highly contagious disease. Daily new death, which is a proxy for daily new infected cases\n",
    "    is model as d(t)=a*d(t-1) or equivalent to d(t) = b*a^(t). After a log transform, it becomes linear.\n",
    "    log(d(t))=logb+t*loga, so we can use linear regression to provide forecast (use robust linear regressor to avoid\n",
    "    data anomaly in death reporting)\n",
    "    There are two seperate linear curves, one before the lockdown is effective(21 days after lockdown) and one after\n",
    "    For using this prediction to infer back the other metrics (infected cases, hospital, ICU, etc..) only the before\n",
    "    curve is used and valid. If we assume there is no new infection after lock down (perfect lockdown), the after\n",
    "    curve only depends on the distribution of time to death since ICU.\n",
    "    WARNING: if lockdown_date is not provided, we will default to no lockdown to raise awareness of worst case\n",
    "    if no action. If you have info on lockdown date please use it to make sure the model provide accurate result'''\n",
    "    daily_local_death_new = local_death_data.diff().fillna(0)\n",
    "    daily_local_death_new.columns = ['death']\n",
    "    log_daily_death = np.log(daily_local_death_new)\n",
    "    #log_daily_death.dropna(inplace=True)\n",
    "    data_start_date = min(local_death_data.index)\n",
    "    data_end_date = max(local_death_data.index)\n",
    "    forecast_end_date = data_end_date + dt.timedelta(forecast_horizon)\n",
    "    forecast_date_index = pd.date_range(start=data_start_date, end=forecast_end_date)\n",
    "    if lockdown_date is not None:\n",
    "        lockdown_date = pd.to_datetime(lockdown_date)\n",
    "    else:\n",
    "        lockdown_date = forecast_end_date\n",
    "    lockdown_effective_date = lockdown_date + dt.timedelta(INFECT_2_HOSPITAL_TIME+HOSPITAL_2_ICU_TIME+ICU_2_DEATH_TIME)\n",
    "    data_end_date_idx = (data_end_date - lockdown_effective_date).days\n",
    "    forecast_end_date_idx = data_end_date_idx + forecast_horizon\n",
    "    forecast_time_idx = (forecast_date_index - lockdown_effective_date).days.values\n",
    "    data_time_idx = (log_daily_death.index - lockdown_effective_date).days.values\n",
    "    log_daily_death['time_idx'] = data_time_idx\n",
    "    log_daily_death = log_daily_death.replace([np.inf, -np.inf], np.nan).dropna()\n",
    "    log_daily_death_before = log_daily_death[log_daily_death.time_idx<0]\n",
    "    regr_before = linear_model.HuberRegressor(fit_intercept=True)\n",
    "    regr_before.fit(log_daily_death_before.time_idx.values.reshape(-1, 1), log_daily_death_before.death)\n",
    "    log_predicted_death_before_values = regr_before.predict(forecast_time_idx[forecast_time_idx<0].reshape(-1, 1))\n",
    "    log_predicted_death_before_index = forecast_date_index[forecast_time_idx<0]\n",
    "    log_predicted_death_before = pd.DataFrame(log_predicted_death_before_values, \n",
    "                                              index=log_predicted_death_before_index)\n",
    "    log_predicted_death_before.columns = ['predicted_death_before_lockdown_effective']\n",
    "    if all(data_time_idx<0):\n",
    "        log_predicted_death_after = None\n",
    "        return log_predicted_death_before, log_predicted_death_after\n",
    " \n",
    "    log_daily_death_after = log_daily_death[log_daily_death.time_idx>=0]\n",
    "    regr_after = linear_model.HuberRegressor(fit_intercept=True)\n",
    "    regr_after.fit(log_daily_death_after.time_idx.values.reshape(-1, 1), log_daily_death_after.death)\n",
    "    log_predicted_death_after_values = regr_after.predict(forecast_time_idx[forecast_time_idx>=0].reshape(-1, 1))\n",
    "    log_predicted_death_after_index = forecast_date_index[forecast_time_idx>=0]\n",
    "    log_predicted_death_after = pd.DataFrame(log_predicted_death_after_values, \n",
    "                                              index=log_predicted_death_after_index)\n",
    "    \n",
    "    log_predicted_death_after.columns = ['predicted_death_after_lockdown_effective']\n",
    "    return log_predicted_death_before, log_predicted_death_after"
   ]
  },
  {
   "cell_type": "code",
   "execution_count": null,
   "metadata": {},
   "outputs": [],
   "source": [
    "def get_daily_predicted_death(local_death_data, forecast_horizon=60, lockdown_date=None):\n",
    "    log_predicted_death_before, log_predicted_death_after = get_log_daily_predicted_death(local_death_data, \n",
    "                                                                                          forecast_horizon, \n",
    "                                                                                          lockdown_date)\n",
    "    log_predicted_death_before.columns = ['predicted_death']\n",
    "    log_predicted_death_after.columns = ['predicted_death']\n",
    "    \n",
    "    return np.exp(pd.concat([log_predicted_death_before, log_predicted_death_after], axis=0)).astype(int)"
   ]
  },
  {
   "cell_type": "code",
   "execution_count": null,
   "metadata": {},
   "outputs": [],
   "source": [
    "def get_cummulative_predicted_death(local_death_data, forecast_horizon=60, lockdown_date=None):\n",
    "    return get_daily_predicted_death(local_death_data, forecast_horizon, lockdown_date).cumsum()"
   ]
  },
  {
   "cell_type": "code",
   "execution_count": null,
   "metadata": {},
   "outputs": [],
   "source": [
    "def get_daily_metrics_from_death_data(local_death_data, forecast_horizon=60, lockdown_date=None):\n",
    "    daily_predicted_death = get_daily_predicted_death(local_death_data, forecast_horizon, lockdown_date)\n",
    "    daily_local_death_new = local_death_data.diff().fillna(0)\n",
    "    daily_local_death_new.columns = ['death']\n",
    "    daily_infected_cases_new = get_infected_cases(daily_local_death_new)\n",
    "    daily_symptomatic_cases_new = get_symptomatic_cases(daily_local_death_new)\n",
    "    daily_hospitalized_cases_new = get_hospitalized_cases(daily_local_death_new)\n",
    "    daily_hospital_beds_need = get_number_hospital_beds_need(daily_local_death_new)\n",
    "    daily_ICU_need = get_number_ICU_need(daily_local_death_new)\n",
    "    return pd.concat([daily_local_death_new,\n",
    "                      daily_predicted_death,\n",
    "                      daily_infected_cases_new,\n",
    "                      daily_symptomatic_cases_new,\n",
    "                      daily_hospitalized_cases_new,\n",
    "                      daily_hospital_beds_need, \n",
    "                      daily_ICU_need], axis=1, sort=True).fillna(0)\n",
    "    "
   ]
  },
  {
   "cell_type": "code",
   "execution_count": null,
   "metadata": {},
   "outputs": [],
   "source": [
    "def get_daily_predicted_metrics_from_death_data(local_death_data, forecast_horizon=60, lockdown_date=None):\n",
    "    daily_predicted_death = get_daily_predicted_death(local_death_data, forecast_horizon, lockdown_date)\n",
    "    daily_local_death_new = local_death_data.diff().fillna(0)\n",
    "    daily_local_death_new.columns = ['death']\n",
    "    daily_infected_cases_new = get_infected_cases(daily_predicted_death)\n",
    "    daily_symptomatic_cases_new = get_symptomatic_cases(daily_predicted_death)\n",
    "    daily_hospitalized_cases_new = get_hospitalized_cases(daily_predicted_death)\n",
    "    daily_hospital_beds_need = get_number_hospital_beds_need(daily_predicted_death)\n",
    "    daily_ICU_need = get_number_ICU_need(daily_predicted_death)\n",
    "    return pd.concat([daily_local_death_new,\n",
    "                      daily_predicted_death,\n",
    "                      daily_infected_cases_new,\n",
    "                      daily_symptomatic_cases_new,\n",
    "                      daily_hospitalized_cases_new,\n",
    "                      daily_hospital_beds_need, \n",
    "                      daily_ICU_need], axis=1, sort=True).fillna(0)\n",
    "\n"
   ]
  },
  {
   "cell_type": "code",
   "execution_count": null,
   "metadata": {},
   "outputs": [],
   "source": [
    "def get_cummulative_metrics_from_death_data(local_death_data, forecast_horizon=60, lockdown_date=None):\n",
    "    daily_metrics = get_daily_metrics_from_death_data(local_death_data, forecast_horizon, lockdown_date)\n",
    "    cummulative_metrics = daily_metrics.cumsum()\n",
    "    cummulative_metrics['ICU'] = daily_metrics['ICU']\n",
    "    cummulative_metrics['hospital_beds'] = daily_metrics['hospital_beds']\n",
    "    return cummulative_metrics"
   ]
  },
  {
   "cell_type": "code",
   "execution_count": null,
   "metadata": {},
   "outputs": [],
   "source": [
    "def get_cummulative_predicted_metrics_from_death_data(local_death_data, forecast_horizon=60, lockdown_date=None):\n",
    "    daily_metrics = get_daily_predicted_metrics_from_death_data(local_death_data, forecast_horizon, lockdown_date)\n",
    "    cummulative_metrics = daily_metrics.cumsum()\n",
    "    cummulative_metrics['ICU'] = daily_metrics['ICU']\n",
    "    cummulative_metrics['hospital_beds'] = daily_metrics['hospital_beds']\n",
    "    return cummulative_metrics"
   ]
  },
  {
   "cell_type": "code",
   "execution_count": null,
   "metadata": {},
   "outputs": [],
   "source": [
    "local_death_data = death_data.query('Country == \"China\"').iloc[:,4:].T.sum(axis=1).to_frame()\n",
    "local_death_data.index = pd.to_datetime(local_death_data.index)\n",
    "daily_local_death_new = local_death_data.diff().fillna(0)\n",
    "daily_local_death_new.columns = ['death']\n",
    "log_daily_death = np.log(daily_local_death_new)\n",
    "log_daily_death.plot(kind='bar')"
   ]
  },
  {
   "cell_type": "code",
   "execution_count": null,
   "metadata": {},
   "outputs": [],
   "source": [
    "from sklearn import linear_model\n",
    "regr = linear_model.HuberRegressor(fit_intercept=True)"
   ]
  },
  {
   "cell_type": "code",
   "execution_count": null,
   "metadata": {},
   "outputs": [],
   "source": [
    "regr.fit(time_idx_before_train.reshape(-1, 1), log_daily_death_before_train)\n",
    "\n",
    "log_predicted_death_before_values = regr.predict(time_idx_before.reshape(-1, 1))\n",
    "\n",
    "log_predicted_death_before_index = log_daily_death_before.index\n",
    "\n",
    "log_predicted_death_before = pd.DataFrame(log_predicted_death_before_values, index=log_predicted_death_before_index)\n",
    "\n",
    "log_predicted_death_before.columns = ['predicted_death']"
   ]
  },
  {
   "cell_type": "code",
   "execution_count": null,
   "metadata": {},
   "outputs": [],
   "source": [
    "pd.concat([log_daily_death_before, log_predicted_death_before], axis=1).plot()"
   ]
  },
  {
   "cell_type": "code",
   "execution_count": null,
   "metadata": {},
   "outputs": [],
   "source": [
    "log_predicted_death_before"
   ]
  },
  {
   "cell_type": "code",
   "execution_count": null,
   "metadata": {},
   "outputs": [],
   "source": [
    "local_death_data.index"
   ]
  },
  {
   "cell_type": "code",
   "execution_count": null,
   "metadata": {},
   "outputs": [],
   "source": [
    "dir(local_death_data.index - lockdown_effective_date)"
   ]
  },
  {
   "cell_type": "code",
   "execution_count": null,
   "metadata": {},
   "outputs": [],
   "source": [
    "fig = plt.figure()\n",
    "ax = fig.add_subplot(1, 1, 1)\n",
    "log_daily_death.plot(kind='bar', ax=ax)\n"
   ]
  },
  {
   "cell_type": "code",
   "execution_count": null,
   "metadata": {},
   "outputs": [],
   "source": [
    "def plot_log_death_new_by_country(country, lockdown_date=None):\n",
    "    local_death_data = death_data.query('Country == \"{}\"'.format(country)).iloc[:,4:].T.sum(axis=1).to_frame()\n",
    "    local_death_data.index = pd.to_datetime(local_death_data.index)\n",
    "    daily_local_death_new = local_death_data.diff().fillna(0)\n",
    "    daily_local_death_new.columns = ['death']\n",
    "    log_daily_death = np.log(daily_local_death_new)\n",
    "    #log_daily_death.dropna(inplace=True)\n",
    "    log_daily_death.plot(kind='bar', title=\"Log of daily death over time for {}\".format(country))\n",
    "    log_predicted_death_before, log_predicted_death_after = get_log_daily_predicted_death(local_death_data, \n",
    "                                                                                lockdown_date=lockdown_date)\n",
    "    pd.concat([log_daily_death, log_predicted_death_before, log_predicted_death_after], axis=1).plot()"
   ]
  },
  {
   "cell_type": "code",
   "execution_count": null,
   "metadata": {},
   "outputs": [],
   "source": [
    "plot_log_death_new_by_country('China', lockdown_date='20200123')"
   ]
  },
  {
   "cell_type": "code",
   "execution_count": null,
   "metadata": {},
   "outputs": [],
   "source": [
    "plot_log_death_new_by_country('Italy', lockdown_date='20200301') #Official date 09 March"
   ]
  },
  {
   "cell_type": "code",
   "execution_count": null,
   "metadata": {},
   "outputs": [],
   "source": [
    "plot_log_death_new_by_country('Spain', lockdown_date='20200305') #official date 14 March"
   ]
  },
  {
   "cell_type": "code",
   "execution_count": null,
   "metadata": {},
   "outputs": [],
   "source": [
    "plot_log_death_new_by_country('France', lockdown_date='20200331')"
   ]
  },
  {
   "cell_type": "code",
   "execution_count": null,
   "metadata": {
    "scrolled": true
   },
   "outputs": [],
   "source": [
    "plot_log_death_new_by_country('Germany')"
   ]
  },
  {
   "cell_type": "code",
   "execution_count": null,
   "metadata": {},
   "outputs": [],
   "source": [
    "plot_log_death_new_by_country('United Kingdom')"
   ]
  },
  {
   "cell_type": "markdown",
   "metadata": {},
   "source": [
    "# The tails of two curves 21 days after lockdown"
   ]
  },
  {
   "cell_type": "code",
   "execution_count": null,
   "metadata": {},
   "outputs": [],
   "source": [
    "plot_log_death_new_by_country('Iran', lockdown_date='20200227') #Official date unclear"
   ]
  },
  {
   "cell_type": "code",
   "execution_count": null,
   "metadata": {},
   "outputs": [],
   "source": [
    "plot_log_death_new_by_country('China',  lockdown_date='20200123')"
   ]
  },
  {
   "cell_type": "code",
   "execution_count": null,
   "metadata": {
    "scrolled": true
   },
   "outputs": [],
   "source": [
    "daily_metrics = get_daily_metrics_from_death_data(local_death_data)"
   ]
  },
  {
   "cell_type": "code",
   "execution_count": null,
   "metadata": {},
   "outputs": [],
   "source": [
    "cummulative_metrics = get_cummulative_metrics_from_death_data(local_death_data, lockdown_date='20200123')"
   ]
  },
  {
   "cell_type": "code",
   "execution_count": null,
   "metadata": {},
   "outputs": [],
   "source": [
    "cummulative_metrics[['death', 'predicted_death', 'ICU', 'hospital_beds']].plot(title='China Cummulative')"
   ]
  },
  {
   "cell_type": "code",
   "execution_count": null,
   "metadata": {},
   "outputs": [],
   "source": [
    "cummulative_metrics[['death', 'predicted_death_before_lockdown_effective', 'symptomatic', 'hospitalized', 'ICU', 'hospital_beds']].plot(title='China Cummulative')"
   ]
  },
  {
   "cell_type": "code",
   "execution_count": null,
   "metadata": {},
   "outputs": [],
   "source": [
    "daily_metrics[['death', 'symptomatic', 'hospitalized', 'ICU']].plot(title='China Daily')"
   ]
  },
  {
   "cell_type": "code",
   "execution_count": null,
   "metadata": {
    "scrolled": true
   },
   "outputs": [],
   "source": [
    "get_number_ICU_need(local_death_data).plot()"
   ]
  },
  {
   "cell_type": "code",
   "execution_count": null,
   "metadata": {},
   "outputs": [],
   "source": [
    "cummulative_metrics.plot()"
   ]
  },
  {
   "cell_type": "code",
   "execution_count": null,
   "metadata": {},
   "outputs": [],
   "source": [
    "death_data.Country.values"
   ]
  },
  {
   "cell_type": "markdown",
   "metadata": {},
   "source": [
    "TODO: add enddate for predicted function\n",
    "    add function to get country and provided all number\n",
    "    add function get county and provided all number"
   ]
  },
  {
   "cell_type": "code",
   "execution_count": null,
   "metadata": {},
   "outputs": [],
   "source": []
  }
 ],
 "metadata": {
  "kernelspec": {
   "display_name": "Python 3",
   "language": "python",
   "name": "python3"
  },
  "language_info": {
   "codemirror_mode": {
    "name": "ipython",
    "version": 3
   },
   "file_extension": ".py",
   "mimetype": "text/x-python",
   "name": "python",
   "nbconvert_exporter": "python",
   "pygments_lexer": "ipython3",
   "version": "3.7.3"
  }
 },
 "nbformat": 4,
 "nbformat_minor": 2
}
