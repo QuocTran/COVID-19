{
 "cells": [
  {
   "cell_type": "code",
   "execution_count": null,
   "metadata": {},
   "outputs": [],
   "source": [
    "import model_utils as mu\n",
    "mu.DEATH_RATE = 1.0\n",
    "mu.ICU_RATE = 5.0\n",
    "mu.HOSPITAL_RATE = 15.0\n",
    "mu.SYMPTOM_RATE = 20.0\n",
    "mu.INFECT_2_HOSPITAL_TIME = 12\n",
    "mu.HOSPITAL_2_ICU_TIME = 2\n",
    "mu.ICU_2_DEATH_TIME = 5\n",
    "mu.ICU_2_RECOVER_TIME = 11\n",
    "mu.NOT_ICU_DISCHARGE_TIME = 7"
   ]
  },
  {
   "cell_type": "code",
   "execution_count": null,
   "metadata": {},
   "outputs": [],
   "source": [
    "log_pre, mb = mu.get_log_daily_predicted_death_by_country('Singapore', lockdown_date='20200415')"
   ]
  },
  {
   "cell_type": "code",
   "execution_count": null,
   "metadata": {},
   "outputs": [],
   "source": [
    "daily_metrics, cum_metrics, model_beta = mu.get_metrics_by_country('US', lockdown_date='20200317')"
   ]
  },
  {
   "cell_type": "code",
   "execution_count": null,
   "metadata": {},
   "outputs": [],
   "source": [
    "daily_metrics.plot()"
   ]
  },
  {
   "cell_type": "code",
   "execution_count": null,
   "metadata": {},
   "outputs": [],
   "source": [
    "import plotly.offline as py_offline\n",
    "import cufflinks as cf\n",
    "cf.go_offline()\n",
    "py_offline.__PLOTLY_OFFLINE_INITIALIZED = True"
   ]
  },
  {
   "cell_type": "code",
   "execution_count": null,
   "metadata": {},
   "outputs": [],
   "source": [
    "daily_metrics.iplot()"
   ]
  }
 ],
 "metadata": {
  "kernelspec": {
   "display_name": "Python 3",
   "language": "python",
   "name": "python3"
  },
  "language_info": {
   "codemirror_mode": {
    "name": "ipython",
    "version": 3
   },
   "file_extension": ".py",
   "mimetype": "text/x-python",
   "name": "python",
   "nbconvert_exporter": "python",
   "pygments_lexer": "ipython3",
   "version": "3.7.3"
  }
 },
 "nbformat": 4,
 "nbformat_minor": 2
}
